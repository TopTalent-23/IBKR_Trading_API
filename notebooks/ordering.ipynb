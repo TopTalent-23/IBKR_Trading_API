{
 "cells": [
  {
   "cell_type": "markdown",
   "metadata": {},
   "source": [
    "# Ordering\n",
    "\n",
    "\n",
    "## Warning: This notebook will place live orders\n",
    "\n",
    "Use a papertrading account when running this notebook.\n"
   ]
  },
  {
   "cell_type": "code",
   "execution_count": 2,
   "metadata": {
    "scrolled": true
   },
   "outputs": [
    {
     "name": "stdout",
     "output_type": "stream",
     "text": [
      "[]\n"
     ]
    }
   ],
   "source": [
    "from ib_insync import *\n",
    "util.startLoop()\n",
    "\n",
    "ib = IB()\n",
    "ib.connect('127.0.0.1', 7497, clientId=13)\n",
    "print(ib.openOrders())"
   ]
  },
  {
   "cell_type": "markdown",
   "metadata": {},
   "source": [
    "Create a contract and a market order:"
   ]
  },
  {
   "cell_type": "code",
   "execution_count": 4,
   "metadata": {
    "collapsed": true
   },
   "outputs": [],
   "source": [
    "contract = Stock('AAPL', 'SMART', 'USD')\n",
    "ib.qualifyContracts(contract)\n",
    "\n",
    "order = MarketOrder('BUY', 100)"
   ]
  },
  {
   "cell_type": "markdown",
   "metadata": {},
   "source": [
    "placeOrder will place the order order and return a ``Trade`` object right away (non-blocking):"
   ]
  },
  {
   "cell_type": "code",
   "execution_count": 6,
   "metadata": {},
   "outputs": [
    {
     "name": "stderr",
     "output_type": "stream",
     "text": [
      "DEBUG:ib_insync.client:>>> 3,45,30,265598,AAPL,STK,,0.0,,,SMART,NASDAQ,USD,AAPL,NMS,,,BUY,100,MKT,,,,,,O,0,,1,0,0,0,0,0,0,0,,0,,,,,,,,0,,-1,0,,,0,,,1,1,,0,,,,,,0,,,,,0,,,,,,,,,,,0,,,0,0,,,0,,0,0,0,0,,1.7976931348623157e+308,1.7976931348623157e+308,1.7976931348623157e+308,1.7976931348623157e+308,1.7976931348623157e+308,0,,,,1.7976931348623157e+308,\n",
      "2017-08-12 13:41:57,522 ib_insync.client DEBUG >>> 3,45,30,265598,AAPL,STK,,0.0,,,SMART,NASDAQ,USD,AAPL,NMS,,,BUY,100,MKT,,,,,,O,0,,1,0,0,0,0,0,0,0,,0,,,,,,,,0,,-1,0,,,0,,,1,1,,0,,,,,,0,,,,,0,,,,,,,,,,,0,,,0,0,,,0,,0,0,0,0,,1.7976931348623157e+308,1.7976931348623157e+308,1.7976931348623157e+308,1.7976931348623157e+308,1.7976931348623157e+308,0,,,,1.7976931348623157e+308,\n",
      "INFO:ib_insync.ib:placeOrder: New order Trade(contract=Stock(conId=265598, symbol='AAPL', exchange='SMART', primaryExchange='NASDAQ', currency='USD', localSymbol='AAPL', tradingClass='NMS'), order=MarketOrder(orderId=30, action='BUY', totalQuantity=100), orderStatus=OrderStatus(status='PendingSubmit'), fills=[], log=[TradeLogEntry(time=datetime.datetime(2017, 8, 12, 11, 41, 57, 530326, tzinfo=datetime.timezone.utc), status='PendingSubmit', message='')])\n",
      "2017-08-12 13:41:57,530 ib_insync.ib INFO placeOrder: New order Trade(contract=Stock(conId=265598, symbol='AAPL', exchange='SMART', primaryExchange='NASDAQ', currency='USD', localSymbol='AAPL', tradingClass='NMS'), order=MarketOrder(orderId=30, action='BUY', totalQuantity=100), orderStatus=OrderStatus(status='PendingSubmit'), fills=[], log=[TradeLogEntry(time=datetime.datetime(2017, 8, 12, 11, 41, 57, 530326, tzinfo=datetime.timezone.utc), status='PendingSubmit', message='')])\n"
     ]
    },
    {
     "data": {
      "text/plain": [
       "Trade(contract=Stock(conId=265598, symbol='AAPL', exchange='SMART', primaryExchange='NASDAQ', currency='USD', localSymbol='AAPL', tradingClass='NMS'), order=MarketOrder(orderId=30, action='BUY', totalQuantity=100), orderStatus=OrderStatus(status='PendingSubmit'), fills=[], log=[TradeLogEntry(time=datetime.datetime(2017, 8, 12, 11, 41, 57, 530326, tzinfo=datetime.timezone.utc), status='PendingSubmit', message='')])"
      ]
     },
     "execution_count": 6,
     "metadata": {},
     "output_type": "execute_result"
    },
    {
     "name": "stderr",
     "output_type": "stream",
     "text": [
      "DEBUG:ib_insync.client:<<< 61,3,DU15171,265598,AAPL,STK,,0.0,,,NASDAQ,USD,AAPL,NMS,600,155.44166666666666\n",
      "2017-08-12 13:41:57,633 ib_insync.client DEBUG <<< 61,3,DU15171,265598,AAPL,STK,,0.0,,,NASDAQ,USD,AAPL,NMS,600,155.44166666666666\n",
      "INFO:ib_insync.wrapper:position: Position(account='DU15171', contract=Contract(conId=265598, symbol='AAPL', secType='STK', exchange='NASDAQ', currency='USD', localSymbol='AAPL', tradingClass='NMS'), position=600.0, avgCost=155.44166666666666)\n",
      "2017-08-12 13:41:57,634 ib_insync.wrapper INFO position: Position(account='DU15171', contract=Contract(conId=265598, symbol='AAPL', secType='STK', exchange='NASDAQ', currency='USD', localSymbol='AAPL', tradingClass='NMS'), position=600.0, avgCost=155.44166666666666)\n",
      "DEBUG:ib_insync.client:<<< 11,10,-1,30,265598,AAPL,STK,,0.0,,,ISLAND,USD,AAPL,NMS,00004466.598e7df4.01.01,20170812  13:41:57,DU15171,ISLAND,BOT,100,155.47,1949228182,13,0,100,155.47,,,,\n",
      "2017-08-12 13:41:57,635 ib_insync.client DEBUG <<< 11,10,-1,30,265598,AAPL,STK,,0.0,,,ISLAND,USD,AAPL,NMS,00004466.598e7df4.01.01,20170812  13:41:57,DU15171,ISLAND,BOT,100,155.47,1949228182,13,0,100,155.47,,,,\n",
      "INFO:ib_insync.wrapper:execDetails: Fill(contract=Stock(conId=265598, symbol='AAPL', exchange='SMART', primaryExchange='NASDAQ', currency='USD', localSymbol='AAPL', tradingClass='NMS'), execution=Execution(execId='00004466.598e7df4.01.01', time='20170812  13:41:57', acctNumber='DU15171', exchange='ISLAND', side='BOT', shares=100.0, price=155.47, permId=1949228182, clientId=13, orderId=30, cumQty=100.0, avgPrice=155.47), commissionReport=CommissionReport(), time=datetime.datetime(2017, 8, 12, 11, 41, 57, 635910, tzinfo=datetime.timezone.utc))\n",
      "2017-08-12 13:41:57,637 ib_insync.wrapper INFO execDetails: Fill(contract=Stock(conId=265598, symbol='AAPL', exchange='SMART', primaryExchange='NASDAQ', currency='USD', localSymbol='AAPL', tradingClass='NMS'), execution=Execution(execId='00004466.598e7df4.01.01', time='20170812  13:41:57', acctNumber='DU15171', exchange='ISLAND', side='BOT', shares=100.0, price=155.47, permId=1949228182, clientId=13, orderId=30, cumQty=100.0, avgPrice=155.47), commissionReport=CommissionReport(), time=datetime.datetime(2017, 8, 12, 11, 41, 57, 635910, tzinfo=datetime.timezone.utc))\n",
      "DEBUG:ib_insync.client:<<< 5,34,30,265598,AAPL,STK,,0,?,,SMART,USD,AAPL,NMS,BUY,100,MKT,155.47,0.0,DAY,,DU15171,O,0,,13,1949228182,0,0,0,,1949228182.0/DU15171/100,,,,,,,,,,0,,-1,0,,,,,,,0,0,0,,3,1,1,,0,0,,0,None,,0,,,,?,0,0,,0,0,,,,,,0,0,0,,,,,0,,IB,0,0,,0,0,Filled,1.7976931348623157E308,1.7976931348623157E308,1.7976931348623157E308,,,,,,0,0,0,None,1.7976931348623157E308,156.47,1.7976931348623157E308,1.7976931348623157E308,1.7976931348623157E308,1.7976931348623157E308,0,,,,1.7976931348623157E308\n",
      "2017-08-12 13:41:57,638 ib_insync.client DEBUG <<< 5,34,30,265598,AAPL,STK,,0,?,,SMART,USD,AAPL,NMS,BUY,100,MKT,155.47,0.0,DAY,,DU15171,O,0,,13,1949228182,0,0,0,,1949228182.0/DU15171/100,,,,,,,,,,0,,-1,0,,,,,,,0,0,0,,3,1,1,,0,0,,0,None,,0,,,,?,0,0,,0,0,,,,,,0,0,0,,,,,0,,IB,0,0,,0,0,Filled,1.7976931348623157E308,1.7976931348623157E308,1.7976931348623157E308,,,,,,0,0,0,None,1.7976931348623157E308,156.47,1.7976931348623157E308,1.7976931348623157E308,1.7976931348623157E308,1.7976931348623157E308,0,,,,1.7976931348623157E308\n",
      "DEBUG:ib_insync.client:<<< 3,6,30,Filled,100,0,155.47,1949228182,0,155.47,13,\n",
      "2017-08-12 13:41:57,639 ib_insync.client DEBUG <<< 3,6,30,Filled,100,0,155.47,1949228182,0,155.47,13,\n",
      "DEBUG:ib_insync.client:<<< 5,34,30,265598,AAPL,STK,,0,?,,SMART,USD,AAPL,NMS,BUY,100,MKT,155.47,0.0,DAY,,DU15171,O,0,,13,1949228182,0,0,0,,1949228182.0/DU15171/100,,,,,,,,,,0,,-1,0,,,,,,,0,0,0,,3,1,1,,0,0,,0,None,,0,,,,?,0,0,,0,0,,,,,,0,0,0,,,,,0,,IB,0,0,,0,0,Filled,1.7976931348623157E308,1.7976931348623157E308,1.7976931348623157E308,,,,,,0,0,0,None,1.7976931348623157E308,156.47,1.7976931348623157E308,1.7976931348623157E308,1.7976931348623157E308,1.7976931348623157E308,0,,,,1.7976931348623157E308\n",
      "2017-08-12 13:41:57,728 ib_insync.client DEBUG <<< 5,34,30,265598,AAPL,STK,,0,?,,SMART,USD,AAPL,NMS,BUY,100,MKT,155.47,0.0,DAY,,DU15171,O,0,,13,1949228182,0,0,0,,1949228182.0/DU15171/100,,,,,,,,,,0,,-1,0,,,,,,,0,0,0,,3,1,1,,0,0,,0,None,,0,,,,?,0,0,,0,0,,,,,,0,0,0,,,,,0,,IB,0,0,,0,0,Filled,1.7976931348623157E308,1.7976931348623157E308,1.7976931348623157E308,,,,,,0,0,0,None,1.7976931348623157E308,156.47,1.7976931348623157E308,1.7976931348623157E308,1.7976931348623157E308,1.7976931348623157E308,0,,,,1.7976931348623157E308\n",
      "DEBUG:ib_insync.client:<<< 3,6,30,Filled,100,0,155.47,1949228182,0,155.47,13,\n",
      "2017-08-12 13:41:57,730 ib_insync.client DEBUG <<< 3,6,30,Filled,100,0,155.47,1949228182,0,155.47,13,\n",
      "DEBUG:ib_insync.client:<<< 5,34,30,265598,AAPL,STK,,0,?,,SMART,USD,AAPL,NMS,BUY,100,MKT,155.47,0.0,DAY,,DU15171,O,0,,13,1949228182,0,0,0,,1949228182.0/DU15171/100,,,,,,,,,,0,,-1,0,,,,,,,0,0,0,,3,1,1,,0,0,,0,None,,0,,,,?,0,0,,0,0,,,,,,0,0,0,,,,,0,,IB,0,0,,0,0,Filled,1.7976931348623157E308,1.7976931348623157E308,1.7976931348623157E308,1.0,,,USD,,0,0,0,None,1.7976931348623157E308,156.47,1.7976931348623157E308,1.7976931348623157E308,1.7976931348623157E308,1.7976931348623157E308,0,,,,1.7976931348623157E308\n",
      "2017-08-12 13:41:57,732 ib_insync.client DEBUG <<< 5,34,30,265598,AAPL,STK,,0,?,,SMART,USD,AAPL,NMS,BUY,100,MKT,155.47,0.0,DAY,,DU15171,O,0,,13,1949228182,0,0,0,,1949228182.0/DU15171/100,,,,,,,,,,0,,-1,0,,,,,,,0,0,0,,3,1,1,,0,0,,0,None,,0,,,,?,0,0,,0,0,,,,,,0,0,0,,,,,0,,IB,0,0,,0,0,Filled,1.7976931348623157E308,1.7976931348623157E308,1.7976931348623157E308,1.0,,,USD,,0,0,0,None,1.7976931348623157E308,156.47,1.7976931348623157E308,1.7976931348623157E308,1.7976931348623157E308,1.7976931348623157E308,0,,,,1.7976931348623157E308\n",
      "DEBUG:ib_insync.client:<<< 3,6,30,Filled,100,0,155.47,1949228182,0,155.47,13,\n",
      "2017-08-12 13:41:57,736 ib_insync.client DEBUG <<< 3,6,30,Filled,100,0,155.47,1949228182,0,155.47,13,\n",
      "DEBUG:ib_insync.client:<<< 59,1,00004466.598e7df4.01.01,1.0,USD,1.7976931348623157E308,1.7976931348623157E308,\n",
      "2017-08-12 13:41:57,737 ib_insync.client DEBUG <<< 59,1,00004466.598e7df4.01.01,1.0,USD,1.7976931348623157E308,1.7976931348623157E308,\n",
      "INFO:ib_insync.wrapper:commissionReport: CommissionReport(execId='00004466.598e7df4.01.01', commission=1.0, currency='USD', realizedPNL=1.7976931348623157e+308, yield_=1.7976931348623157e+308)\n",
      "2017-08-12 13:41:57,738 ib_insync.wrapper INFO commissionReport: CommissionReport(execId='00004466.598e7df4.01.01', commission=1.0, currency='USD', realizedPNL=1.7976931348623157e+308, yield_=1.7976931348623157e+308)\n",
      "DEBUG:ib_insync.client:<<< 6,2,Cushion,0.953363,,DU15171\n",
      "2017-08-12 13:41:58,640 ib_insync.client DEBUG <<< 6,2,Cushion,0.953363,,DU15171\n",
      "DEBUG:ib_insync.client:<<< 6,2,Leverage-S,0.19,,DU15171\n",
      "2017-08-12 13:41:58,643 ib_insync.client DEBUG <<< 6,2,Leverage-S,0.19,,DU15171\n",
      "DEBUG:ib_insync.client:<<< 8,1,13:41\n",
      "2017-08-12 13:41:58,645 ib_insync.client DEBUG <<< 8,1,13:41\n",
      "DEBUG:ib_insync.client:<<< 8,1,13:41\n",
      "2017-08-12 13:41:58,647 ib_insync.client DEBUG <<< 8,1,13:41\n",
      "DEBUG:ib_insync.client:<<< 6,2,EquityWithLoanValue-S,500009.99,USD,DU15171\n",
      "2017-08-12 13:41:58,737 ib_insync.client DEBUG <<< 6,2,EquityWithLoanValue-S,500009.99,USD,DU15171\n",
      "DEBUG:ib_insync.client:<<< 6,2,NetLiquidation-S,500009.99,USD,DU15171\n",
      "2017-08-12 13:41:58,739 ib_insync.client DEBUG <<< 6,2,NetLiquidation-S,500009.99,USD,DU15171\n",
      "DEBUG:ib_insync.client:<<< 6,2,TotalCashValue-S,406734.00,USD,DU15171\n",
      "2017-08-12 13:41:58,740 ib_insync.client DEBUG <<< 6,2,TotalCashValue-S,406734.00,USD,DU15171\n",
      "DEBUG:ib_insync.client:<<< 6,2,GrossPositionValue-S,93275.99,USD,DU15171\n",
      "2017-08-12 13:41:58,742 ib_insync.client DEBUG <<< 6,2,GrossPositionValue-S,93275.99,USD,DU15171\n",
      "DEBUG:ib_insync.client:<<< 6,2,EquityWithLoanValue,500009.99,USD,DU15171\n",
      "2017-08-12 13:41:58,744 ib_insync.client DEBUG <<< 6,2,EquityWithLoanValue,500009.99,USD,DU15171\n",
      "DEBUG:ib_insync.client:<<< 6,2,NetLiquidation,500009.99,USD,DU15171\n",
      "2017-08-12 13:41:58,745 ib_insync.client DEBUG <<< 6,2,NetLiquidation,500009.99,USD,DU15171\n",
      "DEBUG:ib_insync.client:<<< 6,2,TotalCashValue,406734.00,USD,DU15171\n",
      "2017-08-12 13:41:58,746 ib_insync.client DEBUG <<< 6,2,TotalCashValue,406734.00,USD,DU15171\n",
      "DEBUG:ib_insync.client:<<< 6,2,BuyingPower,1906763.98,USD,DU15171\n"
     ]
    },
    {
     "name": "stderr",
     "output_type": "stream",
     "text": [
      "2017-08-12 13:41:58,748 ib_insync.client DEBUG <<< 6,2,BuyingPower,1906763.98,USD,DU15171\n",
      "DEBUG:ib_insync.client:<<< 6,2,SMA-S,453372.00,USD,DU15171\n",
      "2017-08-12 13:41:58,750 ib_insync.client DEBUG <<< 6,2,SMA-S,453372.00,USD,DU15171\n",
      "DEBUG:ib_insync.client:<<< 6,2,SMA,453372.00,USD,DU15171\n",
      "2017-08-12 13:41:58,751 ib_insync.client DEBUG <<< 6,2,SMA,453372.00,USD,DU15171\n",
      "DEBUG:ib_insync.client:<<< 6,2,RegTEquity-S,500009.99,USD,DU15171\n",
      "2017-08-12 13:41:58,753 ib_insync.client DEBUG <<< 6,2,RegTEquity-S,500009.99,USD,DU15171\n",
      "DEBUG:ib_insync.client:<<< 6,2,RegTEquity,500009.99,USD,DU15171\n",
      "2017-08-12 13:41:58,754 ib_insync.client DEBUG <<< 6,2,RegTEquity,500009.99,USD,DU15171\n",
      "DEBUG:ib_insync.client:<<< 6,2,RegTMargin-S,46638.00,USD,DU15171\n",
      "2017-08-12 13:41:58,756 ib_insync.client DEBUG <<< 6,2,RegTMargin-S,46638.00,USD,DU15171\n",
      "DEBUG:ib_insync.client:<<< 6,2,RegTMargin,46638.00,USD,DU15171\n",
      "2017-08-12 13:41:58,757 ib_insync.client DEBUG <<< 6,2,RegTMargin,46638.00,USD,DU15171\n",
      "DEBUG:ib_insync.client:<<< 6,2,GrossPositionValue,93275.99,USD,DU15171\n",
      "2017-08-12 13:41:58,758 ib_insync.client DEBUG <<< 6,2,GrossPositionValue,93275.99,USD,DU15171\n",
      "DEBUG:ib_insync.client:<<< 6,2,InitMarginReq-S,23319.00,USD,DU15171\n",
      "2017-08-12 13:41:58,760 ib_insync.client DEBUG <<< 6,2,InitMarginReq-S,23319.00,USD,DU15171\n",
      "DEBUG:ib_insync.client:<<< 6,2,MaintMarginReq-S,23319.00,USD,DU15171\n",
      "2017-08-12 13:41:58,761 ib_insync.client DEBUG <<< 6,2,MaintMarginReq-S,23319.00,USD,DU15171\n",
      "DEBUG:ib_insync.client:<<< 6,2,AvailableFunds-S,476691.00,USD,DU15171\n",
      "2017-08-12 13:41:58,762 ib_insync.client DEBUG <<< 6,2,AvailableFunds-S,476691.00,USD,DU15171\n",
      "DEBUG:ib_insync.client:<<< 6,2,ExcessLiquidity-S,476691.00,USD,DU15171\n",
      "2017-08-12 13:41:58,764 ib_insync.client DEBUG <<< 6,2,ExcessLiquidity-S,476691.00,USD,DU15171\n",
      "DEBUG:ib_insync.client:<<< 6,2,InitMarginReq,23319.00,USD,DU15171\n",
      "2017-08-12 13:41:58,765 ib_insync.client DEBUG <<< 6,2,InitMarginReq,23319.00,USD,DU15171\n",
      "DEBUG:ib_insync.client:<<< 6,2,MaintMarginReq,23319.00,USD,DU15171\n",
      "2017-08-12 13:41:58,766 ib_insync.client DEBUG <<< 6,2,MaintMarginReq,23319.00,USD,DU15171\n",
      "DEBUG:ib_insync.client:<<< 6,2,AvailableFunds,476691.00,USD,DU15171\n",
      "2017-08-12 13:41:58,768 ib_insync.client DEBUG <<< 6,2,AvailableFunds,476691.00,USD,DU15171\n",
      "DEBUG:ib_insync.client:<<< 6,2,ExcessLiquidity,476691.00,USD,DU15171\n",
      "2017-08-12 13:41:58,769 ib_insync.client DEBUG <<< 6,2,ExcessLiquidity,476691.00,USD,DU15171\n",
      "DEBUG:ib_insync.client:<<< 6,2,LookAheadInitMarginReq-S,23319.00,USD,DU15171\n",
      "2017-08-12 13:41:58,771 ib_insync.client DEBUG <<< 6,2,LookAheadInitMarginReq-S,23319.00,USD,DU15171\n",
      "DEBUG:ib_insync.client:<<< 6,2,LookAheadMaintMarginReq-S,23319.00,USD,DU15171\n",
      "2017-08-12 13:41:58,772 ib_insync.client DEBUG <<< 6,2,LookAheadMaintMarginReq-S,23319.00,USD,DU15171\n",
      "DEBUG:ib_insync.client:<<< 6,2,LookAheadAvailableFunds-S,476691.00,USD,DU15171\n",
      "2017-08-12 13:41:58,773 ib_insync.client DEBUG <<< 6,2,LookAheadAvailableFunds-S,476691.00,USD,DU15171\n",
      "DEBUG:ib_insync.client:<<< 6,2,LookAheadExcessLiquidity-S,476691.00,USD,DU15171\n",
      "2017-08-12 13:41:58,774 ib_insync.client DEBUG <<< 6,2,LookAheadExcessLiquidity-S,476691.00,USD,DU15171\n",
      "DEBUG:ib_insync.client:<<< 6,2,LookAheadInitMarginReq,23319.00,USD,DU15171\n",
      "2017-08-12 13:41:58,775 ib_insync.client DEBUG <<< 6,2,LookAheadInitMarginReq,23319.00,USD,DU15171\n",
      "DEBUG:ib_insync.client:<<< 6,2,LookAheadMaintMarginReq,23319.00,USD,DU15171\n",
      "2017-08-12 13:41:58,777 ib_insync.client DEBUG <<< 6,2,LookAheadMaintMarginReq,23319.00,USD,DU15171\n",
      "DEBUG:ib_insync.client:<<< 6,2,LookAheadAvailableFunds,476691.00,USD,DU15171\n",
      "2017-08-12 13:41:58,778 ib_insync.client DEBUG <<< 6,2,LookAheadAvailableFunds,476691.00,USD,DU15171\n",
      "DEBUG:ib_insync.client:<<< 6,2,LookAheadExcessLiquidity,476691.00,USD,DU15171\n",
      "2017-08-12 13:41:58,779 ib_insync.client DEBUG <<< 6,2,LookAheadExcessLiquidity,476691.00,USD,DU15171\n",
      "DEBUG:ib_insync.client:<<< 6,2,FullInitMarginReq-S,23319.00,USD,DU15171\n",
      "2017-08-12 13:41:58,780 ib_insync.client DEBUG <<< 6,2,FullInitMarginReq-S,23319.00,USD,DU15171\n",
      "DEBUG:ib_insync.client:<<< 6,2,FullMaintMarginReq-S,23319.00,USD,DU15171\n",
      "2017-08-12 13:41:58,781 ib_insync.client DEBUG <<< 6,2,FullMaintMarginReq-S,23319.00,USD,DU15171\n",
      "DEBUG:ib_insync.client:<<< 6,2,FullAvailableFunds-S,476691.00,USD,DU15171\n",
      "2017-08-12 13:41:58,782 ib_insync.client DEBUG <<< 6,2,FullAvailableFunds-S,476691.00,USD,DU15171\n",
      "DEBUG:ib_insync.client:<<< 6,2,FullExcessLiquidity-S,476691.00,USD,DU15171\n",
      "2017-08-12 13:41:58,783 ib_insync.client DEBUG <<< 6,2,FullExcessLiquidity-S,476691.00,USD,DU15171\n",
      "DEBUG:ib_insync.client:<<< 6,2,FullInitMarginReq,23319.00,USD,DU15171\n",
      "2017-08-12 13:41:58,785 ib_insync.client DEBUG <<< 6,2,FullInitMarginReq,23319.00,USD,DU15171\n",
      "DEBUG:ib_insync.client:<<< 6,2,FullMaintMarginReq,23319.00,USD,DU15171\n",
      "2017-08-12 13:41:58,786 ib_insync.client DEBUG <<< 6,2,FullMaintMarginReq,23319.00,USD,DU15171\n",
      "DEBUG:ib_insync.client:<<< 6,2,FullAvailableFunds,476691.00,USD,DU15171\n",
      "2017-08-12 13:41:58,787 ib_insync.client DEBUG <<< 6,2,FullAvailableFunds,476691.00,USD,DU15171\n",
      "DEBUG:ib_insync.client:<<< 6,2,FullExcessLiquidity,476691.00,USD,DU15171\n",
      "2017-08-12 13:41:58,789 ib_insync.client DEBUG <<< 6,2,FullExcessLiquidity,476691.00,USD,DU15171\n",
      "DEBUG:ib_insync.client:<<< 8,1,13:41\n",
      "2017-08-12 13:41:58,790 ib_insync.client DEBUG <<< 8,1,13:41\n",
      "DEBUG:ib_insync.client:<<< 8,1,13:41\n",
      "2017-08-12 13:41:58,791 ib_insync.client DEBUG <<< 8,1,13:41\n",
      "DEBUG:ib_insync.client:<<< 6,2,CashBalance,406734,USD,DU15171\n",
      "2017-08-12 13:41:58,792 ib_insync.client DEBUG <<< 6,2,CashBalance,406734,USD,DU15171\n",
      "DEBUG:ib_insync.client:<<< 6,2,TotalCashBalance,406734,USD,DU15171\n",
      "2017-08-12 13:41:58,793 ib_insync.client DEBUG <<< 6,2,TotalCashBalance,406734,USD,DU15171\n",
      "DEBUG:ib_insync.client:<<< 6,2,StockMarketValue,93276,USD,DU15171\n",
      "2017-08-12 13:41:58,794 ib_insync.client DEBUG <<< 6,2,StockMarketValue,93276,USD,DU15171\n",
      "DEBUG:ib_insync.client:<<< 6,2,NetLiquidationByCurrency,500010,USD,DU15171\n",
      "2017-08-12 13:41:58,796 ib_insync.client DEBUG <<< 6,2,NetLiquidationByCurrency,500010,USD,DU15171\n",
      "DEBUG:ib_insync.client:<<< 6,2,UnrealizedPnL,10,USD,DU15171\n",
      "2017-08-12 13:41:58,797 ib_insync.client DEBUG <<< 6,2,UnrealizedPnL,10,USD,DU15171\n",
      "DEBUG:ib_insync.client:<<< 8,1,13:41\n",
      "2017-08-12 13:41:58,798 ib_insync.client DEBUG <<< 8,1,13:41\n",
      "DEBUG:ib_insync.client:<<< 6,2,CashBalance,406734,BASE,DU15171\n",
      "2017-08-12 13:41:58,800 ib_insync.client DEBUG <<< 6,2,CashBalance,406734,BASE,DU15171\n",
      "DEBUG:ib_insync.client:<<< 6,2,TotalCashBalance,406734,BASE,DU15171\n",
      "2017-08-12 13:41:58,801 ib_insync.client DEBUG <<< 6,2,TotalCashBalance,406734,BASE,DU15171\n",
      "DEBUG:ib_insync.client:<<< 6,2,StockMarketValue,93276,BASE,DU15171\n",
      "2017-08-12 13:41:58,802 ib_insync.client DEBUG <<< 6,2,StockMarketValue,93276,BASE,DU15171\n",
      "DEBUG:ib_insync.client:<<< 6,2,NetLiquidationByCurrency,500010,BASE,DU15171\n",
      "2017-08-12 13:41:58,803 ib_insync.client DEBUG <<< 6,2,NetLiquidationByCurrency,500010,BASE,DU15171\n",
      "DEBUG:ib_insync.client:<<< 6,2,UnrealizedPnL,10,BASE,DU15171\n",
      "2017-08-12 13:41:58,804 ib_insync.client DEBUG <<< 6,2,UnrealizedPnL,10,BASE,DU15171\n",
      "DEBUG:ib_insync.client:<<< 8,1,13:41\n",
      "2017-08-12 13:41:58,805 ib_insync.client DEBUG <<< 8,1,13:41\n",
      "DEBUG:ib_insync.client:<<< 7,8,265598,AAPL,STK,,0,0,,NASDAQ,USD,AAPL,NMS,600,155.45999145,93275.99,155.44333335,9.99,0.0,DU15171\n",
      "2017-08-12 13:41:58,806 ib_insync.client DEBUG <<< 7,8,265598,AAPL,STK,,0,0,,NASDAQ,USD,AAPL,NMS,600,155.45999145,93275.99,155.44333335,9.99,0.0,DU15171\n",
      "INFO:ib_insync.wrapper:updatePortfolio: PortfolioItem(contract=Contract(conId=265598, symbol='AAPL', secType='STK', right='0', primaryExchange='NASDAQ', currency='USD', localSymbol='AAPL', tradingClass='NMS'), position=600.0, marketPrice=155.45999145, marketValue=93275.99, averageCost=155.44333335, unrealizedPNL=9.99, realizedPNL=0.0, account='DU15171')\n",
      "2017-08-12 13:41:58,808 ib_insync.wrapper INFO updatePortfolio: PortfolioItem(contract=Contract(conId=265598, symbol='AAPL', secType='STK', right='0', primaryExchange='NASDAQ', currency='USD', localSymbol='AAPL', tradingClass='NMS'), position=600.0, marketPrice=155.45999145, marketValue=93275.99, averageCost=155.44333335, unrealizedPNL=9.99, realizedPNL=0.0, account='DU15171')\n"
     ]
    },
    {
     "name": "stderr",
     "output_type": "stream",
     "text": [
      "DEBUG:ib_insync.client:<<< 8,1,13:41\n",
      "2017-08-12 13:41:58,809 ib_insync.client DEBUG <<< 8,1,13:41\n",
      "DEBUG:ib_insync.client:<<< 6,2,Cushion,0.953359,,DU15171\n",
      "2017-08-12 13:44:58,780 ib_insync.client DEBUG <<< 6,2,Cushion,0.953359,,DU15171\n",
      "DEBUG:ib_insync.client:<<< 8,1,13:44\n",
      "2017-08-12 13:44:58,782 ib_insync.client DEBUG <<< 8,1,13:44\n",
      "DEBUG:ib_insync.client:<<< 8,1,13:44\n",
      "2017-08-12 13:44:58,784 ib_insync.client DEBUG <<< 8,1,13:44\n",
      "DEBUG:ib_insync.client:<<< 6,2,EquityWithLoanValue-S,500019.00,USD,DU15171\n",
      "2017-08-12 13:44:58,787 ib_insync.client DEBUG <<< 6,2,EquityWithLoanValue-S,500019.00,USD,DU15171\n",
      "DEBUG:ib_insync.client:<<< 6,2,NetLiquidation-S,500019.00,USD,DU15171\n",
      "2017-08-12 13:44:58,789 ib_insync.client DEBUG <<< 6,2,NetLiquidation-S,500019.00,USD,DU15171\n",
      "DEBUG:ib_insync.client:<<< 6,2,GrossPositionValue-S,93285.00,USD,DU15171\n",
      "2017-08-12 13:44:58,791 ib_insync.client DEBUG <<< 6,2,GrossPositionValue-S,93285.00,USD,DU15171\n",
      "DEBUG:ib_insync.client:<<< 6,2,EquityWithLoanValue,500019.00,USD,DU15171\n",
      "2017-08-12 13:44:58,793 ib_insync.client DEBUG <<< 6,2,EquityWithLoanValue,500019.00,USD,DU15171\n",
      "DEBUG:ib_insync.client:<<< 6,2,NetLiquidation,500019.00,USD,DU15171\n",
      "2017-08-12 13:44:58,794 ib_insync.client DEBUG <<< 6,2,NetLiquidation,500019.00,USD,DU15171\n",
      "DEBUG:ib_insync.client:<<< 6,2,BuyingPower,1906791.01,USD,DU15171\n",
      "2017-08-12 13:44:58,796 ib_insync.client DEBUG <<< 6,2,BuyingPower,1906791.01,USD,DU15171\n",
      "DEBUG:ib_insync.client:<<< 6,2,SMA-S,453376.50,USD,DU15171\n",
      "2017-08-12 13:44:58,798 ib_insync.client DEBUG <<< 6,2,SMA-S,453376.50,USD,DU15171\n",
      "DEBUG:ib_insync.client:<<< 6,2,SMA,453376.50,USD,DU15171\n",
      "2017-08-12 13:44:58,800 ib_insync.client DEBUG <<< 6,2,SMA,453376.50,USD,DU15171\n",
      "DEBUG:ib_insync.client:<<< 6,2,RegTEquity-S,500019.00,USD,DU15171\n",
      "2017-08-12 13:44:58,801 ib_insync.client DEBUG <<< 6,2,RegTEquity-S,500019.00,USD,DU15171\n",
      "DEBUG:ib_insync.client:<<< 6,2,RegTEquity,500019.00,USD,DU15171\n",
      "2017-08-12 13:44:58,803 ib_insync.client DEBUG <<< 6,2,RegTEquity,500019.00,USD,DU15171\n",
      "DEBUG:ib_insync.client:<<< 6,2,RegTMargin-S,46642.50,USD,DU15171\n",
      "2017-08-12 13:44:58,805 ib_insync.client DEBUG <<< 6,2,RegTMargin-S,46642.50,USD,DU15171\n",
      "DEBUG:ib_insync.client:<<< 6,2,RegTMargin,46642.50,USD,DU15171\n",
      "2017-08-12 13:44:58,807 ib_insync.client DEBUG <<< 6,2,RegTMargin,46642.50,USD,DU15171\n",
      "DEBUG:ib_insync.client:<<< 6,2,GrossPositionValue,93285.00,USD,DU15171\n",
      "2017-08-12 13:44:58,811 ib_insync.client DEBUG <<< 6,2,GrossPositionValue,93285.00,USD,DU15171\n",
      "DEBUG:ib_insync.client:<<< 6,2,InitMarginReq-S,23321.25,USD,DU15171\n",
      "2017-08-12 13:44:58,815 ib_insync.client DEBUG <<< 6,2,InitMarginReq-S,23321.25,USD,DU15171\n",
      "DEBUG:ib_insync.client:<<< 6,2,MaintMarginReq-S,23321.25,USD,DU15171\n",
      "2017-08-12 13:44:58,817 ib_insync.client DEBUG <<< 6,2,MaintMarginReq-S,23321.25,USD,DU15171\n",
      "DEBUG:ib_insync.client:<<< 6,2,AvailableFunds-S,476697.75,USD,DU15171\n",
      "2017-08-12 13:44:58,819 ib_insync.client DEBUG <<< 6,2,AvailableFunds-S,476697.75,USD,DU15171\n",
      "DEBUG:ib_insync.client:<<< 6,2,ExcessLiquidity-S,476697.75,USD,DU15171\n",
      "2017-08-12 13:44:58,822 ib_insync.client DEBUG <<< 6,2,ExcessLiquidity-S,476697.75,USD,DU15171\n",
      "DEBUG:ib_insync.client:<<< 6,2,InitMarginReq,23321.25,USD,DU15171\n",
      "2017-08-12 13:44:58,825 ib_insync.client DEBUG <<< 6,2,InitMarginReq,23321.25,USD,DU15171\n",
      "DEBUG:ib_insync.client:<<< 6,2,MaintMarginReq,23321.25,USD,DU15171\n",
      "2017-08-12 13:44:58,828 ib_insync.client DEBUG <<< 6,2,MaintMarginReq,23321.25,USD,DU15171\n",
      "DEBUG:ib_insync.client:<<< 6,2,AvailableFunds,476697.75,USD,DU15171\n",
      "2017-08-12 13:44:58,830 ib_insync.client DEBUG <<< 6,2,AvailableFunds,476697.75,USD,DU15171\n",
      "DEBUG:ib_insync.client:<<< 6,2,ExcessLiquidity,476697.75,USD,DU15171\n",
      "2017-08-12 13:44:58,832 ib_insync.client DEBUG <<< 6,2,ExcessLiquidity,476697.75,USD,DU15171\n",
      "DEBUG:ib_insync.client:<<< 6,2,LookAheadInitMarginReq-S,23321.25,USD,DU15171\n",
      "2017-08-12 13:44:58,834 ib_insync.client DEBUG <<< 6,2,LookAheadInitMarginReq-S,23321.25,USD,DU15171\n",
      "DEBUG:ib_insync.client:<<< 6,2,LookAheadMaintMarginReq-S,23321.25,USD,DU15171\n",
      "2017-08-12 13:44:58,836 ib_insync.client DEBUG <<< 6,2,LookAheadMaintMarginReq-S,23321.25,USD,DU15171\n",
      "DEBUG:ib_insync.client:<<< 6,2,LookAheadAvailableFunds-S,476697.75,USD,DU15171\n",
      "2017-08-12 13:44:58,837 ib_insync.client DEBUG <<< 6,2,LookAheadAvailableFunds-S,476697.75,USD,DU15171\n",
      "DEBUG:ib_insync.client:<<< 6,2,LookAheadExcessLiquidity-S,476697.75,USD,DU15171\n",
      "2017-08-12 13:44:58,839 ib_insync.client DEBUG <<< 6,2,LookAheadExcessLiquidity-S,476697.75,USD,DU15171\n",
      "DEBUG:ib_insync.client:<<< 6,2,LookAheadInitMarginReq,23321.25,USD,DU15171\n",
      "2017-08-12 13:44:58,841 ib_insync.client DEBUG <<< 6,2,LookAheadInitMarginReq,23321.25,USD,DU15171\n",
      "DEBUG:ib_insync.client:<<< 6,2,LookAheadMaintMarginReq,23321.25,USD,DU15171\n",
      "2017-08-12 13:44:58,843 ib_insync.client DEBUG <<< 6,2,LookAheadMaintMarginReq,23321.25,USD,DU15171\n",
      "DEBUG:ib_insync.client:<<< 6,2,LookAheadAvailableFunds,476697.75,USD,DU15171\n",
      "2017-08-12 13:44:58,845 ib_insync.client DEBUG <<< 6,2,LookAheadAvailableFunds,476697.75,USD,DU15171\n",
      "DEBUG:ib_insync.client:<<< 6,2,LookAheadExcessLiquidity,476697.75,USD,DU15171\n",
      "2017-08-12 13:44:58,847 ib_insync.client DEBUG <<< 6,2,LookAheadExcessLiquidity,476697.75,USD,DU15171\n",
      "DEBUG:ib_insync.client:<<< 6,2,FullInitMarginReq-S,23321.25,USD,DU15171\n",
      "2017-08-12 13:44:58,849 ib_insync.client DEBUG <<< 6,2,FullInitMarginReq-S,23321.25,USD,DU15171\n",
      "DEBUG:ib_insync.client:<<< 6,2,FullMaintMarginReq-S,23321.25,USD,DU15171\n",
      "2017-08-12 13:44:58,850 ib_insync.client DEBUG <<< 6,2,FullMaintMarginReq-S,23321.25,USD,DU15171\n",
      "DEBUG:ib_insync.client:<<< 6,2,FullAvailableFunds-S,476697.75,USD,DU15171\n",
      "2017-08-12 13:44:58,852 ib_insync.client DEBUG <<< 6,2,FullAvailableFunds-S,476697.75,USD,DU15171\n",
      "DEBUG:ib_insync.client:<<< 6,2,FullExcessLiquidity-S,476697.75,USD,DU15171\n",
      "2017-08-12 13:44:58,853 ib_insync.client DEBUG <<< 6,2,FullExcessLiquidity-S,476697.75,USD,DU15171\n",
      "DEBUG:ib_insync.client:<<< 6,2,FullInitMarginReq,23321.25,USD,DU15171\n",
      "2017-08-12 13:44:58,855 ib_insync.client DEBUG <<< 6,2,FullInitMarginReq,23321.25,USD,DU15171\n",
      "DEBUG:ib_insync.client:<<< 6,2,FullMaintMarginReq,23321.25,USD,DU15171\n",
      "2017-08-12 13:44:58,856 ib_insync.client DEBUG <<< 6,2,FullMaintMarginReq,23321.25,USD,DU15171\n",
      "DEBUG:ib_insync.client:<<< 6,2,FullAvailableFunds,476697.75,USD,DU15171\n",
      "2017-08-12 13:44:58,859 ib_insync.client DEBUG <<< 6,2,FullAvailableFunds,476697.75,USD,DU15171\n",
      "DEBUG:ib_insync.client:<<< 6,2,FullExcessLiquidity,476697.75,USD,DU15171\n",
      "2017-08-12 13:44:58,862 ib_insync.client DEBUG <<< 6,2,FullExcessLiquidity,476697.75,USD,DU15171\n",
      "DEBUG:ib_insync.client:<<< 8,1,13:44\n",
      "2017-08-12 13:44:58,863 ib_insync.client DEBUG <<< 8,1,13:44\n",
      "DEBUG:ib_insync.client:<<< 8,1,13:44\n",
      "2017-08-12 13:44:58,865 ib_insync.client DEBUG <<< 8,1,13:44\n",
      "DEBUG:ib_insync.client:<<< 6,2,StockMarketValue,93285,USD,DU15171\n",
      "2017-08-12 13:44:58,866 ib_insync.client DEBUG <<< 6,2,StockMarketValue,93285,USD,DU15171\n",
      "DEBUG:ib_insync.client:<<< 6,2,NetLiquidationByCurrency,500019,USD,DU15171\n",
      "2017-08-12 13:44:58,868 ib_insync.client DEBUG <<< 6,2,NetLiquidationByCurrency,500019,USD,DU15171\n",
      "DEBUG:ib_insync.client:<<< 6,2,UnrealizedPnL,19,USD,DU15171\n",
      "2017-08-12 13:44:58,869 ib_insync.client DEBUG <<< 6,2,UnrealizedPnL,19,USD,DU15171\n",
      "DEBUG:ib_insync.client:<<< 8,1,13:44\n",
      "2017-08-12 13:44:58,871 ib_insync.client DEBUG <<< 8,1,13:44\n",
      "DEBUG:ib_insync.client:<<< 6,2,StockMarketValue,93285,BASE,DU15171\n",
      "2017-08-12 13:44:58,873 ib_insync.client DEBUG <<< 6,2,StockMarketValue,93285,BASE,DU15171\n",
      "DEBUG:ib_insync.client:<<< 6,2,NetLiquidationByCurrency,500019,BASE,DU15171\n",
      "2017-08-12 13:44:58,874 ib_insync.client DEBUG <<< 6,2,NetLiquidationByCurrency,500019,BASE,DU15171\n",
      "DEBUG:ib_insync.client:<<< 6,2,UnrealizedPnL,19,BASE,DU15171\n",
      "2017-08-12 13:44:58,875 ib_insync.client DEBUG <<< 6,2,UnrealizedPnL,19,BASE,DU15171\n",
      "DEBUG:ib_insync.client:<<< 8,1,13:44\n",
      "2017-08-12 13:44:58,877 ib_insync.client DEBUG <<< 8,1,13:44\n",
      "DEBUG:ib_insync.client:<<< 7,8,265598,AAPL,STK,,0,0,,NASDAQ,USD,AAPL,NMS,600,155.4750061,93285.0,155.44333335,19.0,0.0,DU15171\n",
      "2017-08-12 13:44:58,878 ib_insync.client DEBUG <<< 7,8,265598,AAPL,STK,,0,0,,NASDAQ,USD,AAPL,NMS,600,155.4750061,93285.0,155.44333335,19.0,0.0,DU15171\n",
      "INFO:ib_insync.wrapper:updatePortfolio: PortfolioItem(contract=Contract(conId=265598, symbol='AAPL', secType='STK', right='0', primaryExchange='NASDAQ', currency='USD', localSymbol='AAPL', tradingClass='NMS'), position=600.0, marketPrice=155.4750061, marketValue=93285.0, averageCost=155.44333335, unrealizedPNL=19.0, realizedPNL=0.0, account='DU15171')\n"
     ]
    },
    {
     "name": "stderr",
     "output_type": "stream",
     "text": [
      "2017-08-12 13:44:58,880 ib_insync.wrapper INFO updatePortfolio: PortfolioItem(contract=Contract(conId=265598, symbol='AAPL', secType='STK', right='0', primaryExchange='NASDAQ', currency='USD', localSymbol='AAPL', tradingClass='NMS'), position=600.0, marketPrice=155.4750061, marketValue=93285.0, averageCost=155.44333335, unrealizedPNL=19.0, realizedPNL=0.0, account='DU15171')\n",
      "DEBUG:ib_insync.client:<<< 8,1,13:44\n",
      "2017-08-12 13:44:58,883 ib_insync.client DEBUG <<< 8,1,13:44\n"
     ]
    }
   ],
   "source": [
    "trade = ib.placeOrder(contract, order)\n",
    "\n",
    "trade"
   ]
  },
  {
   "cell_type": "markdown",
   "metadata": {},
   "source": [
    "``trade`` contains the order and everything related to it, such as order status, fills and a log.\n",
    "It will be live updated with every status change or fill of the order."
   ]
  },
  {
   "cell_type": "code",
   "execution_count": 4,
   "metadata": {
    "scrolled": true
   },
   "outputs": [
    {
     "data": {
      "text/plain": [
       "[TradeLogEntry(time=datetime.datetime(2017, 8, 12, 11, 33, 58, 707315, tzinfo=datetime.timezone.utc), status='PendingSubmit', message=''),\n",
       " TradeLogEntry(time=datetime.datetime(2017, 8, 12, 11, 33, 58, 823114, tzinfo=datetime.timezone.utc), status='Filled', message='Fill 100.0@155.45')]"
      ]
     },
     "execution_count": 4,
     "metadata": {},
     "output_type": "execute_result"
    }
   ],
   "source": [
    "ib.sleep(1)\n",
    "trade.log"
   ]
  },
  {
   "cell_type": "markdown",
   "metadata": {},
   "source": [
    "``trade`` will also available from ``ib.trades()``:"
   ]
  },
  {
   "cell_type": "code",
   "execution_count": 5,
   "metadata": {
    "collapsed": true
   },
   "outputs": [],
   "source": [
    "assert trade in ib.trades()"
   ]
  },
  {
   "cell_type": "markdown",
   "metadata": {},
   "source": [
    "Likewise for ``order``:"
   ]
  },
  {
   "cell_type": "code",
   "execution_count": 6,
   "metadata": {
    "collapsed": true
   },
   "outputs": [],
   "source": [
    "assert order in ib.orders()"
   ]
  },
  {
   "cell_type": "markdown",
   "metadata": {},
   "source": [
    "Now let's create a limit order with an unrealistic limit:"
   ]
  },
  {
   "cell_type": "code",
   "execution_count": 5,
   "metadata": {},
   "outputs": [
    {
     "data": {
      "text/plain": [
       "Trade(contract=Stock(conId=265598, symbol='AAPL', exchange='SMART', primaryExchange='NASDAQ', currency='USD', localSymbol='AAPL', tradingClass='NMS'), order=LimitOrder(orderId=3, action='BUY', totalQuantity=100, lmtPrice=0.05), orderStatus=OrderStatus(status='PendingSubmit'), fills=[], log=[TradeLogEntry(time=datetime.datetime(2017, 8, 13, 9, 37, 26, 410713, tzinfo=datetime.timezone.utc), status='PendingSubmit', message='')])"
      ]
     },
     "execution_count": 5,
     "metadata": {},
     "output_type": "execute_result"
    }
   ],
   "source": [
    "limitOrder = LimitOrder('BUY', 100, 0.05)\n",
    "limitTrade = ib.placeOrder(contract, limitOrder)\n",
    "\n",
    "limitTrade"
   ]
  },
  {
   "cell_type": "markdown",
   "metadata": {},
   "source": [
    "``status`` will change from \"PendingSubmit\" to \"Submitted\":"
   ]
  },
  {
   "cell_type": "code",
   "execution_count": 8,
   "metadata": {
    "collapsed": true
   },
   "outputs": [],
   "source": [
    "ib.sleep(1)\n",
    "assert limitTrade.orderStatus.status == 'Submitted'"
   ]
  },
  {
   "cell_type": "code",
   "execution_count": 9,
   "metadata": {
    "collapsed": true
   },
   "outputs": [],
   "source": [
    "assert limitTrade in ib.openTrades()"
   ]
  },
  {
   "cell_type": "markdown",
   "metadata": {},
   "source": [
    "Let's modify the limit price and resubmit:"
   ]
  },
  {
   "cell_type": "code",
   "execution_count": 10,
   "metadata": {},
   "outputs": [
    {
     "data": {
      "text/plain": [
       "Trade(contract=Stock(conId=265598, symbol='AAPL', exchange='SMART', primaryExchange='NASDAQ', currency='USD', localSymbol='AAPL', tradingClass='NMS'), order=LimitOrder(orderId=21, action='BUY', totalQuantity=100, lmtPrice=0.1), orderStatus=OrderStatus(status='Submitted', remaining=100.0, permId=1949228172, clientId=13), fills=[], log=[TradeLogEntry(time=datetime.datetime(2017, 8, 12, 11, 33, 59, 947908, tzinfo=datetime.timezone.utc), status='PendingSubmit', message=''), TradeLogEntry(time=datetime.datetime(2017, 8, 12, 11, 34, 0, 58601, tzinfo=datetime.timezone.utc), status='Submitted', message=''), TradeLogEntry(time=datetime.datetime(2017, 8, 12, 11, 34, 1, 114816, tzinfo=datetime.timezone.utc), status='Submitted', message='Modify')])"
      ]
     },
     "execution_count": 10,
     "metadata": {},
     "output_type": "execute_result"
    }
   ],
   "source": [
    "limitOrder.lmtPrice = 0.10\n",
    "\n",
    "ib.placeOrder(contract, limitOrder)"
   ]
  },
  {
   "cell_type": "markdown",
   "metadata": {},
   "source": [
    "And now cancel it:"
   ]
  },
  {
   "cell_type": "code",
   "execution_count": 11,
   "metadata": {},
   "outputs": [
    {
     "data": {
      "text/plain": [
       "Trade(contract=Stock(conId=265598, symbol='AAPL', exchange='SMART', primaryExchange='NASDAQ', currency='USD', localSymbol='AAPL', tradingClass='NMS'), order=LimitOrder(orderId=21, action='BUY', totalQuantity=100, lmtPrice=0.1), orderStatus=OrderStatus(status='Submitted', remaining=100.0, permId=1949228172, clientId=13), fills=[], log=[TradeLogEntry(time=datetime.datetime(2017, 8, 12, 11, 33, 59, 947908, tzinfo=datetime.timezone.utc), status='PendingSubmit', message=''), TradeLogEntry(time=datetime.datetime(2017, 8, 12, 11, 34, 0, 58601, tzinfo=datetime.timezone.utc), status='Submitted', message=''), TradeLogEntry(time=datetime.datetime(2017, 8, 12, 11, 34, 1, 114816, tzinfo=datetime.timezone.utc), status='Submitted', message='Modify'), TradeLogEntry(time=datetime.datetime(2017, 8, 12, 11, 34, 1, 170082, tzinfo=datetime.timezone.utc), status='PendingCancel', message='')])"
      ]
     },
     "execution_count": 11,
     "metadata": {},
     "output_type": "execute_result"
    }
   ],
   "source": [
    "ib.cancelOrder(limitOrder)"
   ]
  },
  {
   "cell_type": "code",
   "execution_count": 12,
   "metadata": {},
   "outputs": [
    {
     "data": {
      "text/plain": [
       "[TradeLogEntry(time=datetime.datetime(2017, 8, 12, 11, 33, 59, 947908, tzinfo=datetime.timezone.utc), status='PendingSubmit', message=''),\n",
       " TradeLogEntry(time=datetime.datetime(2017, 8, 12, 11, 34, 0, 58601, tzinfo=datetime.timezone.utc), status='Submitted', message=''),\n",
       " TradeLogEntry(time=datetime.datetime(2017, 8, 12, 11, 34, 1, 114816, tzinfo=datetime.timezone.utc), status='Submitted', message='Modify'),\n",
       " TradeLogEntry(time=datetime.datetime(2017, 8, 12, 11, 34, 1, 170082, tzinfo=datetime.timezone.utc), status='PendingCancel', message='')]"
      ]
     },
     "execution_count": 12,
     "metadata": {},
     "output_type": "execute_result"
    }
   ],
   "source": [
    "limitTrade.log"
   ]
  },
  {
   "cell_type": "markdown",
   "metadata": {},
   "source": [
    "What's the total of commissions paid today?"
   ]
  },
  {
   "cell_type": "code",
   "execution_count": 13,
   "metadata": {},
   "outputs": [
    {
     "data": {
      "text/plain": [
       "4.0"
      ]
     },
     "execution_count": 13,
     "metadata": {},
     "output_type": "execute_result"
    }
   ],
   "source": [
    "sum(fill.commissionReport.commission for fill in ib.fills())"
   ]
  },
  {
   "cell_type": "markdown",
   "metadata": {},
   "source": [
    "Some note of warning: reqContractDetails can happily report that a contract is unique,\n",
    "while placeOrder() will complain that the contract is ambiguous. An example is INTC:"
   ]
  },
  {
   "cell_type": "code",
   "execution_count": 14,
   "metadata": {},
   "outputs": [
    {
     "name": "stderr",
     "output_type": "stream",
     "text": [
      "ERROR:ib_insync.wrapper:Error 200, reqId 23: The contract description specified for INTC is ambiguous.\n"
     ]
    }
   ],
   "source": [
    "intc = Stock('INTC', 'SMART', 'USD')\n",
    "\n",
    "assert len(ib.reqContractDetails(intc)) == 1\n",
    "\n",
    "intcOrder = LimitOrder('BUY', 100, 0.05)\n",
    "trade = ib.placeOrder(intc, intcOrder)\n",
    "ib.sleep(1);"
   ]
  },
  {
   "cell_type": "code",
   "execution_count": 15,
   "metadata": {
    "collapsed": true
   },
   "outputs": [],
   "source": [
    "assert trade.orderStatus.status == 'Cancelled'"
   ]
  },
  {
   "cell_type": "markdown",
   "metadata": {},
   "source": [
    "So it is always a good\n",
    "idea to a qualify a contract before trading it."
   ]
  },
  {
   "cell_type": "code",
   "execution_count": 16,
   "metadata": {
    "collapsed": true
   },
   "outputs": [],
   "source": [
    "ib.qualifyContracts(intc)\n",
    "\n",
    "intcOrder = LimitOrder('BUY', 100, 0.05)\n",
    "trade = ib.placeOrder(intc, intcOrder)"
   ]
  },
  {
   "cell_type": "code",
   "execution_count": 17,
   "metadata": {},
   "outputs": [
    {
     "data": {
      "text/plain": [
       "Trade(contract=Stock(conId=270639, symbol='INTC', exchange='SMART', primaryExchange='NASDAQ', currency='USD', localSymbol='INTC', tradingClass='NMS'), order=LimitOrder(orderId=25, action='BUY', totalQuantity=100, lmtPrice=0.05), orderStatus=OrderStatus(status='PendingSubmit'), fills=[], log=[TradeLogEntry(time=datetime.datetime(2017, 8, 12, 11, 34, 2, 662708, tzinfo=datetime.timezone.utc), status='PendingSubmit', message=''), TradeLogEntry(time=datetime.datetime(2017, 8, 12, 11, 34, 2, 717315, tzinfo=datetime.timezone.utc), status='PendingCancel', message='')])"
      ]
     },
     "execution_count": 17,
     "metadata": {},
     "output_type": "execute_result"
    }
   ],
   "source": [
    "ib.cancelOrder(intcOrder)"
   ]
  },
  {
   "cell_type": "markdown",
   "metadata": {},
   "source": [
    "placeOrder is not blocking and will not wait on what happens with the order.\n",
    "To make the order placement blocking, that is to wait until the order is either\n",
    "filled or canceled, consider the following:"
   ]
  },
  {
   "cell_type": "code",
   "execution_count": 18,
   "metadata": {},
   "outputs": [
    {
     "name": "stdout",
     "output_type": "stream",
     "text": [
      "CPU times: user 2.04 ms, sys: 1.11 ms, total: 3.15 ms\n",
      "Wall time: 260 ms\n"
     ]
    }
   ],
   "source": [
    "%%time\n",
    "order = MarketOrder('BUY', 100)\n",
    "\n",
    "trade = ib.placeOrder(contract, order)\n",
    "while trade.isActive():\n",
    "    ib.waitOnUpdate()"
   ]
  },
  {
   "cell_type": "markdown",
   "metadata": {},
   "source": [
    "What are our positions?"
   ]
  },
  {
   "cell_type": "code",
   "execution_count": 19,
   "metadata": {
    "scrolled": true
   },
   "outputs": [
    {
     "data": {
      "text/plain": [
       "[Position(account='DU15171', contract=Contract(conId=265598, symbol='AAPL', secType='STK', exchange='NASDAQ', currency='USD', localSymbol='AAPL', tradingClass='NMS'), position=500.0, avgCost=155.434)]"
      ]
     },
     "execution_count": 19,
     "metadata": {},
     "output_type": "execute_result"
    }
   ],
   "source": [
    "ib.positions()"
   ]
  },
  {
   "cell_type": "markdown",
   "metadata": {
    "collapsed": true
   },
   "source": [
    "What's the total of commissions paid today?"
   ]
  },
  {
   "cell_type": "code",
   "execution_count": 20,
   "metadata": {},
   "outputs": [
    {
     "data": {
      "text/plain": [
       "5.0"
      ]
     },
     "execution_count": 20,
     "metadata": {},
     "output_type": "execute_result"
    }
   ],
   "source": [
    "sum(fill.commissionReport.commission for fill in ib.fills())"
   ]
  },
  {
   "cell_type": "markdown",
   "metadata": {
    "collapsed": true
   },
   "source": [
    "whatIfOrder can be used to see the commission and the margin impact of an order without actually sending the order:"
   ]
  },
  {
   "cell_type": "code",
   "execution_count": 21,
   "metadata": {},
   "outputs": [
    {
     "data": {
      "text/plain": [
       "OrderState(status='PreSubmitted', initMargin='11658.37', maintMargin='11658.37', equityWithLoan='500002.5', commission=1.0, commissionCurrency='USD')"
      ]
     },
     "execution_count": 21,
     "metadata": {},
     "output_type": "execute_result"
    }
   ],
   "source": [
    "order = MarketOrder('SELL', 200)\n",
    "ib.whatIfOrder(contract, order)"
   ]
  },
  {
   "cell_type": "code",
   "execution_count": 22,
   "metadata": {},
   "outputs": [
    {
     "data": {
      "text/plain": [
       "[Order(softDollarTier=SoftDollarTier(), orderId=7, clientId=13, permId=1949228155, action='BUY', totalQuantity=100.0, orderType='LMT', lmtPrice=0.05, auxPrice=0.0, tif='DAY', ocaType=3, trailStopPrice=1.05, volatilityType=0, deltaNeutralOrderType='None', deltaNeutralOpenClose='?', referencePriceType=0, account='DU15171', clearingIntent='IB', adjustedOrderType='None'),\n",
       " Order(softDollarTier=SoftDollarTier(), orderId=4, clientId=13, permId=1949228150, action='BUY', totalQuantity=100.0, orderType='LMT', lmtPrice=0.1, auxPrice=0.0, tif='DAY', ocaType=3, volatilityType=0, deltaNeutralOrderType='None', deltaNeutralOpenClose='?', referencePriceType=0, account='DU15171', clearingIntent='IB', adjustedOrderType='None')]"
      ]
     },
     "execution_count": 22,
     "metadata": {},
     "output_type": "execute_result"
    }
   ],
   "source": [
    "ib.openOrders()"
   ]
  },
  {
   "cell_type": "code",
   "execution_count": 23,
   "metadata": {
    "scrolled": true
   },
   "outputs": [
    {
     "data": {
      "text/plain": [
       "[Trade(contract=Contract(conId=265598, symbol='AAPL', secType='STK', right='?', exchange='SMART', currency='USD', localSymbol='AAPL', tradingClass='NMS'), order=Order(softDollarTier=SoftDollarTier(), orderId=7, clientId=13, permId=1949228155, action='BUY', totalQuantity=100.0, orderType='LMT', lmtPrice=0.05, auxPrice=0.0, tif='DAY', ocaType=3, trailStopPrice=1.05, volatilityType=0, deltaNeutralOrderType='None', deltaNeutralOpenClose='?', referencePriceType=0, account='DU15171', clearingIntent='IB', adjustedOrderType='None'), orderStatus=OrderStatus(status='Submitted', remaining=100.0, permId=1949228155, clientId=13), fills=[], log=[]),\n",
       " Trade(contract=Contract(conId=265598, symbol='AAPL', secType='STK', right='?', exchange='SMART', currency='USD', localSymbol='AAPL', tradingClass='NMS'), order=Order(softDollarTier=SoftDollarTier(), orderId=4, clientId=13, permId=1949228150, action='BUY', totalQuantity=100.0, orderType='LMT', lmtPrice=0.1, auxPrice=0.0, tif='DAY', ocaType=3, volatilityType=0, deltaNeutralOrderType='None', deltaNeutralOpenClose='?', referencePriceType=0, account='DU15171', clearingIntent='IB', adjustedOrderType='None'), orderStatus=OrderStatus(status='Submitted', remaining=100.0, permId=1949228150, clientId=13), fills=[], log=[])]"
      ]
     },
     "execution_count": 23,
     "metadata": {},
     "output_type": "execute_result"
    }
   ],
   "source": [
    "ib.openTrades()"
   ]
  },
  {
   "cell_type": "code",
   "execution_count": null,
   "metadata": {},
   "outputs": [
    {
     "name": "stderr",
     "output_type": "stream",
     "text": [
      "ERROR:ib_insync.wrapper:Error 100, reqId 5: Max rate of messages per second has been exceeded:max=50 rec=1293 (1)\n",
      "ERROR:ib_insync.wrapper:Error 100, reqId 5: Max rate of messages per second has been exceeded:max=50 rec=1261 (2)\n",
      "ERROR:ib_insync.wrapper:Error 100, reqId 5: Max rate of messages per second has been exceeded:max=50 rec=1280 (3)\n",
      "ERROR:ib_insync.client:Peer closed connection\n"
     ]
    }
   ],
   "source": [
    "%%timeit\n",
    "ib.reqOpenOrders()"
   ]
  },
  {
   "cell_type": "code",
   "execution_count": null,
   "metadata": {
    "collapsed": true
   },
   "outputs": [],
   "source": []
  }
 ],
 "metadata": {
  "kernelspec": {
   "display_name": "Python 3",
   "language": "python",
   "name": "python3"
  },
  "language_info": {
   "codemirror_mode": {
    "name": "ipython",
    "version": 3
   },
   "file_extension": ".py",
   "mimetype": "text/x-python",
   "name": "python",
   "nbconvert_exporter": "python",
   "pygments_lexer": "ipython3",
   "version": "3.6.2"
  }
 },
 "nbformat": 4,
 "nbformat_minor": 2
}
