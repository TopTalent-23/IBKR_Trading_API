{
 "cells": [
  {
   "cell_type": "markdown",
   "metadata": {},
   "source": [
    "Market depth (order book)\n",
    "=============="
   ]
  },
  {
   "cell_type": "code",
   "execution_count": 1,
   "metadata": {},
   "outputs": [],
   "source": [
    "%gui qt5\n",
    "\n",
    "from ib_insync import *\n",
    "util.useQt()\n",
    "\n",
    "ib = IB()\n",
    "ib.connect('127.0.0.1', 7497, clientId=16)"
   ]
  },
  {
   "cell_type": "markdown",
   "metadata": {},
   "source": [
    "To get a list of all exchanges that support market depth data and display the first five:"
   ]
  },
  {
   "cell_type": "code",
   "execution_count": 2,
   "metadata": {},
   "outputs": [
    {
     "data": {
      "text/plain": [
       "[DepthMktDataDescription(exchange='DTB', secType='OPT', serviceDataType='Deep'),\n",
       " DepthMktDataDescription(exchange='LSEETF', secType='STK', serviceDataType='Deep'),\n",
       " DepthMktDataDescription(exchange='SGX', secType='FUT', serviceDataType='Deep'),\n",
       " DepthMktDataDescription(exchange='IDEALPRO', secType='CASH', serviceDataType='Deep', aggGroup=4),\n",
       " DepthMktDataDescription(exchange='ARCA', secType='STK', serviceDataType='Deep')]"
      ]
     },
     "execution_count": 2,
     "metadata": {},
     "output_type": "execute_result"
    }
   ],
   "source": [
    "l = ib.reqMktDepthExchanges()\n",
    "l[:5]"
   ]
  },
  {
   "cell_type": "markdown",
   "metadata": {},
   "source": [
    "Let's subscribe to market depth data for EURUSD:"
   ]
  },
  {
   "cell_type": "code",
   "execution_count": 3,
   "metadata": {
    "collapsed": true
   },
   "outputs": [],
   "source": [
    "eurusd = Forex('EURUSD')\n",
    "ticker = ib.reqMktDepth(eurusd)"
   ]
  },
  {
   "cell_type": "markdown",
   "metadata": {},
   "source": [
    "The ``domBids`` and ``domAsks`` of the ticker will now be kep updated."
   ]
  },
  {
   "cell_type": "code",
   "execution_count": 32,
   "metadata": {},
   "outputs": [
    {
     "name": "stdout",
     "output_type": "stream",
     "text": [
      "[DOMLevel(price=1.1479, size=18674000, marketMaker=''), DOMLevel(price=1.14785, size=14000000, marketMaker=''), DOMLevel(price=1.1478, size=1000000, marketMaker=''), DOMLevel(price=1.1475, size=55000, marketMaker='')]\n",
      "[DOMLevel(price=1.14795, size=1000000, marketMaker=''), DOMLevel(price=1.148, size=20000000, marketMaker=''), DOMLevel(price=1.14805, size=7000000, marketMaker=''), DOMLevel(price=1.1481, size=1000000, marketMaker=''), DOMLevel(price=1.14825, size=150000, marketMaker='')]\n"
     ]
    }
   ],
   "source": [
    "print(ticker.domBids)\n",
    "print(ticker.domAsks)"
   ]
  },
  {
   "cell_type": "markdown",
   "metadata": {},
   "source": [
    "The raw level-2 ticks are stored in the domTicks list:"
   ]
  },
  {
   "cell_type": "code",
   "execution_count": 33,
   "metadata": {},
   "outputs": [
    {
     "name": "stdout",
     "output_type": "stream",
     "text": [
      "61156\n",
      "MktDepthData(time=datetime.datetime(2017, 7, 17, 16, 58, 49, 974724, tzinfo=datetime.timezone.utc), position=0, marketMaker='', operation=0, side=1, price=1.14715, size=14800000)\n"
     ]
    }
   ],
   "source": [
    "print(len(ticker.domTicks))\n",
    "print(ticker.domTicks[0])"
   ]
  },
  {
   "cell_type": "markdown",
   "metadata": {},
   "source": [
    "To see the order book live updated:\n",
    "\n",
    "(interupt with \"Kernel interupt\" in Jupyter)"
   ]
  },
  {
   "cell_type": "code",
   "execution_count": null,
   "metadata": {},
   "outputs": [
    {
     "data": {
      "text/html": [
       "<div>\n",
       "<style>\n",
       "    .dataframe thead tr:only-child th {\n",
       "        text-align: right;\n",
       "    }\n",
       "\n",
       "    .dataframe thead th {\n",
       "        text-align: left;\n",
       "    }\n",
       "\n",
       "    .dataframe tbody tr th {\n",
       "        vertical-align: top;\n",
       "    }\n",
       "</style>\n",
       "<table border=\"1\" class=\"dataframe\">\n",
       "  <thead>\n",
       "    <tr style=\"text-align: right;\">\n",
       "      <th></th>\n",
       "      <th>bidSize</th>\n",
       "      <th>bidPrice</th>\n",
       "      <th>askPrice</th>\n",
       "      <th>askSize</th>\n",
       "    </tr>\n",
       "  </thead>\n",
       "  <tbody>\n",
       "    <tr>\n",
       "      <th>0</th>\n",
       "      <td>9674000</td>\n",
       "      <td>1.14795</td>\n",
       "      <td>1.148</td>\n",
       "      <td>4000000</td>\n",
       "    </tr>\n",
       "    <tr>\n",
       "      <th>1</th>\n",
       "      <td>12000000</td>\n",
       "      <td>1.1479</td>\n",
       "      <td>1.14805</td>\n",
       "      <td>17000000</td>\n",
       "    </tr>\n",
       "    <tr>\n",
       "      <th>2</th>\n",
       "      <td>7000000</td>\n",
       "      <td>1.14785</td>\n",
       "      <td>1.1481</td>\n",
       "      <td>7000000</td>\n",
       "    </tr>\n",
       "    <tr>\n",
       "      <th>3</th>\n",
       "      <td>1000000</td>\n",
       "      <td>1.1478</td>\n",
       "      <td>1.14815</td>\n",
       "      <td>1000000</td>\n",
       "    </tr>\n",
       "    <tr>\n",
       "      <th>4</th>\n",
       "      <td>55000</td>\n",
       "      <td>1.1475</td>\n",
       "      <td>1.14825</td>\n",
       "      <td>150000</td>\n",
       "    </tr>\n",
       "  </tbody>\n",
       "</table>\n",
       "</div>"
      ],
      "text/plain": [
       "    bidSize bidPrice askPrice   askSize\n",
       "0   9674000  1.14795    1.148   4000000\n",
       "1  12000000   1.1479  1.14805  17000000\n",
       "2   7000000  1.14785   1.1481   7000000\n",
       "3   1000000   1.1478  1.14815   1000000\n",
       "4     55000   1.1475  1.14825    150000"
      ]
     },
     "metadata": {},
     "output_type": "display_data"
    }
   ],
   "source": [
    "df = pd.DataFrame(index=range(5),\n",
    "        columns='bidSize bidPrice askPrice askSize'.split())\n",
    "\n",
    "while ib.waitOnUpdate():\n",
    "    l = ticker.domBids\n",
    "    for i in range(5):\n",
    "        df.iloc[i, 0] = l[i].size if i < len(l) else 0\n",
    "        df.iloc[i, 1] = l[i].price if i < len(l) else 0\n",
    "    l = ticker.domAsks\n",
    "    for i in range(5):\n",
    "        df.iloc[i, 2] = l[i].price if i < len(l) else 0\n",
    "        df.iloc[i, 3] = l[i].size if i < len(l) else 0\n",
    "    clear_output(wait=True)\n",
    "    display(df)"
   ]
  },
  {
   "cell_type": "markdown",
   "metadata": {},
   "source": [
    "Stop the market depth subscription:"
   ]
  },
  {
   "cell_type": "code",
   "execution_count": null,
   "metadata": {
    "collapsed": true
   },
   "outputs": [],
   "source": [
    "ib.cancelMktDepth(eurusd)"
   ]
  }
 ],
 "metadata": {
  "kernelspec": {
   "display_name": "Python 3",
   "language": "python",
   "name": "python3"
  },
  "language_info": {
   "codemirror_mode": {
    "name": "ipython",
    "version": 3
   },
   "file_extension": ".py",
   "mimetype": "text/x-python",
   "name": "python",
   "nbconvert_exporter": "python",
   "pygments_lexer": "ipython3",
   "version": "3.6.1"
  }
 },
 "nbformat": 4,
 "nbformat_minor": 2
}
