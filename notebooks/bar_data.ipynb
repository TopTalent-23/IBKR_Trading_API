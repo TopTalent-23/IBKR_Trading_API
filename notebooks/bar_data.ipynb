{
 "cells": [
  {
   "cell_type": "markdown",
   "metadata": {},
   "source": [
    "# Bar data"
   ]
  },
  {
   "cell_type": "code",
   "execution_count": 1,
   "metadata": {},
   "outputs": [
    {
     "data": {
      "text/plain": [
       "<IB connected to 127.0.0.1:7497 clientId=14>"
      ]
     },
     "execution_count": 1,
     "metadata": {},
     "output_type": "execute_result"
    }
   ],
   "source": [
    "from ib_insync import *\n",
    "util.startLoop()\n",
    "\n",
    "ib = IB()\n",
    "ib.connect('127.0.0.1', 7497, clientId=14)"
   ]
  },
  {
   "cell_type": "markdown",
   "metadata": {},
   "source": [
    "## Historical data"
   ]
  },
  {
   "cell_type": "markdown",
   "metadata": {},
   "source": [
    "To get the earliest date of available bar data the \"head timestamp\" can be requested:"
   ]
  },
  {
   "cell_type": "code",
   "execution_count": 2,
   "metadata": {},
   "outputs": [
    {
     "data": {
      "text/plain": [
       "datetime.datetime(2010, 6, 29, 8, 0)"
      ]
     },
     "execution_count": 2,
     "metadata": {},
     "output_type": "execute_result"
    }
   ],
   "source": [
    "contract = Stock('TSLA', 'SMART', 'USD')\n",
    "\n",
    "ib.reqHeadTimeStamp(contract, whatToShow='TRADES', useRTH=True)"
   ]
  },
  {
   "cell_type": "markdown",
   "metadata": {},
   "source": [
    "To request hourly data of the last 60 trading days:"
   ]
  },
  {
   "cell_type": "code",
   "execution_count": 3,
   "metadata": {
    "collapsed": true
   },
   "outputs": [],
   "source": [
    "bars = ib.reqHistoricalData(\n",
    "        contract,\n",
    "        endDateTime='',\n",
    "        durationStr='60 D',\n",
    "        barSizeSetting='1 hour',\n",
    "        whatToShow='TRADES',\n",
    "        useRTH=True,\n",
    "        formatDate=1)"
   ]
  },
  {
   "cell_type": "code",
   "execution_count": 4,
   "metadata": {},
   "outputs": [
    {
     "data": {
      "text/plain": [
       "BarData(date=datetime.datetime(2017, 7, 5, 15, 30), open=347.2, high=347.24, low=337.06, close=337.89, volume=29088, barCount=16418, average=341.133)"
      ]
     },
     "execution_count": 4,
     "metadata": {},
     "output_type": "execute_result"
    }
   ],
   "source": [
    "bars[0]"
   ]
  },
  {
   "cell_type": "markdown",
   "metadata": {},
   "source": [
    "Convert the list of bars to a data frame and print the first and last rows:"
   ]
  },
  {
   "cell_type": "code",
   "execution_count": 5,
   "metadata": {},
   "outputs": [
    {
     "data": {
      "text/html": [
       "<div>\n",
       "<style>\n",
       "    .dataframe thead tr:only-child th {\n",
       "        text-align: right;\n",
       "    }\n",
       "\n",
       "    .dataframe thead th {\n",
       "        text-align: left;\n",
       "    }\n",
       "\n",
       "    .dataframe tbody tr th {\n",
       "        vertical-align: top;\n",
       "    }\n",
       "</style>\n",
       "<table border=\"1\" class=\"dataframe\">\n",
       "  <thead>\n",
       "    <tr style=\"text-align: right;\">\n",
       "      <th></th>\n",
       "      <th>date</th>\n",
       "      <th>open</th>\n",
       "      <th>high</th>\n",
       "      <th>low</th>\n",
       "      <th>close</th>\n",
       "      <th>volume</th>\n",
       "      <th>barCount</th>\n",
       "      <th>average</th>\n",
       "    </tr>\n",
       "  </thead>\n",
       "  <tbody>\n",
       "    <tr>\n",
       "      <th>0</th>\n",
       "      <td>2017-07-05 15:30:00</td>\n",
       "      <td>347.20</td>\n",
       "      <td>347.24</td>\n",
       "      <td>337.06</td>\n",
       "      <td>337.89</td>\n",
       "      <td>29088</td>\n",
       "      <td>16418</td>\n",
       "      <td>341.133</td>\n",
       "    </tr>\n",
       "    <tr>\n",
       "      <th>1</th>\n",
       "      <td>2017-07-05 16:00:00</td>\n",
       "      <td>337.70</td>\n",
       "      <td>339.23</td>\n",
       "      <td>332.71</td>\n",
       "      <td>336.46</td>\n",
       "      <td>32068</td>\n",
       "      <td>17481</td>\n",
       "      <td>335.859</td>\n",
       "    </tr>\n",
       "    <tr>\n",
       "      <th>2</th>\n",
       "      <td>2017-07-05 17:00:00</td>\n",
       "      <td>336.50</td>\n",
       "      <td>336.51</td>\n",
       "      <td>331.00</td>\n",
       "      <td>333.60</td>\n",
       "      <td>19357</td>\n",
       "      <td>11072</td>\n",
       "      <td>333.151</td>\n",
       "    </tr>\n",
       "    <tr>\n",
       "      <th>3</th>\n",
       "      <td>2017-07-05 18:00:00</td>\n",
       "      <td>333.56</td>\n",
       "      <td>336.63</td>\n",
       "      <td>333.56</td>\n",
       "      <td>335.85</td>\n",
       "      <td>10023</td>\n",
       "      <td>5747</td>\n",
       "      <td>335.196</td>\n",
       "    </tr>\n",
       "    <tr>\n",
       "      <th>4</th>\n",
       "      <td>2017-07-05 19:00:00</td>\n",
       "      <td>335.91</td>\n",
       "      <td>338.56</td>\n",
       "      <td>335.17</td>\n",
       "      <td>336.74</td>\n",
       "      <td>9181</td>\n",
       "      <td>5434</td>\n",
       "      <td>337.121</td>\n",
       "    </tr>\n",
       "  </tbody>\n",
       "</table>\n",
       "</div>"
      ],
      "text/plain": [
       "                 date    open    high     low   close  volume  barCount  \\\n",
       "0 2017-07-05 15:30:00  347.20  347.24  337.06  337.89   29088     16418   \n",
       "1 2017-07-05 16:00:00  337.70  339.23  332.71  336.46   32068     17481   \n",
       "2 2017-07-05 17:00:00  336.50  336.51  331.00  333.60   19357     11072   \n",
       "3 2017-07-05 18:00:00  333.56  336.63  333.56  335.85   10023      5747   \n",
       "4 2017-07-05 19:00:00  335.91  338.56  335.17  336.74    9181      5434   \n",
       "\n",
       "   average  \n",
       "0  341.133  \n",
       "1  335.859  \n",
       "2  333.151  \n",
       "3  335.196  \n",
       "4  337.121  "
      ]
     },
     "metadata": {},
     "output_type": "display_data"
    },
    {
     "data": {
      "text/html": [
       "<div>\n",
       "<style>\n",
       "    .dataframe thead tr:only-child th {\n",
       "        text-align: right;\n",
       "    }\n",
       "\n",
       "    .dataframe thead th {\n",
       "        text-align: left;\n",
       "    }\n",
       "\n",
       "    .dataframe tbody tr th {\n",
       "        vertical-align: top;\n",
       "    }\n",
       "</style>\n",
       "<table border=\"1\" class=\"dataframe\">\n",
       "  <thead>\n",
       "    <tr style=\"text-align: right;\">\n",
       "      <th></th>\n",
       "      <th>date</th>\n",
       "      <th>open</th>\n",
       "      <th>high</th>\n",
       "      <th>low</th>\n",
       "      <th>close</th>\n",
       "      <th>volume</th>\n",
       "      <th>barCount</th>\n",
       "      <th>average</th>\n",
       "    </tr>\n",
       "  </thead>\n",
       "  <tbody>\n",
       "    <tr>\n",
       "      <th>415</th>\n",
       "      <td>2017-09-27 17:00:00</td>\n",
       "      <td>344.23</td>\n",
       "      <td>345.38</td>\n",
       "      <td>342.40</td>\n",
       "      <td>343.15</td>\n",
       "      <td>4252</td>\n",
       "      <td>2318</td>\n",
       "      <td>343.737</td>\n",
       "    </tr>\n",
       "    <tr>\n",
       "      <th>416</th>\n",
       "      <td>2017-09-27 18:00:00</td>\n",
       "      <td>343.16</td>\n",
       "      <td>344.29</td>\n",
       "      <td>341.88</td>\n",
       "      <td>343.71</td>\n",
       "      <td>4274</td>\n",
       "      <td>2056</td>\n",
       "      <td>343.089</td>\n",
       "    </tr>\n",
       "    <tr>\n",
       "      <th>417</th>\n",
       "      <td>2017-09-27 19:00:00</td>\n",
       "      <td>343.68</td>\n",
       "      <td>346.95</td>\n",
       "      <td>342.98</td>\n",
       "      <td>345.79</td>\n",
       "      <td>4026</td>\n",
       "      <td>2132</td>\n",
       "      <td>345.213</td>\n",
       "    </tr>\n",
       "    <tr>\n",
       "      <th>418</th>\n",
       "      <td>2017-09-27 20:00:00</td>\n",
       "      <td>345.70</td>\n",
       "      <td>346.10</td>\n",
       "      <td>343.10</td>\n",
       "      <td>343.30</td>\n",
       "      <td>4188</td>\n",
       "      <td>2186</td>\n",
       "      <td>344.490</td>\n",
       "    </tr>\n",
       "    <tr>\n",
       "      <th>419</th>\n",
       "      <td>2017-09-27 21:00:00</td>\n",
       "      <td>343.31</td>\n",
       "      <td>344.63</td>\n",
       "      <td>340.50</td>\n",
       "      <td>340.99</td>\n",
       "      <td>11952</td>\n",
       "      <td>6721</td>\n",
       "      <td>342.191</td>\n",
       "    </tr>\n",
       "  </tbody>\n",
       "</table>\n",
       "</div>"
      ],
      "text/plain": [
       "                   date    open    high     low   close  volume  barCount  \\\n",
       "415 2017-09-27 17:00:00  344.23  345.38  342.40  343.15    4252      2318   \n",
       "416 2017-09-27 18:00:00  343.16  344.29  341.88  343.71    4274      2056   \n",
       "417 2017-09-27 19:00:00  343.68  346.95  342.98  345.79    4026      2132   \n",
       "418 2017-09-27 20:00:00  345.70  346.10  343.10  343.30    4188      2186   \n",
       "419 2017-09-27 21:00:00  343.31  344.63  340.50  340.99   11952      6721   \n",
       "\n",
       "     average  \n",
       "415  343.737  \n",
       "416  343.089  \n",
       "417  345.213  \n",
       "418  344.490  \n",
       "419  342.191  "
      ]
     },
     "metadata": {},
     "output_type": "display_data"
    }
   ],
   "source": [
    "df = util.df(bars)\n",
    "\n",
    "display(df.head())\n",
    "display(df.tail())"
   ]
  },
  {
   "cell_type": "markdown",
   "metadata": {},
   "source": [
    "Instruct the notebook to draw plot graphics inline:"
   ]
  },
  {
   "cell_type": "code",
   "execution_count": 6,
   "metadata": {
    "collapsed": true
   },
   "outputs": [],
   "source": [
    "%matplotlib inline"
   ]
  },
  {
   "cell_type": "markdown",
   "metadata": {},
   "source": [
    "Plot the close data"
   ]
  },
  {
   "cell_type": "code",
   "execution_count": 7,
   "metadata": {},
   "outputs": [
    {
     "data": {
      "image/png": "[encoded data removed]",
      "text/plain": [
       "<matplotlib.figure.Figure at 0x7fba4fe33a90>"
      ]
     },
     "metadata": {},
     "output_type": "display_data"
    }
   ],
   "source": [
    "df.plot(y='close');"
   ]
  },
  {
   "cell_type": "markdown",
   "metadata": {
    "collapsed": true
   },
   "source": [
    "There is also a utility function to plot bars as a candlestick plot. It can accept either a DataFrame or a list of bars. Here it will print the last 100 bars:"
   ]
  },
  {
   "cell_type": "code",
   "execution_count": 8,
   "metadata": {},
   "outputs": [
    {
     "data": {
      "image/png": "[encoded data removed]",
      "text/plain": [
       "<matplotlib.figure.Figure at 0x7fba68078c18>"
      ]
     },
     "metadata": {},
     "output_type": "display_data"
    }
   ],
   "source": [
    "util.barplot(bars[-100:], title=contract.symbol);"
   ]
  },
  {
   "cell_type": "markdown",
   "metadata": {},
   "source": [
    "## Historical data with realtime updates\n",
    "\n",
    "A new feature of the API is to get live updates for historical bars. This is done by setting `endDateTime` to an empty string and the `keepUpToDate` parameter to `True`.\n",
    "\n",
    "Let's get some bars with an keepUpToDate subscription:"
   ]
  },
  {
   "cell_type": "code",
   "execution_count": 9,
   "metadata": {},
   "outputs": [],
   "source": [
    "contract = Forex('EURUSD')\n",
    "\n",
    "bars = ib.reqHistoricalData(\n",
    "        contract,\n",
    "        endDateTime='',\n",
    "        durationStr='900 S',\n",
    "        barSizeSetting='10 secs',\n",
    "        whatToShow='MIDPOINT',\n",
    "        useRTH=True,\n",
    "        formatDate=1,\n",
    "        keepUpToDate=True)"
   ]
  },
  {
   "cell_type": "markdown",
   "metadata": {},
   "source": [
    "Replot for every change of the last bar:"
   ]
  },
  {
   "cell_type": "code",
   "execution_count": null,
   "metadata": {},
   "outputs": [
    {
     "data": {
      "image/png": "[encoded data removed]",
      "text/plain": [
       "<matplotlib.figure.Figure at 0x7fba41761d30>"
      ]
     },
     "metadata": {},
     "output_type": "display_data"
    }
   ],
   "source": [
    "from IPython.display import display, clear_output\n",
    "import matplotlib.pyplot as plt\n",
    "\n",
    "def onBarUpdate(bars, hasNewBar):\n",
    "    plt.close()\n",
    "    plot = util.barplot(bars)\n",
    "    clear_output(wait=True)\n",
    "    display(plot)\n",
    "\n",
    "ib.setCallback('barUpdate', onBarUpdate)\n",
    "ib.sleep(60)\n",
    "ib.cancelHistoricalData(bars)"
   ]
  }
 ],
 "metadata": {
  "kernelspec": {
   "display_name": "Python 3",
   "language": "python",
   "name": "python3"
  },
  "language_info": {
   "codemirror_mode": {
    "name": "ipython",
    "version": 3
   },
   "file_extension": ".py",
   "mimetype": "text/x-python",
   "name": "python",
   "nbconvert_exporter": "python",
   "pygments_lexer": "ipython3",
   "version": "3.6.2"
  }
 },
 "nbformat": 4,
 "nbformat_minor": 2
}
