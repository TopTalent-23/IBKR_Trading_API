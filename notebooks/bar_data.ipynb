{
 "cells": [
  {
   "cell_type": "markdown",
   "metadata": {},
   "source": [
    "# Bar data"
   ]
  },
  {
   "cell_type": "code",
   "execution_count": 1,
   "metadata": {
    "collapsed": true
   },
   "outputs": [],
   "source": [
    "from ib_insync import *\n",
    "util.startLoop()\n",
    "\n",
    "ib = IB()\n",
    "ib.connect('127.0.0.1', 7497, clientId=14)"
   ]
  },
  {
   "cell_type": "markdown",
   "metadata": {},
   "source": [
    "## Historical data"
   ]
  },
  {
   "cell_type": "markdown",
   "metadata": {},
   "source": [
    "To get the earliest date of available bar data the \"head timestamp\" can be requested:"
   ]
  },
  {
   "cell_type": "code",
   "execution_count": 2,
   "metadata": {},
   "outputs": [
    {
     "data": {
      "text/plain": [
       "datetime.datetime(2010, 6, 29, 8, 0)"
      ]
     },
     "execution_count": 2,
     "metadata": {},
     "output_type": "execute_result"
    }
   ],
   "source": [
    "contract = Stock('TSLA', 'SMART', 'USD')\n",
    "\n",
    "ib.reqHeadTimeStamp(contract, whatToShow='TRADES', useRTH=True)"
   ]
  },
  {
   "cell_type": "markdown",
   "metadata": {},
   "source": [
    "To request hourly data of the last 60 trading days:"
   ]
  },
  {
   "cell_type": "code",
   "execution_count": 3,
   "metadata": {
    "collapsed": true
   },
   "outputs": [],
   "source": [
    "bars = ib.reqHistoricalData(\n",
    "        contract,\n",
    "        endDateTime='',\n",
    "        durationStr='60 D',\n",
    "        barSizeSetting='1 hour',\n",
    "        whatToShow='TRADES',\n",
    "        useRTH=True,\n",
    "        formatDate=1)"
   ]
  },
  {
   "cell_type": "code",
   "execution_count": 4,
   "metadata": {},
   "outputs": [
    {
     "data": {
      "text/plain": [
       "BarData(date=datetime.datetime(2017, 5, 11, 15, 30), open=323.89, high=326.0, low=320.41, close=321.57, volume=9650, barCount=4569, average=323.12)"
      ]
     },
     "execution_count": 4,
     "metadata": {},
     "output_type": "execute_result"
    }
   ],
   "source": [
    "bars[0]"
   ]
  },
  {
   "cell_type": "markdown",
   "metadata": {},
   "source": [
    "Convert the list of bars to a data frame and print the first and last rows:"
   ]
  },
  {
   "cell_type": "code",
   "execution_count": 5,
   "metadata": {},
   "outputs": [
    {
     "data": {
      "text/html": [
       "<div>\n",
       "<style>\n",
       "    .dataframe thead tr:only-child th {\n",
       "        text-align: right;\n",
       "    }\n",
       "\n",
       "    .dataframe thead th {\n",
       "        text-align: left;\n",
       "    }\n",
       "\n",
       "    .dataframe tbody tr th {\n",
       "        vertical-align: top;\n",
       "    }\n",
       "</style>\n",
       "<table border=\"1\" class=\"dataframe\">\n",
       "  <thead>\n",
       "    <tr style=\"text-align: right;\">\n",
       "      <th></th>\n",
       "      <th>date</th>\n",
       "      <th>open</th>\n",
       "      <th>high</th>\n",
       "      <th>low</th>\n",
       "      <th>close</th>\n",
       "      <th>volume</th>\n",
       "      <th>barCount</th>\n",
       "      <th>average</th>\n",
       "    </tr>\n",
       "  </thead>\n",
       "  <tbody>\n",
       "    <tr>\n",
       "      <th>0</th>\n",
       "      <td>2017-05-11 15:30:00</td>\n",
       "      <td>323.89</td>\n",
       "      <td>326.00</td>\n",
       "      <td>320.41</td>\n",
       "      <td>321.57</td>\n",
       "      <td>9650</td>\n",
       "      <td>4569</td>\n",
       "      <td>323.120</td>\n",
       "    </tr>\n",
       "    <tr>\n",
       "      <th>1</th>\n",
       "      <td>2017-05-11 16:00:00</td>\n",
       "      <td>321.86</td>\n",
       "      <td>322.75</td>\n",
       "      <td>319.60</td>\n",
       "      <td>322.16</td>\n",
       "      <td>8408</td>\n",
       "      <td>4694</td>\n",
       "      <td>321.183</td>\n",
       "    </tr>\n",
       "    <tr>\n",
       "      <th>2</th>\n",
       "      <td>2017-05-11 17:00:00</td>\n",
       "      <td>322.16</td>\n",
       "      <td>323.70</td>\n",
       "      <td>321.86</td>\n",
       "      <td>322.61</td>\n",
       "      <td>4608</td>\n",
       "      <td>2697</td>\n",
       "      <td>322.683</td>\n",
       "    </tr>\n",
       "    <tr>\n",
       "      <th>3</th>\n",
       "      <td>2017-05-11 18:00:00</td>\n",
       "      <td>322.62</td>\n",
       "      <td>323.29</td>\n",
       "      <td>322.29</td>\n",
       "      <td>323.03</td>\n",
       "      <td>1848</td>\n",
       "      <td>1181</td>\n",
       "      <td>322.812</td>\n",
       "    </tr>\n",
       "    <tr>\n",
       "      <th>4</th>\n",
       "      <td>2017-05-11 19:00:00</td>\n",
       "      <td>323.01</td>\n",
       "      <td>324.71</td>\n",
       "      <td>322.86</td>\n",
       "      <td>323.56</td>\n",
       "      <td>3616</td>\n",
       "      <td>1945</td>\n",
       "      <td>323.914</td>\n",
       "    </tr>\n",
       "  </tbody>\n",
       "</table>\n",
       "</div>"
      ],
      "text/plain": [
       "                 date    open    high     low   close  volume  barCount  \\\n",
       "0 2017-05-11 15:30:00  323.89  326.00  320.41  321.57    9650      4569   \n",
       "1 2017-05-11 16:00:00  321.86  322.75  319.60  322.16    8408      4694   \n",
       "2 2017-05-11 17:00:00  322.16  323.70  321.86  322.61    4608      2697   \n",
       "3 2017-05-11 18:00:00  322.62  323.29  322.29  323.03    1848      1181   \n",
       "4 2017-05-11 19:00:00  323.01  324.71  322.86  323.56    3616      1945   \n",
       "\n",
       "   average  \n",
       "0  323.120  \n",
       "1  321.183  \n",
       "2  322.683  \n",
       "3  322.812  \n",
       "4  323.914  "
      ]
     },
     "metadata": {},
     "output_type": "display_data"
    },
    {
     "data": {
      "text/html": [
       "<div>\n",
       "<style>\n",
       "    .dataframe thead tr:only-child th {\n",
       "        text-align: right;\n",
       "    }\n",
       "\n",
       "    .dataframe thead th {\n",
       "        text-align: left;\n",
       "    }\n",
       "\n",
       "    .dataframe tbody tr th {\n",
       "        vertical-align: top;\n",
       "    }\n",
       "</style>\n",
       "<table border=\"1\" class=\"dataframe\">\n",
       "  <thead>\n",
       "    <tr style=\"text-align: right;\">\n",
       "      <th></th>\n",
       "      <th>date</th>\n",
       "      <th>open</th>\n",
       "      <th>high</th>\n",
       "      <th>low</th>\n",
       "      <th>close</th>\n",
       "      <th>volume</th>\n",
       "      <th>barCount</th>\n",
       "      <th>average</th>\n",
       "    </tr>\n",
       "  </thead>\n",
       "  <tbody>\n",
       "    <tr>\n",
       "      <th>412</th>\n",
       "      <td>2017-08-04 17:00:00</td>\n",
       "      <td>349.30</td>\n",
       "      <td>352.66</td>\n",
       "      <td>348.85</td>\n",
       "      <td>351.10</td>\n",
       "      <td>14453</td>\n",
       "      <td>6944</td>\n",
       "      <td>351.394</td>\n",
       "    </tr>\n",
       "    <tr>\n",
       "      <th>413</th>\n",
       "      <td>2017-08-04 18:00:00</td>\n",
       "      <td>351.08</td>\n",
       "      <td>352.05</td>\n",
       "      <td>350.12</td>\n",
       "      <td>351.24</td>\n",
       "      <td>5779</td>\n",
       "      <td>2950</td>\n",
       "      <td>351.172</td>\n",
       "    </tr>\n",
       "    <tr>\n",
       "      <th>414</th>\n",
       "      <td>2017-08-04 19:00:00</td>\n",
       "      <td>351.21</td>\n",
       "      <td>354.25</td>\n",
       "      <td>351.21</td>\n",
       "      <td>353.77</td>\n",
       "      <td>8654</td>\n",
       "      <td>4227</td>\n",
       "      <td>353.043</td>\n",
       "    </tr>\n",
       "    <tr>\n",
       "      <th>415</th>\n",
       "      <td>2017-08-04 20:00:00</td>\n",
       "      <td>353.73</td>\n",
       "      <td>353.92</td>\n",
       "      <td>351.51</td>\n",
       "      <td>352.71</td>\n",
       "      <td>6808</td>\n",
       "      <td>3374</td>\n",
       "      <td>352.905</td>\n",
       "    </tr>\n",
       "    <tr>\n",
       "      <th>416</th>\n",
       "      <td>2017-08-04 21:00:00</td>\n",
       "      <td>352.57</td>\n",
       "      <td>357.27</td>\n",
       "      <td>352.40</td>\n",
       "      <td>357.00</td>\n",
       "      <td>17463</td>\n",
       "      <td>10263</td>\n",
       "      <td>355.045</td>\n",
       "    </tr>\n",
       "  </tbody>\n",
       "</table>\n",
       "</div>"
      ],
      "text/plain": [
       "                   date    open    high     low   close  volume  barCount  \\\n",
       "412 2017-08-04 17:00:00  349.30  352.66  348.85  351.10   14453      6944   \n",
       "413 2017-08-04 18:00:00  351.08  352.05  350.12  351.24    5779      2950   \n",
       "414 2017-08-04 19:00:00  351.21  354.25  351.21  353.77    8654      4227   \n",
       "415 2017-08-04 20:00:00  353.73  353.92  351.51  352.71    6808      3374   \n",
       "416 2017-08-04 21:00:00  352.57  357.27  352.40  357.00   17463     10263   \n",
       "\n",
       "     average  \n",
       "412  351.394  \n",
       "413  351.172  \n",
       "414  353.043  \n",
       "415  352.905  \n",
       "416  355.045  "
      ]
     },
     "metadata": {},
     "output_type": "display_data"
    }
   ],
   "source": [
    "df = util.df(bars)\n",
    "\n",
    "display(df.head())\n",
    "display(df.tail())"
   ]
  },
  {
   "cell_type": "markdown",
   "metadata": {},
   "source": [
    "Instruct the notebook to draw plot graphics inline:"
   ]
  },
  {
   "cell_type": "code",
   "execution_count": 6,
   "metadata": {
    "collapsed": true
   },
   "outputs": [],
   "source": [
    "%matplotlib inline"
   ]
  },
  {
   "cell_type": "markdown",
   "metadata": {},
   "source": [
    "Plot the close data"
   ]
  },
  {
   "cell_type": "code",
   "execution_count": 7,
   "metadata": {},
   "outputs": [
    {
     "data": {
      "image/png": "[encoded data removed]",
      "text/plain": [
       "<matplotlib.figure.Figure at 0x7f34d3a37668>"
      ]
     },
     "metadata": {},
     "output_type": "display_data"
    }
   ],
   "source": [
    "df.plot(y='close');"
   ]
  },
  {
   "cell_type": "markdown",
   "metadata": {
    "collapsed": true
   },
   "source": [
    "There is also a utility function to plot bars as a candlestick plot. It can accept either a DataFrame or a list of bars. Here it will print the last 100 bars:"
   ]
  },
  {
   "cell_type": "code",
   "execution_count": 8,
   "metadata": {},
   "outputs": [
    {
     "data": {
      "image/png": "[encoded data removed]",
      "text/plain": [
       "<matplotlib.figure.Figure at 0x7f34d17c3400>"
      ]
     },
     "metadata": {},
     "output_type": "display_data"
    }
   ],
   "source": [
    "util.barplot(bars[-100:], title=contract.symbol);"
   ]
  },
  {
   "cell_type": "markdown",
   "metadata": {},
   "source": [
    "## Historical data with realtime updates\n",
    "\n",
    "A new feature of the API is to get live updates for historical bars. This is done by setting `endDateTime` to an empty string and the `keepUpToDate` parameter to `True`.\n",
    "\n",
    "Let's get some bars with an keepUpToDate subscription:"
   ]
  },
  {
   "cell_type": "code",
   "execution_count": 9,
   "metadata": {
    "collapsed": true
   },
   "outputs": [],
   "source": [
    "contract = Forex('EURUSD')\n",
    "\n",
    "bars = ib.reqHistoricalData(\n",
    "        contract,\n",
    "        endDateTime='',\n",
    "        durationStr='3600 S',\n",
    "        barSizeSetting='1 min',\n",
    "        whatToShow='MIDPOINT',\n",
    "        useRTH=True,\n",
    "        formatDate=1,\n",
    "        keepUpToDate=True)"
   ]
  },
  {
   "cell_type": "markdown",
   "metadata": {},
   "source": [
    "Replot for every change of the last bar:\n",
    "\n",
    "(interupt the loop with \"Kernel interupt\" button or menu item)"
   ]
  },
  {
   "cell_type": "code",
   "execution_count": null,
   "metadata": {},
   "outputs": [
    {
     "data": {
      "image/png": "[encoded data removed]",
      "text/plain": [
       "<matplotlib.figure.Figure at 0x7f34c8727be0>"
      ]
     },
     "metadata": {},
     "output_type": "display_data"
    }
   ],
   "source": [
    "from IPython.display import clear_output\n",
    "import matplotlib.pyplot as plt\n",
    "\n",
    "prevBar = None\n",
    "while ib.waitOnUpdate():\n",
    "    currBar = bars[-1] if bars else None\n",
    "    if prevBar != currBar:\n",
    "        prevBar = currBar\n",
    "        plt.close()\n",
    "        plot = util.barplot(bars)\n",
    "        clear_output(wait=True)\n",
    "        display(plot)"
   ]
  },
  {
   "cell_type": "code",
   "execution_count": null,
   "metadata": {
    "collapsed": true
   },
   "outputs": [],
   "source": []
  }
 ],
 "metadata": {
  "kernelspec": {
   "display_name": "Python 3",
   "language": "python",
   "name": "python3"
  },
  "language_info": {
   "codemirror_mode": {
    "name": "ipython",
    "version": 3
   },
   "file_extension": ".py",
   "mimetype": "text/x-python",
   "name": "python",
   "nbconvert_exporter": "python",
   "pygments_lexer": "ipython3",
   "version": "3.6.2"
  }
 },
 "nbformat": 4,
 "nbformat_minor": 2
}
