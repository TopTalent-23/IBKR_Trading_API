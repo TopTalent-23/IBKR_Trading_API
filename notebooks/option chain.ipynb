{
 "cells": [
  {
   "cell_type": "markdown",
   "metadata": {},
   "source": [
    "Option chains\n",
    "======="
   ]
  },
  {
   "cell_type": "code",
   "execution_count": 1,
   "metadata": {
    "scrolled": true
   },
   "outputs": [],
   "source": [
    "%gui qt5\n",
    "\n",
    "from ib_insync import *\n",
    "util.useQt()\n",
    "\n",
    "ib = IB()\n",
    "ib.connect('127.0.0.1', 7497, clientId=12)"
   ]
  },
  {
   "cell_type": "markdown",
   "metadata": {},
   "source": [
    "Suppose we want to find the options on the SPY. There are two ways to do that:\n",
    "* The old way by requesting contract details\n",
    "* The new and faster way\n",
    "\n",
    "So first the old way. It starts with an ambiguous Option contract and uses that\n",
    "as a wildcard to get the details of all contracts that match:\n",
    "\n",
    "** This will take a while **"
   ]
  },
  {
   "cell_type": "code",
   "execution_count": 2,
   "metadata": {},
   "outputs": [
    {
     "name": "stdout",
     "output_type": "stream",
     "text": [
      "4638\n"
     ]
    },
    {
     "data": {
      "text/plain": [
       "Contract(conId=178534485, symbol='SPY', secType='OPT', lastTradeDateOrContractMonth='20171215', strike=100.0, right='C', multiplier='100', exchange='SMART', currency='USD', localSymbol='SPY   171215C00100000', tradingClass='SPY')"
      ]
     },
     "execution_count": 2,
     "metadata": {},
     "output_type": "execute_result"
    }
   ],
   "source": [
    "option = Option('SPY', exchange='SMART')\n",
    "cds = ib.reqContractDetails(option)\n",
    "\n",
    "contracts = [cd.summary for cd in cds]\n",
    "\n",
    "print(len(contracts))\n",
    "contracts[0]"
   ]
  },
  {
   "cell_type": "markdown",
   "metadata": {},
   "source": [
    "So that's a few thousand contracts. Let's put in some restrictions to get this number down:\n",
    "\n",
    "* Use only the first 3 expirations after today that are on a Friday\n",
    "* Use only strike prices within +- 20 dollar of the current SPY market price\n",
    "* Use only strike prices that are a multitude of 5 dollar\n",
    "\n",
    "For the first restriction the expirations are filtered with an isFriday method,\n",
    "made unique with set(), then sorted and finally the first 3 taken:"
   ]
  },
  {
   "cell_type": "code",
   "execution_count": 3,
   "metadata": {},
   "outputs": [
    {
     "data": {
      "text/plain": [
       "['20170714', '20170721', '20170728']"
      ]
     },
     "execution_count": 3,
     "metadata": {},
     "output_type": "execute_result"
    }
   ],
   "source": [
    "import datetime\n",
    "\n",
    "def isFriday(date):\n",
    "    y = int(date[0:4])\n",
    "    m = int(date[4:6])\n",
    "    d = int(date[6:8])\n",
    "    dd = datetime.date(y, m, d)\n",
    "    return dd.weekday() == 4 and dd > datetime.date.today()\n",
    "\n",
    "expirations = sorted(set(c.lastTradeDateOrContractMonth for c in contracts\n",
    "            if isFriday(c.lastTradeDateOrContractMonth)))[:3]\n",
    "\n",
    "expirations"
   ]
  },
  {
   "cell_type": "markdown",
   "metadata": {},
   "source": [
    "Hmmm... perhaps we could have just taken the next three Fridays?\n",
    "But the number of contracts is going down nicely:"
   ]
  },
  {
   "cell_type": "code",
   "execution_count": 4,
   "metadata": {},
   "outputs": [
    {
     "name": "stdout",
     "output_type": "stream",
     "text": [
      "572\n"
     ]
    }
   ],
   "source": [
    "contracts = [c for c in contracts if c.lastTradeDateOrContractMonth in expirations]\n",
    "\n",
    "print(len(contracts))"
   ]
  },
  {
   "cell_type": "markdown",
   "metadata": {},
   "source": [
    "To get the current price, first create the SPY contract:"
   ]
  },
  {
   "cell_type": "code",
   "execution_count": 5,
   "metadata": {},
   "outputs": [
    {
     "data": {
      "text/plain": [
       "[Stock(conId=756733, symbol='SPY', exchange='ARCA', primaryExchange='ARCA', currency='USD', localSymbol='SPY', tradingClass='SPY')]"
      ]
     },
     "execution_count": 5,
     "metadata": {},
     "output_type": "execute_result"
    }
   ],
   "source": [
    "spy = Stock('SPY', 'ARCA')\n",
    "\n",
    "ib.qualifyContracts(spy)"
   ]
  },
  {
   "cell_type": "markdown",
   "metadata": {},
   "source": [
    "Then get the ticker. Requesting a ticker can take up to 11 seconds."
   ]
  },
  {
   "cell_type": "code",
   "execution_count": 6,
   "metadata": {},
   "outputs": [
    {
     "data": {
      "text/plain": [
       "Ticker(contract=Stock(conId=756733, symbol='SPY', exchange='ARCA', primaryExchange='ARCA', currency='USD', localSymbol='SPY', tradingClass='SPY'), time=datetime.datetime(2017, 7, 10, 22, 25, 55, 779317), bid=243.13, bidSize=42, ask=243.15, askSize=114, last=243.16, lastSize=3, volume=66338, high=243.33, low=242.14, close=0.0, ticks='[...]')"
      ]
     },
     "execution_count": 6,
     "metadata": {},
     "output_type": "execute_result"
    }
   ],
   "source": [
    "[ticker] = ib.reqTickers(spy)\n",
    "\n",
    "ticker"
   ]
  },
  {
   "cell_type": "markdown",
   "metadata": {},
   "source": [
    "Apply the final two restrictions:"
   ]
  },
  {
   "cell_type": "code",
   "execution_count": 7,
   "metadata": {},
   "outputs": [
    {
     "name": "stdout",
     "output_type": "stream",
     "text": [
      "48\n",
      "Contract(conId=270350402, symbol='SPY', secType='OPT', lastTradeDateOrContractMonth='20170721', strike=225.0, right='C', multiplier='100', exchange='SMART', currency='USD', localSymbol='SPY   170721C00225000', tradingClass='SPY')\n"
     ]
    }
   ],
   "source": [
    "spyPrice = ticker.marketPrice()\n",
    "\n",
    "contracts = [c for c in contracts if\n",
    "        spyPrice - 20 < c.strike < spyPrice + 20 and\n",
    "        c.strike % 5 == 0]\n",
    "\n",
    "print(len(contracts))\n",
    "print(contracts[0])\n",
    "\n",
    "oldContracts = contracts  # remember for later"
   ]
  },
  {
   "cell_type": "markdown",
   "metadata": {},
   "source": [
    "Finally we have a list of usable option contracts.\n",
    "\n",
    "Okay so now the new and faster way:"
   ]
  },
  {
   "cell_type": "code",
   "execution_count": 16,
   "metadata": {},
   "outputs": [
    {
     "data": {
      "text/html": [
       "<div>\n",
       "<style>\n",
       "    .dataframe thead tr:only-child th {\n",
       "        text-align: right;\n",
       "    }\n",
       "\n",
       "    .dataframe thead th {\n",
       "        text-align: left;\n",
       "    }\n",
       "\n",
       "    .dataframe tbody tr th {\n",
       "        vertical-align: top;\n",
       "    }\n",
       "</style>\n",
       "<table border=\"1\" class=\"dataframe\">\n",
       "  <thead>\n",
       "    <tr style=\"text-align: right;\">\n",
       "      <th></th>\n",
       "      <th>exchange</th>\n",
       "      <th>underlyingConId</th>\n",
       "      <th>tradingClass</th>\n",
       "      <th>multiplier</th>\n",
       "      <th>expirations</th>\n",
       "      <th>strikes</th>\n",
       "    </tr>\n",
       "  </thead>\n",
       "  <tbody>\n",
       "    <tr>\n",
       "      <th>0</th>\n",
       "      <td>NASDAQOM</td>\n",
       "      <td>756733</td>\n",
       "      <td>SPY</td>\n",
       "      <td>100</td>\n",
       "      <td>{20170929, 20191220, 20171229, 20170712, 20170...</td>\n",
       "      <td>{224.5, 10.0, 15.0, 20.0, 232.5, 245.5, 25.0, ...</td>\n",
       "    </tr>\n",
       "    <tr>\n",
       "      <th>1</th>\n",
       "      <td>PSE</td>\n",
       "      <td>756733</td>\n",
       "      <td>SPY</td>\n",
       "      <td>100</td>\n",
       "      <td>{20170929, 20191220, 20171229, 20170712, 20170...</td>\n",
       "      <td>{224.5, 10.0, 15.0, 20.0, 232.5, 245.5, 25.0, ...</td>\n",
       "    </tr>\n",
       "    <tr>\n",
       "      <th>2</th>\n",
       "      <td>BATS</td>\n",
       "      <td>756733</td>\n",
       "      <td>SPY</td>\n",
       "      <td>100</td>\n",
       "      <td>{20170929, 20191220, 20171229, 20170712, 20170...</td>\n",
       "      <td>{224.5, 10.0, 15.0, 20.0, 232.5, 245.5, 25.0, ...</td>\n",
       "    </tr>\n",
       "    <tr>\n",
       "      <th>3</th>\n",
       "      <td>AMEX</td>\n",
       "      <td>756733</td>\n",
       "      <td>SPY</td>\n",
       "      <td>100</td>\n",
       "      <td>{20170929, 20191220, 20171229, 20170712, 20170...</td>\n",
       "      <td>{224.5, 10.0, 15.0, 20.0, 232.5, 245.5, 25.0, ...</td>\n",
       "    </tr>\n",
       "    <tr>\n",
       "      <th>4</th>\n",
       "      <td>PEARL</td>\n",
       "      <td>756733</td>\n",
       "      <td>SPY</td>\n",
       "      <td>100</td>\n",
       "      <td>{20170929, 20191220, 20171229, 20170712, 20170...</td>\n",
       "      <td>{224.5, 10.0, 15.0, 20.0, 232.5, 245.5, 25.0, ...</td>\n",
       "    </tr>\n",
       "    <tr>\n",
       "      <th>5</th>\n",
       "      <td>NASDAQBX</td>\n",
       "      <td>756733</td>\n",
       "      <td>SPY</td>\n",
       "      <td>100</td>\n",
       "      <td>{20170929, 20191220, 20171229, 20170712, 20170...</td>\n",
       "      <td>{224.5, 10.0, 15.0, 20.0, 232.5, 245.5, 25.0, ...</td>\n",
       "    </tr>\n",
       "    <tr>\n",
       "      <th>6</th>\n",
       "      <td>ISE</td>\n",
       "      <td>756733</td>\n",
       "      <td>SPY</td>\n",
       "      <td>100</td>\n",
       "      <td>{20170929, 20191220, 20171229, 20170712, 20170...</td>\n",
       "      <td>{224.5, 10.0, 15.0, 20.0, 232.5, 245.5, 25.0, ...</td>\n",
       "    </tr>\n",
       "    <tr>\n",
       "      <th>7</th>\n",
       "      <td>MIAX</td>\n",
       "      <td>756733</td>\n",
       "      <td>SPY</td>\n",
       "      <td>100</td>\n",
       "      <td>{20170929, 20191220, 20171229, 20170712, 20170...</td>\n",
       "      <td>{224.5, 10.0, 15.0, 20.0, 232.5, 245.5, 25.0, ...</td>\n",
       "    </tr>\n",
       "    <tr>\n",
       "      <th>8</th>\n",
       "      <td>SMART</td>\n",
       "      <td>756733</td>\n",
       "      <td>SPY</td>\n",
       "      <td>100</td>\n",
       "      <td>{20170929, 20191220, 20171229, 20170712, 20170...</td>\n",
       "      <td>{224.5, 10.0, 15.0, 20.0, 232.5, 245.5, 25.0, ...</td>\n",
       "    </tr>\n",
       "    <tr>\n",
       "      <th>9</th>\n",
       "      <td>CBOE</td>\n",
       "      <td>756733</td>\n",
       "      <td>SPY</td>\n",
       "      <td>100</td>\n",
       "      <td>{20170929, 20191220, 20171229, 20170712, 20170...</td>\n",
       "      <td>{224.5, 10.0, 15.0, 20.0, 232.5, 245.5, 25.0, ...</td>\n",
       "    </tr>\n",
       "    <tr>\n",
       "      <th>10</th>\n",
       "      <td>MERCURY</td>\n",
       "      <td>756733</td>\n",
       "      <td>SPY</td>\n",
       "      <td>100</td>\n",
       "      <td>{20170929, 20191220, 20171229, 20170712, 20170...</td>\n",
       "      <td>{224.5, 10.0, 15.0, 20.0, 232.5, 245.5, 25.0, ...</td>\n",
       "    </tr>\n",
       "    <tr>\n",
       "      <th>11</th>\n",
       "      <td>EDGX</td>\n",
       "      <td>756733</td>\n",
       "      <td>SPY</td>\n",
       "      <td>100</td>\n",
       "      <td>{20170929, 20191220, 20171229, 20170712, 20170...</td>\n",
       "      <td>{224.5, 10.0, 15.0, 20.0, 232.5, 245.5, 25.0, ...</td>\n",
       "    </tr>\n",
       "    <tr>\n",
       "      <th>12</th>\n",
       "      <td>GEMINI</td>\n",
       "      <td>756733</td>\n",
       "      <td>SPY</td>\n",
       "      <td>100</td>\n",
       "      <td>{20170929, 20191220, 20171229, 20170712, 20170...</td>\n",
       "      <td>{224.5, 10.0, 15.0, 20.0, 232.5, 245.5, 25.0, ...</td>\n",
       "    </tr>\n",
       "    <tr>\n",
       "      <th>13</th>\n",
       "      <td>BOX</td>\n",
       "      <td>756733</td>\n",
       "      <td>SPY</td>\n",
       "      <td>100</td>\n",
       "      <td>{20170929, 20191220, 20171229, 20170712, 20170...</td>\n",
       "      <td>{224.5, 10.0, 15.0, 20.0, 232.5, 245.5, 25.0, ...</td>\n",
       "    </tr>\n",
       "    <tr>\n",
       "      <th>14</th>\n",
       "      <td>CBOE2</td>\n",
       "      <td>756733</td>\n",
       "      <td>SPY</td>\n",
       "      <td>100</td>\n",
       "      <td>{20170929, 20191220, 20171229, 20170712, 20170...</td>\n",
       "      <td>{224.5, 10.0, 15.0, 20.0, 232.5, 245.5, 25.0, ...</td>\n",
       "    </tr>\n",
       "    <tr>\n",
       "      <th>15</th>\n",
       "      <td>PHLX</td>\n",
       "      <td>756733</td>\n",
       "      <td>SPY</td>\n",
       "      <td>100</td>\n",
       "      <td>{20170929, 20191220, 20171229, 20170712, 20170...</td>\n",
       "      <td>{224.5, 10.0, 15.0, 20.0, 232.5, 245.5, 25.0, ...</td>\n",
       "    </tr>\n",
       "  </tbody>\n",
       "</table>\n",
       "</div>"
      ],
      "text/plain": [
       "    exchange  underlyingConId tradingClass multiplier  \\\n",
       "0   NASDAQOM           756733          SPY        100   \n",
       "1        PSE           756733          SPY        100   \n",
       "2       BATS           756733          SPY        100   \n",
       "3       AMEX           756733          SPY        100   \n",
       "4      PEARL           756733          SPY        100   \n",
       "5   NASDAQBX           756733          SPY        100   \n",
       "6        ISE           756733          SPY        100   \n",
       "7       MIAX           756733          SPY        100   \n",
       "8      SMART           756733          SPY        100   \n",
       "9       CBOE           756733          SPY        100   \n",
       "10   MERCURY           756733          SPY        100   \n",
       "11      EDGX           756733          SPY        100   \n",
       "12    GEMINI           756733          SPY        100   \n",
       "13       BOX           756733          SPY        100   \n",
       "14     CBOE2           756733          SPY        100   \n",
       "15      PHLX           756733          SPY        100   \n",
       "\n",
       "                                          expirations  \\\n",
       "0   {20170929, 20191220, 20171229, 20170712, 20170...   \n",
       "1   {20170929, 20191220, 20171229, 20170712, 20170...   \n",
       "2   {20170929, 20191220, 20171229, 20170712, 20170...   \n",
       "3   {20170929, 20191220, 20171229, 20170712, 20170...   \n",
       "4   {20170929, 20191220, 20171229, 20170712, 20170...   \n",
       "5   {20170929, 20191220, 20171229, 20170712, 20170...   \n",
       "6   {20170929, 20191220, 20171229, 20170712, 20170...   \n",
       "7   {20170929, 20191220, 20171229, 20170712, 20170...   \n",
       "8   {20170929, 20191220, 20171229, 20170712, 20170...   \n",
       "9   {20170929, 20191220, 20171229, 20170712, 20170...   \n",
       "10  {20170929, 20191220, 20171229, 20170712, 20170...   \n",
       "11  {20170929, 20191220, 20171229, 20170712, 20170...   \n",
       "12  {20170929, 20191220, 20171229, 20170712, 20170...   \n",
       "13  {20170929, 20191220, 20171229, 20170712, 20170...   \n",
       "14  {20170929, 20191220, 20171229, 20170712, 20170...   \n",
       "15  {20170929, 20191220, 20171229, 20170712, 20170...   \n",
       "\n",
       "                                              strikes  \n",
       "0   {224.5, 10.0, 15.0, 20.0, 232.5, 245.5, 25.0, ...  \n",
       "1   {224.5, 10.0, 15.0, 20.0, 232.5, 245.5, 25.0, ...  \n",
       "2   {224.5, 10.0, 15.0, 20.0, 232.5, 245.5, 25.0, ...  \n",
       "3   {224.5, 10.0, 15.0, 20.0, 232.5, 245.5, 25.0, ...  \n",
       "4   {224.5, 10.0, 15.0, 20.0, 232.5, 245.5, 25.0, ...  \n",
       "5   {224.5, 10.0, 15.0, 20.0, 232.5, 245.5, 25.0, ...  \n",
       "6   {224.5, 10.0, 15.0, 20.0, 232.5, 245.5, 25.0, ...  \n",
       "7   {224.5, 10.0, 15.0, 20.0, 232.5, 245.5, 25.0, ...  \n",
       "8   {224.5, 10.0, 15.0, 20.0, 232.5, 245.5, 25.0, ...  \n",
       "9   {224.5, 10.0, 15.0, 20.0, 232.5, 245.5, 25.0, ...  \n",
       "10  {224.5, 10.0, 15.0, 20.0, 232.5, 245.5, 25.0, ...  \n",
       "11  {224.5, 10.0, 15.0, 20.0, 232.5, 245.5, 25.0, ...  \n",
       "12  {224.5, 10.0, 15.0, 20.0, 232.5, 245.5, 25.0, ...  \n",
       "13  {224.5, 10.0, 15.0, 20.0, 232.5, 245.5, 25.0, ...  \n",
       "14  {224.5, 10.0, 15.0, 20.0, 232.5, 245.5, 25.0, ...  \n",
       "15  {224.5, 10.0, 15.0, 20.0, 232.5, 245.5, 25.0, ...  "
      ]
     },
     "execution_count": 16,
     "metadata": {},
     "output_type": "execute_result"
    }
   ],
   "source": [
    "chains = ib.reqSecDefOptParams(spy.symbol, '', spy.secType, spy.conId)\n",
    "\n",
    "util.df(chains)"
   ]
  },
  {
   "cell_type": "markdown",
   "metadata": {},
   "source": [
    "We want the options that trade on SMART:"
   ]
  },
  {
   "cell_type": "code",
   "execution_count": 9,
   "metadata": {},
   "outputs": [
    {
     "data": {
      "text/plain": [
       "OptionChain(exchange='SMART', underlyingConId=756733, tradingClass='SPY', multiplier='100', expirations={'20170929', '20191220', '20171229', '20170712', '20170825', '20170804', '20180119', '20170811', '20171215', '20171020', '20170915', '20180629', '20180316', '20190315', '20180720', '20170719', '20170728', '20190621', '20180615', '20180921', '20170721', '20190118', '20170809', '20170802', '20181221', '20170726', '20170818', '20170714', '20180329'}, strikes={224.5, 10.0, 15.0, 20.0, 232.5, 245.5, 25.0, 30.0, 225.5, 35.0, 228.5, 40.0, 45.0, 246.5, 50.0, 55.0, 226.5, 60.0, 65.0, 70.0, 247.5, 218.5, 75.0, 219.5, 80.0, 220.5, 227.5, 85.0, 221.5, 90.0, 222.5, 95.0, 248.5, 223.5, 249.5, 100.0, 101.0, 102.0, 103.0, 104.0, 105.0, 106.0, 107.0, 108.0, 109.0, 110.0, 111.0, 112.0, 113.0, 114.0, 115.0, 116.0, 117.0, 118.0, 119.0, 120.0, 121.0, 122.0, 123.0, 124.0, 125.0, 126.0, 127.0, 128.0, 129.0, 130.0, 131.0, 132.0, 133.0, 134.0, 135.0, 136.0, 137.0, 138.0, 139.0, 140.0, 141.0, 142.0, 143.0, 144.0, 145.0, 146.0, 147.0, 148.0, 149.0, 150.0, 151.0, 152.0, 153.0, 154.0, 155.0, 156.0, 157.0, 158.0, 159.0, 160.0, 161.0, 162.0, 163.0, 164.0, 165.0, 166.0, 167.0, 168.0, 169.0, 170.0, 171.0, 172.0, 173.0, 174.0, 175.0, 176.0, 177.0, 178.0, 179.0, 180.0, 181.0, 182.0, 183.0, 184.0, 185.0, 186.0, 187.0, 188.0, 189.0, 190.0, 191.0, 192.0, 193.0, 194.0, 195.0, 196.0, 197.0, 198.0, 199.0, 200.0, 201.0, 202.0, 203.0, 204.0, 205.0, 206.0, 207.0, 207.5, 208.0, 209.0, 210.0, 210.5, 211.0, 211.5, 212.0, 212.5, 213.0, 213.5, 214.0, 214.5, 215.0, 215.5, 216.0, 216.5, 217.0, 217.5, 218.0, 219.0, 220.0, 221.0, 222.0, 223.0, 224.0, 225.0, 226.0, 227.0, 228.0, 229.0, 230.0, 231.0, 232.0, 233.0, 233.5, 235.0, 236.0, 237.0, 238.0, 239.0, 240.0, 241.0, 242.0, 243.0, 244.0, 245.0, 246.0, 247.0, 248.0, 249.0, 234.0, 234.5, 252.0, 253.0, 254.0, 255.0, 256.0, 257.0, 258.0, 259.0, 260.0, 257.5, 262.0, 263.0, 264.0, 265.0, 266.0, 267.0, 268.0, 269.0, 270.0, 272.5, 275.0, 277.5, 280.0, 229.5, 230.5, 235.5, 285.0, 261.0, 290.0, 262.5, 295.0, 300.0, 305.0, 236.5, 310.0, 315.0, 267.5, 320.0, 325.0, 330.0, 237.5, 335.0, 340.0, 345.0, 251.0, 350.0, 238.5, 239.5, 231.5, 240.5, 241.5, 242.5, 252.5, 243.5, 250.0, 244.5})"
      ]
     },
     "execution_count": 9,
     "metadata": {},
     "output_type": "execute_result"
    }
   ],
   "source": [
    "chain = next(c for c in chains if c.exchange == 'SMART')\n",
    "chain"
   ]
  },
  {
   "cell_type": "markdown",
   "metadata": {},
   "source": [
    "What we have here is a matrix of expirations x strikes. From this we can build all the contracts:"
   ]
  },
  {
   "cell_type": "code",
   "execution_count": 15,
   "metadata": {},
   "outputs": [
    {
     "name": "stdout",
     "output_type": "stream",
     "text": [
      "48\n",
      "\n",
      "Option(conId=278038391, symbol='SPY', lastTradeDateOrContractMonth='20170714', strike=225.0, right='P', multiplier='100', exchange='SMART', currency='USD', localSymbol='SPY   170714P00225000', tradingClass='SPY')\n"
     ]
    }
   ],
   "source": [
    "strikes = [strike for strike in chain.strikes if\n",
    "        strike % 5 == 0 and\n",
    "        spyPrice - 20 < strike < spyPrice + 20]\n",
    "expirations = sorted(exp for exp in chain.expirations if isFriday(exp))[:3]\n",
    "rights = ['P', 'C']\n",
    "\n",
    "contracts = [Option('SPY', expiration, strike, right, 'SMART')\n",
    "        for right in rights for expiration in expirations for strike in strikes]\n",
    "\n",
    "ib.qualifyContracts(*contracts)\n",
    "\n",
    "print(len(contracts))\n",
    "print()\n",
    "print(contracts[0])"
   ]
  },
  {
   "cell_type": "markdown",
   "metadata": {},
   "source": [
    "Let's see if the new way ends up with the same contracts as the old way:"
   ]
  },
  {
   "cell_type": "code",
   "execution_count": 11,
   "metadata": {},
   "outputs": [
    {
     "data": {
      "text/plain": [
       "True"
      ]
     },
     "execution_count": 11,
     "metadata": {},
     "output_type": "execute_result"
    }
   ],
   "source": [
    "set(contracts) == set(oldContracts)"
   ]
  },
  {
   "cell_type": "markdown",
   "metadata": {},
   "source": [
    "Yep. Now to get the market data for all options in one go:"
   ]
  },
  {
   "cell_type": "code",
   "execution_count": 12,
   "metadata": {},
   "outputs": [
    {
     "data": {
      "text/plain": [
       "[Ticker(contract=Option(conId=278038391, symbol='SPY', lastTradeDateOrContractMonth='20170714', strike=225.0, right='P', multiplier='100', exchange='SMART', currency='USD', localSymbol='SPY   170714P00225000', tradingClass='SPY'), time=datetime.datetime(2017, 7, 10, 22, 26, 13, 339731), bid=0.45, bidSize=9526, ask=0.48, askSize=18077, close=0.0, ticks='[...]'),\n",
       " Ticker(contract=Option(conId=278038402, symbol='SPY', lastTradeDateOrContractMonth='20170714', strike=230.0, right='P', multiplier='100', exchange='SMART', currency='USD', localSymbol='SPY   170714P00230000', tradingClass='SPY'), time=datetime.datetime(2017, 7, 10, 22, 26, 13, 339731), bid=0.57, bidSize=556, ask=0.59, askSize=712, last=0.58, lastSize=4, close=0.0, ticks='[...]'),\n",
       " Ticker(contract=Option(conId=278038442, symbol='SPY', lastTradeDateOrContractMonth='20170714', strike=235.0, right='P', multiplier='100', exchange='SMART', currency='USD', localSymbol='SPY   170714P00235000', tradingClass='SPY'), time=datetime.datetime(2017, 7, 10, 22, 26, 13, 330011), bid=0.71, bidSize=7194, ask=0.73, askSize=5502, last=0.72, lastSize=1, close=0.0, ticks='[...]'),\n",
       " Ticker(contract=Option(conId=278038482, symbol='SPY', lastTradeDateOrContractMonth='20170714', strike=240.0, right='P', multiplier='100', exchange='SMART', currency='USD', localSymbol='SPY   170714P00240000', tradingClass='SPY'), time=datetime.datetime(2017, 7, 10, 22, 26, 13, 341151), bid=0.68, bidSize=4800, ask=0.72, askSize=2880, last=0.89, lastSize=1, close=0.0, ticks='[...]'),\n",
       " Ticker(contract=Option(conId=278038522, symbol='SPY', lastTradeDateOrContractMonth='20170714', strike=245.0, right='P', multiplier='100', exchange='SMART', currency='USD', localSymbol='SPY   170714P00245000', tradingClass='SPY'), time=datetime.datetime(2017, 7, 10, 22, 26, 13, 344080), bid=0.87, bidSize=42, ask=0.94, askSize=1, last=1.09, lastSize=49, close=0.0, ticks='[...]'),\n",
       " Ticker(contract=Option(conId=278038567, symbol='SPY', lastTradeDateOrContractMonth='20170714', strike=255.0, right='P', multiplier='100', exchange='SMART', currency='USD', localSymbol='SPY   170714P00255000', tradingClass='SPY'), time=datetime.datetime(2017, 7, 10, 22, 26, 13, 331594), bid=1.53, bidSize=395, ask=1.84, askSize=69, close=0.0, ticks='[...]'),\n",
       " Ticker(contract=Option(conId=278038573, symbol='SPY', lastTradeDateOrContractMonth='20170714', strike=260.0, right='P', multiplier='100', exchange='SMART', currency='USD', localSymbol='SPY   170714P00260000', tradingClass='SPY'), time=datetime.datetime(2017, 7, 10, 22, 26, 13, 344080), bid=1.81, bidSize=4, ask=2.13, askSize=4, close=0.0, ticks='[...]'),\n",
       " Ticker(contract=Option(conId=278038558, symbol='SPY', lastTradeDateOrContractMonth='20170714', strike=250.0, right='P', multiplier='100', exchange='SMART', currency='USD', localSymbol='SPY   170714P00250000', tradingClass='SPY'), time=datetime.datetime(2017, 7, 10, 22, 26, 13, 345455), bid=1.28, bidSize=8, ask=1.61, askSize=8, last=1.31, lastSize=5, close=0.0, ticks='[...]'),\n",
       " Ticker(contract=Option(conId=270350620, symbol='SPY', lastTradeDateOrContractMonth='20170721', strike=225.0, right='P', multiplier='100', exchange='SMART', currency='USD', localSymbol='SPY   170721P00225000', tradingClass='SPY'), time=datetime.datetime(2017, 7, 10, 22, 26, 13, 333069), bid=1.06, bidSize=2363, ask=1.09, askSize=2203, last=1.09, lastSize=88, close=0.0, ticks='[...]'),\n",
       " Ticker(contract=Option(conId=270350624, symbol='SPY', lastTradeDateOrContractMonth='20170721', strike=230.0, right='P', multiplier='100', exchange='SMART', currency='USD', localSymbol='SPY   170721P00230000', tradingClass='SPY'), time=datetime.datetime(2017, 7, 10, 22, 26, 13, 345455), bid=1.29, bidSize=5200, ask=1.33, askSize=9400, last=1.32, lastSize=3, close=0.0, ticks='[...]'),\n",
       " Ticker(contract=Option(conId=270350629, symbol='SPY', lastTradeDateOrContractMonth='20170721', strike=235.0, right='P', multiplier='100', exchange='SMART', currency='USD', localSymbol='SPY   170721P00235000', tradingClass='SPY'), time=datetime.datetime(2017, 7, 10, 22, 26, 13, 345455), bid=1.56, bidSize=2456, ask=1.58, askSize=5599, last=1.61, lastSize=4, close=0.0, ticks='[...]'),\n",
       " Ticker(contract=Option(conId=270350634, symbol='SPY', lastTradeDateOrContractMonth='20170721', strike=240.0, right='P', multiplier='100', exchange='SMART', currency='USD', localSymbol='SPY   170721P00240000', tradingClass='SPY'), time=datetime.datetime(2017, 7, 10, 22, 26, 13, 333069), bid=1.75, bidSize=1562, ask=1.78, askSize=1951, last=1.91, lastSize=4, close=0.0, ticks='[...]'),\n",
       " Ticker(contract=Option(conId=270350639, symbol='SPY', lastTradeDateOrContractMonth='20170721', strike=245.0, right='P', multiplier='100', exchange='SMART', currency='USD', localSymbol='SPY   170721P00245000', tradingClass='SPY'), time=datetime.datetime(2017, 7, 10, 22, 26, 13, 331594), bid=2.08, bidSize=20, ask=2.13, askSize=40, last=2.27, lastSize=1, close=0.0, ticks='[...]'),\n",
       " Ticker(contract=Option(conId=270350644, symbol='SPY', lastTradeDateOrContractMonth='20170721', strike=255.0, right='P', multiplier='100', exchange='SMART', currency='USD', localSymbol='SPY   170721P00255000', tradingClass='SPY'), time=datetime.datetime(2017, 7, 10, 22, 26, 13, 330011), bid=2.88, bidSize=21, ask=3.21, askSize=160, close=0.0, ticks='[...]'),\n",
       " Ticker(contract=Option(conId=270350651, symbol='SPY', lastTradeDateOrContractMonth='20170721', strike=260.0, right='P', multiplier='100', exchange='SMART', currency='USD', localSymbol='SPY   170721P00260000', tradingClass='SPY'), time=datetime.datetime(2017, 7, 10, 22, 26, 13, 330011), bid=3.35, bidSize=197, ask=3.68, askSize=196, close=0.0, ticks='[...]'),\n",
       " Ticker(contract=Option(conId=270350641, symbol='SPY', lastTradeDateOrContractMonth='20170721', strike=250.0, right='P', multiplier='100', exchange='SMART', currency='USD', localSymbol='SPY   170721P00250000', tradingClass='SPY'), time=datetime.datetime(2017, 7, 10, 22, 26, 13, 334425), bid=2.47, bidSize=4, ask=2.65, askSize=19, last=2.67, lastSize=10, close=0.0, ticks='[...]'),\n",
       " Ticker(contract=Option(conId=278759921, symbol='SPY', lastTradeDateOrContractMonth='20170728', strike=225.0, right='P', multiplier='100', exchange='SMART', currency='USD', localSymbol='SPY   170728P00225000', tradingClass='SPY'), time=datetime.datetime(2017, 7, 10, 22, 26, 13, 345455), bid=1.57, bidSize=18003, ask=1.59, askSize=12480, last=1.62, lastSize=1, close=0.0, ticks='[...]'),\n",
       " Ticker(contract=Option(conId=278759931, symbol='SPY', lastTradeDateOrContractMonth='20170728', strike=230.0, right='P', multiplier='100', exchange='SMART', currency='USD', localSymbol='SPY   170728P00230000', tradingClass='SPY'), time=datetime.datetime(2017, 7, 10, 22, 26, 13, 345455), bid=1.9, bidSize=8485, ask=1.92, askSize=1937, last=1.94, lastSize=50, close=0.0, ticks='[...]'),\n",
       " Ticker(contract=Option(conId=278759938, symbol='SPY', lastTradeDateOrContractMonth='20170728', strike=235.0, right='P', multiplier='100', exchange='SMART', currency='USD', localSymbol='SPY   170728P00235000', tradingClass='SPY'), time=datetime.datetime(2017, 7, 10, 22, 26, 13, 334425), bid=2.18, bidSize=940, ask=2.2, askSize=39, last=2.31, lastSize=39, close=0.0, ticks='[...]'),\n",
       " Ticker(contract=Option(conId=278759944, symbol='SPY', lastTradeDateOrContractMonth='20170728', strike=240.0, right='P', multiplier='100', exchange='SMART', currency='USD', localSymbol='SPY   170728P00240000', tradingClass='SPY'), time=datetime.datetime(2017, 7, 10, 22, 26, 13, 345455), bid=2.58, bidSize=21, ask=2.6, askSize=21, last=2.74, lastSize=250, close=0.0, ticks='[...]'),\n",
       " Ticker(contract=Option(conId=278759955, symbol='SPY', lastTradeDateOrContractMonth='20170728', strike=245.0, right='P', multiplier='100', exchange='SMART', currency='USD', localSymbol='SPY   170728P00245000', tradingClass='SPY'), time=datetime.datetime(2017, 7, 10, 22, 26, 13, 339731), bid=3.03, bidSize=85, ask=3.07, askSize=50, last=3.22, lastSize=25, close=0.0, ticks='[...]'),\n",
       " Ticker(contract=Option(conId=278759968, symbol='SPY', lastTradeDateOrContractMonth='20170728', strike=255.0, right='P', multiplier='100', exchange='SMART', currency='USD', localSymbol='SPY   170728P00255000', tradingClass='SPY'), time=datetime.datetime(2017, 7, 10, 22, 26, 13, 342617), bid=4.23, bidSize=10, ask=7.05, askSize=10, close=0.0, ticks='[...]'),\n",
       " Ticker(contract=Option(conId=278759978, symbol='SPY', lastTradeDateOrContractMonth='20170728', strike=260.0, right='P', multiplier='100', exchange='SMART', currency='USD', localSymbol='SPY   170728P00260000', tradingClass='SPY'), time=datetime.datetime(2017, 7, 10, 22, 26, 13, 346944), bid=4.73, bidSize=1, ask=7.93, askSize=1, close=0.0, ticks='[...]'),\n",
       " Ticker(contract=Option(conId=278759961, symbol='SPY', lastTradeDateOrContractMonth='20170728', strike=250.0, right='P', multiplier='100', exchange='SMART', currency='USD', localSymbol='SPY   170728P00250000', tradingClass='SPY'), time=datetime.datetime(2017, 7, 10, 22, 26, 13, 342617), bid=3.68, bidSize=28, ask=5.59, askSize=11, close=0.0, ticks='[...]'),\n",
       " Ticker(contract=Option(conId=278038147, symbol='SPY', lastTradeDateOrContractMonth='20170714', strike=225.0, right='C', multiplier='100', exchange='SMART', currency='USD', localSymbol='SPY   170714C00225000', tradingClass='SPY'), time=datetime.datetime(2017, 7, 10, 22, 26, 13, 331594), bid=1.5, bidSize=51, ask=1.67, askSize=42, close=0.0, ticks='[...]'),\n",
       " Ticker(contract=Option(conId=278038156, symbol='SPY', lastTradeDateOrContractMonth='20170714', strike=230.0, right='C', multiplier='100', exchange='SMART', currency='USD', localSymbol='SPY   170714C00230000', tradingClass='SPY'), time=datetime.datetime(2017, 7, 10, 22, 26, 13, 341151), bid=1.19, bidSize=125, ask=1.5, askSize=30, close=0.0, ticks='[...]'),\n",
       " Ticker(contract=Option(conId=278038197, symbol='SPY', lastTradeDateOrContractMonth='20170714', strike=235.0, right='C', multiplier='100', exchange='SMART', currency='USD', localSymbol='SPY   170714C00235000', tradingClass='SPY'), time=datetime.datetime(2017, 7, 10, 22, 26, 13, 330011), bid=1.03, bidSize=20, ask=1.15, askSize=35, close=0.0, ticks='[...]'),\n",
       " Ticker(contract=Option(conId=278038236, symbol='SPY', lastTradeDateOrContractMonth='20170714', strike=240.0, right='C', multiplier='100', exchange='SMART', currency='USD', localSymbol='SPY   170714C00240000', tradingClass='SPY'), time=datetime.datetime(2017, 7, 10, 22, 26, 13, 344080), bid=0.87, bidSize=49, ask=0.91, askSize=50, last=1.05, lastSize=64, close=0.0, ticks='[...]'),\n",
       " Ticker(contract=Option(conId=278038277, symbol='SPY', lastTradeDateOrContractMonth='20170714', strike=245.0, right='C', multiplier='100', exchange='SMART', currency='USD', localSymbol='SPY   170714C00245000', tradingClass='SPY'), time=datetime.datetime(2017, 7, 10, 22, 26, 13, 335801), bid=0.9, bidSize=545, ask=0.92, askSize=815, last=0.88, lastSize=1013, close=0.0, ticks='[...]'),\n",
       " Ticker(contract=Option(conId=278038323, symbol='SPY', lastTradeDateOrContractMonth='20170714', strike=255.0, right='C', multiplier='100', exchange='SMART', currency='USD', localSymbol='SPY   170714C00255000', tradingClass='SPY'), time=datetime.datetime(2017, 7, 10, 22, 26, 13, 338491), bid=-1.0, bidSize=0, ask=0.65, askSize=14525, close=0.0, ticks='[...]'),\n",
       " Ticker(contract=Option(conId=278038329, symbol='SPY', lastTradeDateOrContractMonth='20170714', strike=260.0, right='C', multiplier='100', exchange='SMART', currency='USD', localSymbol='SPY   170714C00260000', tradingClass='SPY'), time=datetime.datetime(2017, 7, 10, 22, 26, 13, 335801), bid=-1.0, bidSize=0, ask=0.54, askSize=9830, close=0.0, ticks='[...]'),\n",
       " Ticker(contract=Option(conId=278038312, symbol='SPY', lastTradeDateOrContractMonth='20170714', strike=250.0, right='C', multiplier='100', exchange='SMART', currency='USD', localSymbol='SPY   170714C00250000', tradingClass='SPY'), time=datetime.datetime(2017, 7, 10, 22, 26, 13, 330011), bid=-1.0, bidSize=0, ask=0.78, askSize=3607, last=0.74, lastSize=4, close=0.0, ticks='[...]'),\n",
       " Ticker(contract=Option(conId=270350402, symbol='SPY', lastTradeDateOrContractMonth='20170721', strike=225.0, right='C', multiplier='100', exchange='SMART', currency='USD', localSymbol='SPY   170721C00225000', tradingClass='SPY'), time=datetime.datetime(2017, 7, 10, 22, 26, 13, 341151), bid=3.28, bidSize=170, ask=3.64, askSize=30, close=0.0, ticks='[...]'),\n",
       " Ticker(contract=Option(conId=270350407, symbol='SPY', lastTradeDateOrContractMonth='20170721', strike=230.0, right='C', multiplier='100', exchange='SMART', currency='USD', localSymbol='SPY   170721C00230000', tradingClass='SPY'), time=datetime.datetime(2017, 7, 10, 22, 26, 13, 337091), bid=2.84, bidSize=150, ask=2.96, askSize=56, last=2.98, lastSize=5, close=0.0, ticks='[...]'),\n",
       " Ticker(contract=Option(conId=270350408, symbol='SPY', lastTradeDateOrContractMonth='20170721', strike=235.0, right='C', multiplier='100', exchange='SMART', currency='USD', localSymbol='SPY   170721C00235000', tradingClass='SPY'), time=datetime.datetime(2017, 7, 10, 22, 26, 13, 337091), bid=2.44, bidSize=20, ask=2.48, askSize=15, last=2.56, lastSize=14, close=0.0, ticks='[...]'),\n",
       " Ticker(contract=Option(conId=270350413, symbol='SPY', lastTradeDateOrContractMonth='20170721', strike=240.0, right='C', multiplier='100', exchange='SMART', currency='USD', localSymbol='SPY   170721C00240000', tradingClass='SPY'), time=datetime.datetime(2017, 7, 10, 22, 26, 13, 337091), bid=2.1, bidSize=136, ask=2.15, askSize=324, last=2.21, lastSize=1, close=0.0, ticks='[...]'),\n",
       " Ticker(contract=Option(conId=270350419, symbol='SPY', lastTradeDateOrContractMonth='20170721', strike=245.0, right='C', multiplier='100', exchange='SMART', currency='USD', localSymbol='SPY   170721C00245000', tradingClass='SPY'), time=datetime.datetime(2017, 7, 10, 22, 26, 13, 339731), bid=1.8, bidSize=146, ask=1.83, askSize=74, last=1.89, lastSize=154, close=0.0, ticks='[...]'),\n",
       " Ticker(contract=Option(conId=270350425, symbol='SPY', lastTradeDateOrContractMonth='20170721', strike=255.0, right='C', multiplier='100', exchange='SMART', currency='USD', localSymbol='SPY   170721C00255000', tradingClass='SPY'), time=datetime.datetime(2017, 7, 10, 22, 26, 13, 331594), bid=-1.0, bidSize=0, ask=1.44, askSize=1074, close=0.0, ticks='[...]'),\n",
       " Ticker(contract=Option(conId=270350428, symbol='SPY', lastTradeDateOrContractMonth='20170721', strike=260.0, right='C', multiplier='100', exchange='SMART', currency='USD', localSymbol='SPY   170721C00260000', tradingClass='SPY'), time=datetime.datetime(2017, 7, 10, 22, 26, 13, 330011), bid=-1.0, bidSize=0, ask=1.25, askSize=4978, close=0.0, ticks='[...]'),\n",
       " Ticker(contract=Option(conId=270350422, symbol='SPY', lastTradeDateOrContractMonth='20170721', strike=250.0, right='C', multiplier='100', exchange='SMART', currency='USD', localSymbol='SPY   170721C00250000', tradingClass='SPY'), time=datetime.datetime(2017, 7, 10, 22, 26, 13, 334425), bid=1.66, bidSize=314, ask=1.68, askSize=5, last=1.62, lastSize=1, close=0.0, ticks='[...]'),\n",
       " Ticker(contract=Option(conId=278759804, symbol='SPY', lastTradeDateOrContractMonth='20170728', strike=225.0, right='C', multiplier='100', exchange='SMART', currency='USD', localSymbol='SPY   170728C00225000', tradingClass='SPY'), time=datetime.datetime(2017, 7, 10, 22, 26, 13, 342617), bid=4.79, bidSize=10, ask=4.92, askSize=2, close=0.0, ticks='[...]'),\n",
       " Ticker(contract=Option(conId=278759814, symbol='SPY', lastTradeDateOrContractMonth='20170728', strike=230.0, right='C', multiplier='100', exchange='SMART', currency='USD', localSymbol='SPY   170728C00230000', tradingClass='SPY'), time=datetime.datetime(2017, 7, 10, 22, 26, 13, 342617), bid=4.03, bidSize=80, ask=4.16, askSize=14, close=0.0, ticks='[...]'),\n",
       " Ticker(contract=Option(conId=278759820, symbol='SPY', lastTradeDateOrContractMonth='20170728', strike=235.0, right='C', multiplier='100', exchange='SMART', currency='USD', localSymbol='SPY   170728C00235000', tradingClass='SPY'), time=datetime.datetime(2017, 7, 10, 22, 26, 13, 337091), bid=3.51, bidSize=99, ask=3.55, askSize=245, last=3.58, lastSize=1, close=0.0, ticks='[...]'),\n",
       " Ticker(contract=Option(conId=278759831, symbol='SPY', lastTradeDateOrContractMonth='20170728', strike=240.0, right='C', multiplier='100', exchange='SMART', currency='USD', localSymbol='SPY   170728C00240000', tradingClass='SPY'), time=datetime.datetime(2017, 7, 10, 22, 26, 13, 346944), bid=3.05, bidSize=54, ask=3.1, askSize=49, last=3.12, lastSize=4, close=0.0, ticks='[...]'),\n",
       " Ticker(contract=Option(conId=278759837, symbol='SPY', lastTradeDateOrContractMonth='20170728', strike=245.0, right='C', multiplier='100', exchange='SMART', currency='USD', localSymbol='SPY   170728C00245000', tradingClass='SPY'), time=datetime.datetime(2017, 7, 10, 22, 26, 13, 331594), bid=2.66, bidSize=3750, ask=2.69, askSize=3750, last=2.72, lastSize=10, close=0.0, ticks='[...]'),\n",
       " Ticker(contract=Option(conId=278759854, symbol='SPY', lastTradeDateOrContractMonth='20170728', strike=255.0, right='C', multiplier='100', exchange='SMART', currency='USD', localSymbol='SPY   170728C00255000', tradingClass='SPY'), time=datetime.datetime(2017, 7, 10, 22, 26, 13, 337091), bid=2.08, bidSize=4120, ask=2.1, askSize=426, last=2.04, lastSize=1, close=0.0, ticks='[...]'),\n",
       " Ticker(contract=Option(conId=278759861, symbol='SPY', lastTradeDateOrContractMonth='20170728', strike=260.0, right='C', multiplier='100', exchange='SMART', currency='USD', localSymbol='SPY   170728C00260000', tradingClass='SPY'), time=datetime.datetime(2017, 7, 10, 22, 26, 13, 346944), bid=-1.0, bidSize=0, ask=1.82, askSize=6166, close=0.0, ticks='[...]'),\n",
       " Ticker(contract=Option(conId=278759844, symbol='SPY', lastTradeDateOrContractMonth='20170728', strike=250.0, right='C', multiplier='100', exchange='SMART', currency='USD', localSymbol='SPY   170728C00250000', tradingClass='SPY'), time=datetime.datetime(2017, 7, 10, 22, 26, 13, 333069), bid=2.4, bidSize=235, ask=2.42, askSize=396, last=2.35, lastSize=93, close=0.0, ticks='[...]')]"
      ]
     },
     "execution_count": 12,
     "metadata": {},
     "output_type": "execute_result"
    }
   ],
   "source": [
    "tickers = ib.reqTickers(*contracts)\n",
    "\n",
    "tickers"
   ]
  },
  {
   "cell_type": "markdown",
   "metadata": {},
   "source": [
    "Let's ask IB what their model thinks the implied volatility is for one option, given the current market price:"
   ]
  },
  {
   "cell_type": "code",
   "execution_count": 13,
   "metadata": {},
   "outputs": [
    {
     "data": {
      "text/plain": [
       "OptionComputation(tickType=53, impliedVol=0.514995942258687, delta=None, optPrice=0.46499999999999997, pvDividend=None, gamma=None, vega=None, theta=None, undPrice=243.16)"
      ]
     },
     "execution_count": 13,
     "metadata": {},
     "output_type": "execute_result"
    }
   ],
   "source": [
    "t = tickers[0]\n",
    "\n",
    "ib.calculateImpliedVolatility(t.contract, t.marketPrice(), spyPrice)"
   ]
  },
  {
   "cell_type": "markdown",
   "metadata": {},
   "source": [
    "Sometimes there is no reply and the request will time out. Try a different ticker then.\n",
    "\n",
    "Let's now do the reverse: Assume the volatility is 0.2, what does IB think the option price should be?"
   ]
  },
  {
   "cell_type": "code",
   "execution_count": 14,
   "metadata": {},
   "outputs": [
    {
     "data": {
      "text/plain": [
       "OptionComputation(tickType=53, impliedVol=0.2, delta=-0.0001178861294523798, optPrice=0.000151702466871658, pvDividend=None, gamma=8.787553264478968e-05, vega=0.0001863353947806617, theta=None, undPrice=243.16)"
      ]
     },
     "execution_count": 14,
     "metadata": {},
     "output_type": "execute_result"
    }
   ],
   "source": [
    "ib.calculateOptionPrice(t.contract, 0.2, spyPrice)"
   ]
  },
  {
   "cell_type": "code",
   "execution_count": null,
   "metadata": {
    "collapsed": true
   },
   "outputs": [],
   "source": []
  }
 ],
 "metadata": {
  "kernelspec": {
   "display_name": "Python 3",
   "language": "python",
   "name": "python3"
  },
  "language_info": {
   "codemirror_mode": {
    "name": "ipython",
    "version": 3
   },
   "file_extension": ".py",
   "mimetype": "text/x-python",
   "name": "python",
   "nbconvert_exporter": "python",
   "pygments_lexer": "ipython3",
   "version": "3.6.1"
  }
 },
 "nbformat": 4,
 "nbformat_minor": 2
}
