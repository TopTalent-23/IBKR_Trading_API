{
 "cells": [
  {
   "cell_type": "markdown",
   "metadata": {},
   "source": [
    "Basics\n",
    "====\n",
    "\n",
    "Let's first take a look at what's inside the ``ib_insync`` package:"
   ]
  },
  {
   "cell_type": "code",
   "execution_count": 1,
   "metadata": {},
   "outputs": [
    {
     "name": "stdout",
     "output_type": "stream",
     "text": [
      "['util', 'Object', 'ContractDetails', 'ContractDescription', 'ComboLeg', 'UnderComp', 'OrderComboLeg', 'OrderState', 'OrderStatus', 'ScannerSubscription', 'SoftDollarTier', 'Execution', 'CommissionReport', 'ExecutionFilter', 'BarData', 'RealTimeBar', 'HistogramData', 'NewsProvider', 'DepthMktDataDescription', 'AccountValue', 'RealTimeBar', 'TickData', 'MktDepthData', 'BracketOrder', 'DOMLevel', 'Trade', 'TradeLogEntry', 'ScanData', 'TagValue', 'PortfolioItem', 'Position', 'Fill', 'OptionComputation', 'OptionChain', 'NewsArticle', 'HistoricalNews', 'NewsTick', 'NewsBulletin', 'ConnectionStats', 'Contract', 'Stock', 'Option', 'Future', 'Forex', 'Index', 'CFD', 'Commodity', 'Bond', 'FuturesOption', 'MutualFund', 'Warrant', 'Order', 'LimitOrder', 'MarketOrder', 'StopOrder', 'StopLimitOrder', 'Ticker', 'IB', 'Client', 'Wrapper']\n"
     ]
    }
   ],
   "source": [
    "import ib_insync\n",
    "print(ib_insync.__all__)"
   ]
  },
  {
   "cell_type": "markdown",
   "metadata": {},
   "source": [
    "The following stanza imports everything and uses the Qt event loop to keep the notebook live updated:"
   ]
  },
  {
   "cell_type": "code",
   "execution_count": 2,
   "metadata": {
    "collapsed": true
   },
   "outputs": [],
   "source": [
    "%gui qt5\n",
    "\n",
    "from ib_insync import *\n",
    "util.useQt()"
   ]
  },
  {
   "cell_type": "markdown",
   "metadata": {},
   "source": [
    "The main object of the package is \"IB\". Let's create an IB instance and connect to a running TWS/IBG application (remember it must have an open API port):"
   ]
  },
  {
   "cell_type": "code",
   "execution_count": 3,
   "metadata": {
    "collapsed": true,
    "scrolled": true
   },
   "outputs": [],
   "source": [
    "ib = IB()\n",
    "ib.connect('127.0.0.1', 7497, clientId=10)"
   ]
  },
  {
   "cell_type": "markdown",
   "metadata": {},
   "source": [
    "If the connection failed, then double-check the hostname and port. For IB Gateway the default port is 4001. Make sure the clientId is not already in use.\n",
    "\n",
    "If the connection succeeded, then ``ib`` will be synchronized with TWS/IBG. The \"current state\" is now available via various methods:"
   ]
  },
  {
   "cell_type": "code",
   "execution_count": 4,
   "metadata": {},
   "outputs": [
    {
     "name": "stdout",
     "output_type": "stream",
     "text": [
      "portolio: []\n",
      "positions: []\n",
      "trades: []\n",
      "openTrades: []\n",
      "orders: []\n",
      "openOrders: []\n",
      "fills: []\n",
      "executions: []\n",
      "nwesTicks: []\n",
      "managedAccounts: ['DU15059']\n",
      "accountValues: [AccountValue(account='DU15059', tag='AccountCode', value='DU15059', currency=''), AccountValue(account='DU15059', tag='AccountOrGroup', value='DU15059', currency='BASE'), AccountValue(account='DU15059', tag='AccountOrGroup', value='DU15059', currency='USD'), AccountValue(account='DU15059', tag='AccountReady', value='true', currency=''), AccountValue(account='DU15059', tag='AccountType', value='UNIVERSAL', currency=''), AccountValue(account='DU15059', tag='AccruedCash', value='0', currency='BASE'), AccountValue(account='DU15059', tag='AccruedCash', value='0', currency='USD'), AccountValue(account='DU15059', tag='AccruedCash-C', value='0.00', currency='USD'), AccountValue(account='DU15059', tag='AccruedCash-S', value='0.00', currency='USD'), AccountValue(account='DU15059', tag='AccruedDividend', value='0.00', currency='USD'), AccountValue(account='DU15059', tag='AccruedDividend-C', value='0.00', currency='USD'), AccountValue(account='DU15059', tag='AccruedDividend-S', value='0.00', currency='USD'), AccountValue(account='DU15059', tag='AvailableFunds', value='500000.00', currency='USD'), AccountValue(account='DU15059', tag='AvailableFunds-C', value='0.00', currency='USD'), AccountValue(account='DU15059', tag='AvailableFunds-S', value='500000.00', currency='USD'), AccountValue(account='DU15059', tag='Billable', value='0.00', currency='USD'), AccountValue(account='DU15059', tag='Billable-C', value='0.00', currency='USD'), AccountValue(account='DU15059', tag='Billable-S', value='0.00', currency='USD'), AccountValue(account='DU15059', tag='BuyingPower', value='2000000.00', currency='USD'), AccountValue(account='DU15059', tag='CashBalance', value='500000', currency='BASE'), AccountValue(account='DU15059', tag='CashBalance', value='500000', currency='USD'), AccountValue(account='DU15059', tag='CorporateBondValue', value='0', currency='BASE'), AccountValue(account='DU15059', tag='CorporateBondValue', value='0', currency='USD'), AccountValue(account='DU15059', tag='Currency', value='BASE', currency='BASE'), AccountValue(account='DU15059', tag='Currency', value='USD', currency='USD'), AccountValue(account='DU15059', tag='Cushion', value='1', currency=''), AccountValue(account='DU15059', tag='DayTradesRemaining', value='-1', currency=''), AccountValue(account='DU15059', tag='DayTradesRemainingT+1', value='-1', currency=''), AccountValue(account='DU15059', tag='DayTradesRemainingT+2', value='-1', currency=''), AccountValue(account='DU15059', tag='DayTradesRemainingT+3', value='-1', currency=''), AccountValue(account='DU15059', tag='DayTradesRemainingT+4', value='-1', currency=''), AccountValue(account='DU15059', tag='EquityWithLoanValue', value='500000.00', currency='USD'), AccountValue(account='DU15059', tag='EquityWithLoanValue-C', value='0.00', currency='USD'), AccountValue(account='DU15059', tag='EquityWithLoanValue-S', value='500000.00', currency='USD'), AccountValue(account='DU15059', tag='ExcessLiquidity', value='500000.00', currency='USD'), AccountValue(account='DU15059', tag='ExcessLiquidity-C', value='0.00', currency='USD'), AccountValue(account='DU15059', tag='ExcessLiquidity-S', value='500000.00', currency='USD'), AccountValue(account='DU15059', tag='ExchangeRate', value='1.00', currency='BASE'), AccountValue(account='DU15059', tag='ExchangeRate', value='1.00', currency='USD'), AccountValue(account='DU15059', tag='FullAvailableFunds', value='500000.00', currency='USD'), AccountValue(account='DU15059', tag='FullAvailableFunds-C', value='0.00', currency='USD'), AccountValue(account='DU15059', tag='FullAvailableFunds-S', value='500000.00', currency='USD'), AccountValue(account='DU15059', tag='FullExcessLiquidity', value='500000.00', currency='USD'), AccountValue(account='DU15059', tag='FullExcessLiquidity-C', value='0.00', currency='USD'), AccountValue(account='DU15059', tag='FullExcessLiquidity-S', value='500000.00', currency='USD'), AccountValue(account='DU15059', tag='FullInitMarginReq', value='0.00', currency='USD'), AccountValue(account='DU15059', tag='FullInitMarginReq-C', value='0.00', currency='USD'), AccountValue(account='DU15059', tag='FullInitMarginReq-S', value='0.00', currency='USD'), AccountValue(account='DU15059', tag='FullMaintMarginReq', value='0.00', currency='USD'), AccountValue(account='DU15059', tag='FullMaintMarginReq-C', value='0.00', currency='USD'), AccountValue(account='DU15059', tag='FullMaintMarginReq-S', value='0.00', currency='USD'), AccountValue(account='DU15059', tag='FundValue', value='0', currency='BASE'), AccountValue(account='DU15059', tag='FundValue', value='0', currency='USD'), AccountValue(account='DU15059', tag='FutureOptionValue', value='0', currency='BASE'), AccountValue(account='DU15059', tag='FutureOptionValue', value='0', currency='USD'), AccountValue(account='DU15059', tag='FuturesPNL', value='0', currency='BASE'), AccountValue(account='DU15059', tag='FuturesPNL', value='0', currency='USD'), AccountValue(account='DU15059', tag='FxCashBalance', value='0', currency='BASE'), AccountValue(account='DU15059', tag='FxCashBalance', value='0', currency='USD'), AccountValue(account='DU15059', tag='GrossPositionValue', value='0.00', currency='USD'), AccountValue(account='DU15059', tag='GrossPositionValue-S', value='0.00', currency='USD'), AccountValue(account='DU15059', tag='IndianStockHaircut', value='0.00', currency='USD'), AccountValue(account='DU15059', tag='IndianStockHaircut-C', value='0.00', currency='USD'), AccountValue(account='DU15059', tag='IndianStockHaircut-S', value='0.00', currency='USD'), AccountValue(account='DU15059', tag='InitMarginReq', value='0.00', currency='USD'), AccountValue(account='DU15059', tag='InitMarginReq-C', value='0.00', currency='USD'), AccountValue(account='DU15059', tag='InitMarginReq-S', value='0.00', currency='USD'), AccountValue(account='DU15059', tag='IssuerOptionValue', value='0', currency='BASE'), AccountValue(account='DU15059', tag='IssuerOptionValue', value='0', currency='USD'), AccountValue(account='DU15059', tag='Leverage-S', value='0.00', currency=''), AccountValue(account='DU15059', tag='LookAheadAvailableFunds', value='500000.00', currency='USD'), AccountValue(account='DU15059', tag='LookAheadAvailableFunds-C', value='0.00', currency='USD'), AccountValue(account='DU15059', tag='LookAheadAvailableFunds-S', value='500000.00', currency='USD'), AccountValue(account='DU15059', tag='LookAheadExcessLiquidity', value='500000.00', currency='USD'), AccountValue(account='DU15059', tag='LookAheadExcessLiquidity-C', value='0.00', currency='USD'), AccountValue(account='DU15059', tag='LookAheadExcessLiquidity-S', value='500000.00', currency='USD'), AccountValue(account='DU15059', tag='LookAheadInitMarginReq', value='0.00', currency='USD'), AccountValue(account='DU15059', tag='LookAheadInitMarginReq-C', value='0.00', currency='USD'), AccountValue(account='DU15059', tag='LookAheadInitMarginReq-S', value='0.00', currency='USD'), AccountValue(account='DU15059', tag='LookAheadMaintMarginReq', value='0.00', currency='USD'), AccountValue(account='DU15059', tag='LookAheadMaintMarginReq-C', value='0.00', currency='USD'), AccountValue(account='DU15059', tag='LookAheadMaintMarginReq-S', value='0.00', currency='USD'), AccountValue(account='DU15059', tag='LookAheadNextChange', value='0', currency=''), AccountValue(account='DU15059', tag='MaintMarginReq', value='0.00', currency='USD'), AccountValue(account='DU15059', tag='MaintMarginReq-C', value='0.00', currency='USD'), AccountValue(account='DU15059', tag='MaintMarginReq-S', value='0.00', currency='USD'), AccountValue(account='DU15059', tag='MoneyMarketFundValue', value='0', currency='BASE'), AccountValue(account='DU15059', tag='MoneyMarketFundValue', value='0', currency='USD'), AccountValue(account='DU15059', tag='MutualFundValue', value='0', currency='BASE'), AccountValue(account='DU15059', tag='MutualFundValue', value='0', currency='USD'), AccountValue(account='DU15059', tag='NetDividend', value='0', currency='BASE'), AccountValue(account='DU15059', tag='NetDividend', value='0', currency='USD'), AccountValue(account='DU15059', tag='NetLiquidation', value='500000.00', currency='USD'), AccountValue(account='DU15059', tag='NetLiquidation-C', value='0.00', currency='USD'), AccountValue(account='DU15059', tag='NetLiquidation-S', value='500000.00', currency='USD'), AccountValue(account='DU15059', tag='NetLiquidationByCurrency', value='500000', currency='BASE'), AccountValue(account='DU15059', tag='NetLiquidationByCurrency', value='500000', currency='USD'), AccountValue(account='DU15059', tag='NetLiquidationUncertainty', value='0.00', currency='USD'), AccountValue(account='DU15059', tag='OptionMarketValue', value='0', currency='BASE'), AccountValue(account='DU15059', tag='OptionMarketValue', value='0', currency='USD'), AccountValue(account='DU15059', tag='PASharesValue', value='0.00', currency='USD'), AccountValue(account='DU15059', tag='PASharesValue-C', value='0.00', currency='USD'), AccountValue(account='DU15059', tag='PASharesValue-S', value='0.00', currency='USD'), AccountValue(account='DU15059', tag='PostExpirationExcess', value='0.00', currency='USD'), AccountValue(account='DU15059', tag='PostExpirationExcess-C', value='0.00', currency='USD'), AccountValue(account='DU15059', tag='PostExpirationExcess-S', value='0.00', currency='USD'), AccountValue(account='DU15059', tag='PostExpirationMargin', value='0.00', currency='USD'), AccountValue(account='DU15059', tag='PostExpirationMargin-C', value='0.00', currency='USD'), AccountValue(account='DU15059', tag='PostExpirationMargin-S', value='0.00', currency='USD'), AccountValue(account='DU15059', tag='RealCurrency', value='BASE', currency='BASE'), AccountValue(account='DU15059', tag='RealCurrency', value='USD', currency='USD'), AccountValue(account='DU15059', tag='RealizedPnL', value='0', currency='BASE'), AccountValue(account='DU15059', tag='RealizedPnL', value='0', currency='USD'), AccountValue(account='DU15059', tag='RegTEquity', value='500000.00', currency='USD'), AccountValue(account='DU15059', tag='RegTEquity-S', value='500000.00', currency='USD'), AccountValue(account='DU15059', tag='RegTMargin', value='0.00', currency='USD'), AccountValue(account='DU15059', tag='RegTMargin-S', value='0.00', currency='USD'), AccountValue(account='DU15059', tag='SMA', value='500000.00', currency='USD'), AccountValue(account='DU15059', tag='SMA-S', value='500000.00', currency='USD'), AccountValue(account='DU15059', tag='SegmentTitle-C', value='Commodities', currency=''), AccountValue(account='DU15059', tag='SegmentTitle-S', value='Securities', currency=''), AccountValue(account='DU15059', tag='StockMarketValue', value='0', currency='BASE'), AccountValue(account='DU15059', tag='StockMarketValue', value='0', currency='USD'), AccountValue(account='DU15059', tag='TBillValue', value='0', currency='BASE'), AccountValue(account='DU15059', tag='TBillValue', value='0', currency='USD'), AccountValue(account='DU15059', tag='TBondValue', value='0', currency='BASE'), AccountValue(account='DU15059', tag='TBondValue', value='0', currency='USD'), AccountValue(account='DU15059', tag='TotalCashBalance', value='500000', currency='BASE'), AccountValue(account='DU15059', tag='TotalCashBalance', value='500000', currency='USD'), AccountValue(account='DU15059', tag='TotalCashValue', value='500000.00', currency='USD'), AccountValue(account='DU15059', tag='TotalCashValue-C', value='0.00', currency='USD'), AccountValue(account='DU15059', tag='TotalCashValue-S', value='500000.00', currency='USD'), AccountValue(account='DU15059', tag='TotalDebitCardPendingCharges', value='0.00', currency='USD'), AccountValue(account='DU15059', tag='TotalDebitCardPendingCharges-C', value='0.00', currency='USD'), AccountValue(account='DU15059', tag='TotalDebitCardPendingCharges-S', value='0.00', currency='USD'), AccountValue(account='DU15059', tag='TradingType-S', value='STKNOPT', currency=''), AccountValue(account='DU15059', tag='UnrealizedPnL', value='0', currency='BASE'), AccountValue(account='DU15059', tag='UnrealizedPnL', value='0', currency='USD'), AccountValue(account='DU15059', tag='WarrantValue', value='0', currency='BASE'), AccountValue(account='DU15059', tag='WarrantValue', value='0', currency='USD'), AccountValue(account='DU15059', tag='WhatIfPMEnabled', value='true', currency='')]\n",
      "tickers: []\n"
     ]
    }
   ],
   "source": [
    "print(\"portolio:\", ib.portfolio())\n",
    "print(\"positions:\", ib.positions())\n",
    "print(\"trades:\", ib.trades())\n",
    "print(\"openTrades:\", ib.openTrades())\n",
    "print(\"orders:\", ib.orders())\n",
    "print(\"openOrders:\", ib.openOrders())\n",
    "print(\"fills:\", ib.fills())\n",
    "print(\"executions:\", ib.executions())\n",
    "print(\"nwesTicks:\", ib.newsTicks())\n",
    "print(\"managedAccounts:\", ib.managedAccounts())\n",
    "print(\"accountValues:\", ib.accountValues())\n",
    "print(\"tickers:\", ib.tickers())"
   ]
  },
  {
   "cell_type": "markdown",
   "metadata": {},
   "source": [
    "This state will automatically be kept in sync with TWS/IBG. For example, an execution will be added as soon as it is reported, or account values will be updated as soon as they change in TWS. To see some of the live updates in the notebook:"
   ]
  },
  {
   "cell_type": "code",
   "execution_count": 5,
   "metadata": {
    "collapsed": true
   },
   "outputs": [],
   "source": [
    "util.logToConsole()"
   ]
  },
  {
   "cell_type": "markdown",
   "metadata": {},
   "source": [
    "This will put log messages under the current active cell.\n",
    "\n",
    "To see all debug messages (including network traffic):"
   ]
  },
  {
   "cell_type": "code",
   "execution_count": 9,
   "metadata": {
    "collapsed": true
   },
   "outputs": [],
   "source": [
    "import logging\n",
    "util.logToConsole(logging.DEBUG)"
   ]
  },
  {
   "cell_type": "markdown",
   "metadata": {},
   "source": [
    "The IB class has nearly all request methods that the IB API offers.\n",
    "The methods that return a result will block until finished and then return the result.\n",
    "Take for example reqContractDetails:"
   ]
  },
  {
   "cell_type": "code",
   "execution_count": 5,
   "metadata": {},
   "outputs": [
    {
     "name": "stdout",
     "output_type": "stream",
     "text": [
      "CPU times: user 4.45 ms, sys: 2.13 ms, total: 6.58 ms\n",
      "Wall time: 125 ms\n"
     ]
    },
    {
     "data": {
      "text/plain": [
       "[ContractDetails(summary=Contract(conId=76792991, symbol='TSLA', secType='STK', exchange='SMART', primaryExchange='NASDAQ', currency='USD', localSymbol='TSLA', tradingClass='NMS'), marketName='NMS', minTick=0.01, orderTypes='ACTIVETIM,ADJUST,ALERT,ALGO,ALLOC,AON,AVGCOST,BASKET,COND,CONDORDER,DARKPOLL,DAY,DEACT,DEACTDIS,DEACTEOD,DIS,GAT,GTC,GTD,GTT,HID,IBDARK,ICE,IMB,IOC,LIT,LMT,LOC,MIT,MKT,MOC,MTL,NONALGO,OCA,OPG,OPGREROUT,PEGBENCH,POSTONLY,PREOPGRTH,REL,RPI,RTH,SCALE,SCALERST,STP,STPLMT,SWEEP,TIMEPRIO,TRAIL,TRAILLIT,TRAILLMT,TRAILMIT,WHATIF', validExchanges='SMART,CHX,ARCA,ISLAND,DRCTEDGE,NSX,BEX,BATS,EDGEA,BYX,PSX', priceMagnifier=1, longName='TESLA INC', industry='Consumer, Cyclical', category='Auto Manufacturers', subcategory='Auto-Cars/Light Trucks', timeZoneId='EST5EDT', tradingHours='20170717:0005-2358;20170718:0005-2358;20170719:0005-2358;20170720:0005-2358;20170721:0005-2358;20170722:0005-2358;20170723:0005-2358;20170724:0005-2358;20170725:0005-2358;20170726:0005-2358;20170727:0005-2358;20170728:0005-2358;20170729:0005-2358;20170730:0005-2358;20170731:0005-2358;20170801:0005-2358;20170802:0005-2358;20170803:0005-2358;20170804:0005-2358;20170805:0005-2358;20170806:0005-2358;20170807:0005-2358;20170808:0005-2358;20170809:0005-2358;20170810:0005-2358;20170811:0005-2358;20170812:0005-2358;20170813:0005-2358;20170814:0005-2358;20170815:0005-2358;20170816:0005-2358;20170817:0005-2358;20170818:0005-2358;20170819:0005-2358;20170820:0005-2358', liquidHours='20170717:0005-2358;20170718:0005-2358;20170719:0005-2358;20170720:0005-2358;20170721:0005-2358;20170722:0005-2358;20170723:0005-2358;20170724:0005-2358;20170725:0005-2358;20170726:0005-2358;20170727:0005-2358;20170728:0005-2358;20170729:0005-2358;20170730:0005-2358;20170731:0005-2358;20170801:0005-2358;20170802:0005-2358;20170803:0005-2358;20170804:0005-2358;20170805:0005-2358;20170806:0005-2358;20170807:0005-2358;20170808:0005-2358;20170809:0005-2358;20170810:0005-2358;20170811:0005-2358;20170812:0005-2358;20170813:0005-2358;20170814:0005-2358;20170815:0005-2358;20170816:0005-2358;20170817:0005-2358;20170818:0005-2358;20170819:0005-2358;20170820:0005-2358', mdSizeMultiplier=100, aggGroup=1)]"
      ]
     },
     "execution_count": 5,
     "metadata": {},
     "output_type": "execute_result"
    }
   ],
   "source": [
    "contract = Stock('TSLA', 'SMART', 'USD')\n",
    "%time cds = ib.reqContractDetails(contract)\n",
    "\n",
    "cds"
   ]
  },
  {
   "cell_type": "markdown",
   "metadata": {},
   "source": [
    "It generally takes about 100 - 300 ms.\n",
    "\n",
    "To create contracts, the standard IBAPI way is to do"
   ]
  },
  {
   "cell_type": "code",
   "execution_count": 6,
   "metadata": {},
   "outputs": [
    {
     "data": {
      "text/plain": [
       "Contract(symbol='INTC', secType='STK', exchange='SMART', primaryExchange='NASDAQ', currency='USD')"
      ]
     },
     "execution_count": 6,
     "metadata": {},
     "output_type": "execute_result"
    }
   ],
   "source": [
    "contract = Contract()\n",
    "contract.secType = 'STK'\n",
    "contract.symbol = 'INTC'\n",
    "contract.exchange = 'SMART'\n",
    "contract.currency = 'USD'\n",
    "contract.primaryExchange = 'NASDAQ'\n",
    "\n",
    "contract"
   ]
  },
  {
   "cell_type": "markdown",
   "metadata": {
    "collapsed": true
   },
   "source": [
    "The more convenient way to do this in ``ib_insync`` is"
   ]
  },
  {
   "cell_type": "code",
   "execution_count": 7,
   "metadata": {},
   "outputs": [
    {
     "data": {
      "text/plain": [
       "Stock(symbol='INTC', exchange='SMART', primaryExchange='NASDAQ', currency='USD')"
      ]
     },
     "execution_count": 7,
     "metadata": {},
     "output_type": "execute_result"
    }
   ],
   "source": [
    "contract = Stock('INTC', 'SMART', 'USD', primaryExchange='NASDAQ')\n",
    "\n",
    "contract"
   ]
  },
  {
   "cell_type": "markdown",
   "metadata": {},
   "source": [
    "A forex contract can be specified by it's common name:"
   ]
  },
  {
   "cell_type": "code",
   "execution_count": 8,
   "metadata": {},
   "outputs": [
    {
     "data": {
      "text/plain": [
       "Forex('USDJPY', exchange='IDEALPRO')"
      ]
     },
     "execution_count": 8,
     "metadata": {},
     "output_type": "execute_result"
    }
   ],
   "source": [
    "contract = Forex('USDJPY')\n",
    "\n",
    "contract"
   ]
  },
  {
   "cell_type": "markdown",
   "metadata": {},
   "source": [
    "An option:"
   ]
  },
  {
   "cell_type": "code",
   "execution_count": 9,
   "metadata": {},
   "outputs": [
    {
     "data": {
      "text/plain": [
       "Option(symbol='EOE', lastTradeDateOrContractMonth='20170721', strike=505, right='C', multiplier=100, exchange='FTA')"
      ]
     },
     "execution_count": 9,
     "metadata": {},
     "output_type": "execute_result"
    }
   ],
   "source": [
    "Option('EOE', '20170721', 505, 'C', 'FTA', multiplier=100)"
   ]
  },
  {
   "cell_type": "markdown",
   "metadata": {},
   "source": [
    "The whole list of different of contract types:"
   ]
  },
  {
   "cell_type": "code",
   "execution_count": 10,
   "metadata": {},
   "outputs": [
    {
     "data": {
      "text/plain": [
       "['Contract',\n",
       " 'Stock',\n",
       " 'Option',\n",
       " 'Future',\n",
       " 'Forex',\n",
       " 'Index',\n",
       " 'CFD',\n",
       " 'Commodity',\n",
       " 'Bond',\n",
       " 'FuturesOption',\n",
       " 'MutualFund',\n",
       " 'Warrant']"
      ]
     },
     "execution_count": 10,
     "metadata": {},
     "output_type": "execute_result"
    }
   ],
   "source": [
    "ib_insync.contract.__all__"
   ]
  },
  {
   "cell_type": "markdown",
   "metadata": {},
   "source": [
    "For Order too are there some subtypes defined for convenience:"
   ]
  },
  {
   "cell_type": "code",
   "execution_count": 11,
   "metadata": {},
   "outputs": [
    {
     "data": {
      "text/plain": [
       "['Order', 'LimitOrder', 'MarketOrder', 'StopOrder', 'StopLimitOrder']"
      ]
     },
     "execution_count": 11,
     "metadata": {},
     "output_type": "execute_result"
    }
   ],
   "source": [
    "ib_insync.order.__all__"
   ]
  },
  {
   "cell_type": "markdown",
   "metadata": {},
   "source": [
    "For example to create a limit order:"
   ]
  },
  {
   "cell_type": "code",
   "execution_count": 12,
   "metadata": {},
   "outputs": [
    {
     "data": {
      "text/plain": [
       "LimitOrder(action='BUY', totalQuantity=100, lmtPrice=12.34)"
      ]
     },
     "execution_count": 12,
     "metadata": {},
     "output_type": "execute_result"
    }
   ],
   "source": [
    "order = LimitOrder('BUY', 100, 12.34)\n",
    "\n",
    "order"
   ]
  },
  {
   "cell_type": "markdown",
   "metadata": {
    "collapsed": true
   },
   "source": [
    "End the session:"
   ]
  },
  {
   "cell_type": "code",
   "execution_count": 13,
   "metadata": {
    "collapsed": true
   },
   "outputs": [],
   "source": [
    "ib.disconnect()"
   ]
  },
  {
   "cell_type": "code",
   "execution_count": null,
   "metadata": {
    "collapsed": true
   },
   "outputs": [],
   "source": []
  }
 ],
 "metadata": {
  "kernelspec": {
   "display_name": "Python 3",
   "language": "python",
   "name": "python3"
  },
  "language_info": {
   "codemirror_mode": {
    "name": "ipython",
    "version": 3
   },
   "file_extension": ".py",
   "mimetype": "text/x-python",
   "name": "python",
   "nbconvert_exporter": "python",
   "pygments_lexer": "ipython3",
   "version": "3.6.1"
  }
 },
 "nbformat": 4,
 "nbformat_minor": 2
}
