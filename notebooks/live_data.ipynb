{
 "cells": [
  {
   "cell_type": "markdown",
   "metadata": {},
   "source": [
    "Live data\n",
    "=========\n",
    "\n",
    "For optimum results this notebook should be run during the Forex trading session."
   ]
  },
  {
   "cell_type": "code",
   "execution_count": 1,
   "metadata": {
    "collapsed": true
   },
   "outputs": [],
   "source": [
    "%gui qt5\n",
    "\n",
    "from ib_insync import *\n",
    "util.useQt()\n",
    "\n",
    "ib = IB()\n",
    "ib.connect('127.0.0.1', 7497, clientId=15)"
   ]
  },
  {
   "cell_type": "markdown",
   "metadata": {},
   "source": [
    "Create some Forex contracts:"
   ]
  },
  {
   "cell_type": "code",
   "execution_count": 2,
   "metadata": {},
   "outputs": [],
   "source": [
    "contracts = [Forex(pair) for pair in 'EURUSD USDJPY GBPUSD USDCHF USDCAD AUDUSD'.split()]\n",
    "\n",
    "eurusd = contracts[0]"
   ]
  },
  {
   "cell_type": "markdown",
   "metadata": {},
   "source": [
    "Request streaming ticks for them:"
   ]
  },
  {
   "cell_type": "code",
   "execution_count": 3,
   "metadata": {},
   "outputs": [],
   "source": [
    "for contract in contracts:\n",
    "    ib.reqMktData(contract, '', False, False)"
   ]
  },
  {
   "cell_type": "markdown",
   "metadata": {},
   "source": [
    "Wait a few seconds for the tickers to get filled."
   ]
  },
  {
   "cell_type": "code",
   "execution_count": 4,
   "metadata": {},
   "outputs": [
    {
     "data": {
      "text/plain": [
       "[Ticker(contract=Forex('EURUSD', exchange='IDEALPRO'), time=datetime.datetime(2017, 7, 12, 10, 5, 1, 907661, tzinfo=datetime.timezone.utc), bid=1.1458, bidSize=10174000, ask=1.14585, askSize=13674000, lastSize=0, prevBidSize=11174000, prevAskSize=12674000, high=1.149, low=1.14425, close=1.1467),\n",
       " Ticker(contract=Forex('USDJPY', exchange='IDEALPRO'), time=datetime.datetime(2017, 7, 12, 10, 5, 2, 5178, tzinfo=datetime.timezone.utc), bid=113.43, bidSize=15000000, ask=113.44, askSize=25300000, lastSize=0, prevBidSize=16000000, prevAsk=113.435, prevAskSize=24300000, high=113.97, low=113.315, close=113.94),\n",
       " Ticker(contract=Forex('GBPUSD', exchange='IDEALPRO'), time=datetime.datetime(2017, 7, 12, 10, 5, 2, 185626, tzinfo=datetime.timezone.utc), bid=1.28535, bidSize=1155000, ask=1.2854, askSize=1000000, lastSize=0, prevBid=1.2853, prevBidSize=1000000, prevAsk=1.28545, prevAskSize=1000000, high=1.287, low=1.2812, close=1.2847),\n",
       " Ticker(contract=Forex('USDCHF', exchange='IDEALPRO'), time=datetime.datetime(2017, 7, 12, 10, 5, 1, 447791, tzinfo=datetime.timezone.utc), bid=0.9629, bidSize=3200000, ask=0.96295, askSize=1000000, lastSize=0, prevBidSize=2200000, prevAskSize=2000000, high=0.96445, low=0.9619, close=0.96385),\n",
       " Ticker(contract=Forex('USDCAD', exchange='IDEALPRO'), time=datetime.datetime(2017, 7, 12, 10, 5, 1, 907270, tzinfo=datetime.timezone.utc), bid=1.2926, bidSize=3500000, ask=1.29265, askSize=3200000, lastSize=0, prevBidSize=3000000, prevAskSize=4200000, high=1.29305, low=1.28945, close=1.2915),\n",
       " Ticker(contract=Forex('AUDUSD', exchange='IDEALPRO'), time=datetime.datetime(2017, 7, 12, 10, 5, 1, 906942, tzinfo=datetime.timezone.utc), bid=0.7651, bidSize=2000000, ask=0.76515, askSize=11761000, lastSize=0, prevBidSize=2000000, prevAskSize=11261000, high=0.76645, low=0.7635, close=0.7638)]"
      ]
     },
     "execution_count": 4,
     "metadata": {},
     "output_type": "execute_result"
    }
   ],
   "source": [
    "ib.tickers()"
   ]
  },
  {
   "cell_type": "code",
   "execution_count": 5,
   "metadata": {},
   "outputs": [
    {
     "data": {
      "text/plain": [
       "TickData(time=datetime.datetime(2017, 7, 12, 10, 4, 59, 826811, tzinfo=datetime.timezone.utc), tickType=0, price=nan, size=13000000)"
      ]
     },
     "execution_count": 5,
     "metadata": {},
     "output_type": "execute_result"
    }
   ],
   "source": [
    "ticker = ib.ticker(eurusd)\n",
    "ticker.ticks[0]"
   ]
  },
  {
   "cell_type": "markdown",
   "metadata": {},
   "source": [
    "The price of Forex ticks is always nan. To get a midpoint price use ``marketPrice()``.\n",
    "\n",
    "The tickers are kept\n",
    "live updated, try this a few times to see if the price changes:"
   ]
  },
  {
   "cell_type": "code",
   "execution_count": 6,
   "metadata": {},
   "outputs": [
    {
     "data": {
      "text/plain": [
       "1.1458249999999999"
      ]
     },
     "execution_count": 6,
     "metadata": {},
     "output_type": "execute_result"
    }
   ],
   "source": [
    "ticker.marketPrice()"
   ]
  },
  {
   "cell_type": "markdown",
   "metadata": {},
   "source": [
    "The following cell will start an endless loop that prints the number of ticks received in an update. An update is basically a new network packet that arrives. All timestamps in an update have the exact same timestamp object.\n",
    "\n",
    "The loop can be interupted with \"interupt kernel\" in Jupyter. The notebook will keep running and the loop can be\n",
    "started again."
   ]
  },
  {
   "cell_type": "code",
   "execution_count": 7,
   "metadata": {},
   "outputs": [
    {
     "name": "stdout",
     "output_type": "stream",
     "text": [
      "44 37 74 16 23 20 2 9 1 1 2 4 3 1 1 1 2 1 5 3 1 1 2 1 2 1 2 3 2 1 1 2 3 1 15 8 1 1 1 2 1 1 3 1 7 1 2 4 2 1 2 1 1 1 2 4 3 1 3 1 1 2 1 3 2 4 1 2 14 6 3 2 1 2 1 1 1 1 1 3 4 7 2 1 1 1 1 1 1 2 1 2 1 1 1 1 3 1 1 1 1 1 1 1 1 1 3 1 2 1 1 1 20 1 1 6 1 1 1 1 1 3 1 6 6 1 1 1 2 1 1 1 1 1 1 1 15 2 6 3 1 1 1 4 14 1 6 2 1 1 1 1 3 2 3 1 3 1 4 2 2 1 1 1 1 1 1 2 2 1 3 1 1 1 1 1 1 1 2 5 1 2 2 1 2 2 1 6 1 14 6 10 2 4 3 5 9 2 1 2 2 13 3 4 9 9 6 6 4 9 3 3 3 1 1 1 5 2 2 1 1 2 1 1 1 1 1 1 2 1 1 1 2 1 13 3 15 3 6 1 2 1 2 8 2 3 6 26 16 1 10 1 3 4 1 2 1 1 5 2 1 1 1 5 2 5 16 3 1 3 12 1 2 2 1 10 6 3 2 1 1 2 2 2 2 1 1 1 2 1 2 1 1 1 2 2 1 2 1 2 2 6 3 2 1 1 9 1 1 3 3 2 1 5 3 3 1 8 3 5 1 1 1 1 3 3 2 1 7 1 9 1 4 17 1 5 1 1 4 2 3 1 1 2 1 4 1 1 1 4 1 1 1 1 1 5 3 1 5 1 1 18 4 8 3 4 1 3 1 1 9 3 3 2 1 2 1 7 1 1 4 1 1 1 2 1 1 3 1 1 1 2 1 1 2 1 1 1 1 7 8 1 5 4 1 1 3 3 1 2 1 1 3 1 1 1 1 1 1 1 1 1 1 1 1 1 1 1 2 6 1 1 1 2 10 1 3 1 2 1 1 2 2 2 3 12 13 1 3 21 4 7 11 2 4 11 1 6 1 1 1 4 5 1 2 1 2 1 1 5 1 3 1 4 1 1 2 1 2 1 2 1 2 1 2 4 3 2 2 2 2 1 2 2 2 1 1 1 1 2 1 1 1 1 1 1 2 2 2 6 1 6 1 1 1 8 5 1 5 2 5 2 1 1 3 1 1 3 3 4 7 7 4 1 2 1 4 4 3 4 4 1 1 3 1 1 1 2 1 1 2 2 1 1 1 1 2 3 1 1 1 1 4 6 2 8 1 1 1 4 3 3 1 4 1 1 1 1 1 2 14 2 1 1 3 2 1 1 1 2 1 2 6 2 1 2 1 1 1 1 2 1 1 2 1 1 2 2 1 2 1 1 1 1 3 5 7 1 1 4 2 1 3 1 1 2 2 2 2 1 1 2 3 1 2 2 "
     ]
    },
    {
     "ename": "KeyboardInterrupt",
     "evalue": "",
     "output_type": "error",
     "traceback": [
      "\u001b[0;31m---------------------------------------------------------------------------\u001b[0m",
      "\u001b[0;31mKeyboardInterrupt\u001b[0m                         Traceback (most recent call last)",
      "\u001b[0;32m<ipython-input-7-dbab677097a4>\u001b[0m in \u001b[0;36m<module>\u001b[0;34m()\u001b[0m\n\u001b[0;32m----> 1\u001b[0;31m \u001b[0;32mwhile\u001b[0m \u001b[0mib\u001b[0m\u001b[0;34m.\u001b[0m\u001b[0mwaitOnUpdate\u001b[0m\u001b[0;34m(\u001b[0m\u001b[0;34m)\u001b[0m\u001b[0;34m:\u001b[0m\u001b[0;34m\u001b[0m\u001b[0m\n\u001b[0m\u001b[1;32m      2\u001b[0m     \u001b[0;32mfor\u001b[0m \u001b[0mticker\u001b[0m \u001b[0;32min\u001b[0m \u001b[0mib\u001b[0m\u001b[0;34m.\u001b[0m\u001b[0mpendingTickers\u001b[0m\u001b[0;34m(\u001b[0m\u001b[0;34m)\u001b[0m\u001b[0;34m:\u001b[0m\u001b[0;34m\u001b[0m\u001b[0m\n\u001b[1;32m      3\u001b[0m         \u001b[0mprint\u001b[0m\u001b[0;34m(\u001b[0m\u001b[0mlen\u001b[0m\u001b[0;34m(\u001b[0m\u001b[0mticker\u001b[0m\u001b[0;34m.\u001b[0m\u001b[0mticks\u001b[0m\u001b[0;34m)\u001b[0m\u001b[0;34m,\u001b[0m \u001b[0mend\u001b[0m\u001b[0;34m=\u001b[0m\u001b[0;34m' '\u001b[0m\u001b[0;34m)\u001b[0m\u001b[0;34m\u001b[0m\u001b[0m\n\u001b[1;32m      4\u001b[0m     \u001b[0mib\u001b[0m\u001b[0;34m.\u001b[0m\u001b[0mclearPendingTickers\u001b[0m\u001b[0;34m(\u001b[0m\u001b[0;34m)\u001b[0m\u001b[0;34m\u001b[0m\u001b[0m\n",
      "\u001b[0;32m/usr/lib/python3.6/site-packages/ib_insync/ib.py\u001b[0m in \u001b[0;36mwaitOnUpdate\u001b[0;34m(self)\u001b[0m\n\u001b[1;32m    127\u001b[0m         \u001b[0mWait\u001b[0m \u001b[0mon\u001b[0m \u001b[0many\u001b[0m \u001b[0mnew\u001b[0m \u001b[0mupdate\u001b[0m\u001b[0;34m.\u001b[0m\u001b[0;34m\u001b[0m\u001b[0m\n\u001b[1;32m    128\u001b[0m         \"\"\"\n\u001b[0;32m--> 129\u001b[0;31m         \u001b[0mself\u001b[0m\u001b[0;34m.\u001b[0m\u001b[0mrun\u001b[0m\u001b[0;34m(\u001b[0m\u001b[0mself\u001b[0m\u001b[0;34m.\u001b[0m\u001b[0mwrapper\u001b[0m\u001b[0;34m.\u001b[0m\u001b[0mupdateEvent\u001b[0m\u001b[0;34m.\u001b[0m\u001b[0mwait\u001b[0m\u001b[0;34m(\u001b[0m\u001b[0;34m)\u001b[0m\u001b[0;34m)\u001b[0m\u001b[0;34m\u001b[0m\u001b[0m\n\u001b[0m\u001b[1;32m    130\u001b[0m         \u001b[0;32mreturn\u001b[0m \u001b[0;32mTrue\u001b[0m\u001b[0;34m\u001b[0m\u001b[0m\n\u001b[1;32m    131\u001b[0m \u001b[0;34m\u001b[0m\u001b[0m\n",
      "\u001b[0;32m/usr/lib/python3.6/site-packages/ib_insync/ib.py\u001b[0m in \u001b[0;36mrun\u001b[0;34m(self, *awaitables)\u001b[0m\n\u001b[1;32m    110\u001b[0m             \u001b[0mself\u001b[0m\u001b[0;34m.\u001b[0m\u001b[0mclient\u001b[0m\u001b[0;34m.\u001b[0m\u001b[0mrun\u001b[0m\u001b[0;34m(\u001b[0m\u001b[0;34m)\u001b[0m\u001b[0;34m\u001b[0m\u001b[0m\n\u001b[1;32m    111\u001b[0m         \u001b[0;32melif\u001b[0m \u001b[0mlen\u001b[0m\u001b[0;34m(\u001b[0m\u001b[0mawaitables\u001b[0m\u001b[0;34m)\u001b[0m \u001b[0;34m==\u001b[0m \u001b[0;36m1\u001b[0m\u001b[0;34m:\u001b[0m\u001b[0;34m\u001b[0m\u001b[0m\n\u001b[0;32m--> 112\u001b[0;31m             \u001b[0;32mreturn\u001b[0m \u001b[0mloop\u001b[0m\u001b[0;34m.\u001b[0m\u001b[0mrun_until_complete\u001b[0m\u001b[0;34m(\u001b[0m\u001b[0;34m*\u001b[0m\u001b[0mawaitables\u001b[0m\u001b[0;34m)\u001b[0m\u001b[0;34m\u001b[0m\u001b[0m\n\u001b[0m\u001b[1;32m    113\u001b[0m         \u001b[0;32melse\u001b[0m\u001b[0;34m:\u001b[0m\u001b[0;34m\u001b[0m\u001b[0m\n\u001b[1;32m    114\u001b[0m             \u001b[0mfuture\u001b[0m \u001b[0;34m=\u001b[0m \u001b[0masyncio\u001b[0m\u001b[0;34m.\u001b[0m\u001b[0mgather\u001b[0m\u001b[0;34m(\u001b[0m\u001b[0;34m*\u001b[0m\u001b[0mawaitables\u001b[0m\u001b[0;34m)\u001b[0m\u001b[0;34m\u001b[0m\u001b[0m\n",
      "\u001b[0;32m/usr/lib/python3.6/site-packages/ib_insync/util.py\u001b[0m in \u001b[0;36mrun_until_complete\u001b[0;34m(self, future)\u001b[0m\n\u001b[1;32m    170\u001b[0m             \u001b[0;32mif\u001b[0m \u001b[0mfuture\u001b[0m\u001b[0;34m.\u001b[0m\u001b[0mdone\u001b[0m\u001b[0;34m(\u001b[0m\u001b[0;34m)\u001b[0m\u001b[0;34m:\u001b[0m\u001b[0;34m\u001b[0m\u001b[0m\n\u001b[1;32m    171\u001b[0m                 \u001b[0;32mbreak\u001b[0m\u001b[0;34m\u001b[0m\u001b[0m\n\u001b[0;32m--> 172\u001b[0;31m             \u001b[0mtime\u001b[0m\u001b[0;34m.\u001b[0m\u001b[0msleep\u001b[0m\u001b[0;34m(\u001b[0m\u001b[0;36m0.001\u001b[0m\u001b[0;34m)\u001b[0m\u001b[0;34m\u001b[0m\u001b[0m\n\u001b[0m\u001b[1;32m    173\u001b[0m         \u001b[0;32mreturn\u001b[0m \u001b[0mfuture\u001b[0m\u001b[0;34m.\u001b[0m\u001b[0mresult\u001b[0m\u001b[0;34m(\u001b[0m\u001b[0;34m)\u001b[0m\u001b[0;34m\u001b[0m\u001b[0m\n\u001b[1;32m    174\u001b[0m     \u001b[0mquamash\u001b[0m\u001b[0;34m.\u001b[0m\u001b[0mQEventLoop\u001b[0m\u001b[0;34m.\u001b[0m\u001b[0mrun_until_complete\u001b[0m \u001b[0;34m=\u001b[0m \u001b[0mrun_until_complete\u001b[0m\u001b[0;34m\u001b[0m\u001b[0m\n",
      "\u001b[0;31mKeyboardInterrupt\u001b[0m: "
     ]
    }
   ],
   "source": [
    "while ib.waitOnUpdate():\n",
    "    for ticker in ib.pendingTickers():\n",
    "        print(len(ticker.ticks), end=' ')\n",
    "    ib.clearPendingTickers()"
   ]
  },
  {
   "cell_type": "markdown",
   "metadata": {},
   "source": [
    "Here is a similar loop that runs every 5 seconds:"
   ]
  },
  {
   "cell_type": "code",
   "execution_count": 9,
   "metadata": {},
   "outputs": [
    {
     "name": "stdout",
     "output_type": "stream",
     "text": [
      "1023 502 318 520 441 348 32 68 10 9 13 3 25 8 6 25 1 69 47 9 8 4 31 7 6 48 36 13 3 108 5 13 24 6 1 20 60 17 34 4 49 12 40 12 8 68 3 31 4 1 2 56 6 30 62 30 37 10 16 39 8 3 2 1 3 5 21 4 3 1 8 8 10 28 40 3 86 7 20 8 3 38 76 7 49 43 29 29 "
     ]
    },
    {
     "ename": "KeyboardInterrupt",
     "evalue": "",
     "output_type": "error",
     "traceback": [
      "\u001b[0;31m---------------------------------------------------------------------------\u001b[0m",
      "\u001b[0;31mKeyboardInterrupt\u001b[0m                         Traceback (most recent call last)",
      "\u001b[0;32m<ipython-input-9-56947ee7e194>\u001b[0m in \u001b[0;36m<module>\u001b[0;34m()\u001b[0m\n\u001b[0;32m----> 1\u001b[0;31m \u001b[0;32mwhile\u001b[0m \u001b[0mib\u001b[0m\u001b[0;34m.\u001b[0m\u001b[0msleep\u001b[0m\u001b[0;34m(\u001b[0m\u001b[0;36m5\u001b[0m\u001b[0;34m)\u001b[0m\u001b[0;34m:\u001b[0m\u001b[0;34m\u001b[0m\u001b[0m\n\u001b[0m\u001b[1;32m      2\u001b[0m     \u001b[0;32mfor\u001b[0m \u001b[0mticker\u001b[0m \u001b[0;32min\u001b[0m \u001b[0mib\u001b[0m\u001b[0;34m.\u001b[0m\u001b[0mpendingTickers\u001b[0m\u001b[0;34m(\u001b[0m\u001b[0;34m)\u001b[0m\u001b[0;34m:\u001b[0m\u001b[0;34m\u001b[0m\u001b[0m\n\u001b[1;32m      3\u001b[0m         \u001b[0mprint\u001b[0m\u001b[0;34m(\u001b[0m\u001b[0mlen\u001b[0m\u001b[0;34m(\u001b[0m\u001b[0mticker\u001b[0m\u001b[0;34m.\u001b[0m\u001b[0mticks\u001b[0m\u001b[0;34m)\u001b[0m\u001b[0;34m,\u001b[0m \u001b[0mend\u001b[0m\u001b[0;34m=\u001b[0m\u001b[0;34m' '\u001b[0m\u001b[0;34m)\u001b[0m\u001b[0;34m\u001b[0m\u001b[0m\n\u001b[1;32m      4\u001b[0m     \u001b[0mib\u001b[0m\u001b[0;34m.\u001b[0m\u001b[0mclearPendingTickers\u001b[0m\u001b[0;34m(\u001b[0m\u001b[0;34m)\u001b[0m\u001b[0;34m\u001b[0m\u001b[0m\n",
      "\u001b[0;32m/usr/lib/python3.6/site-packages/ib_insync/ib.py\u001b[0m in \u001b[0;36msleep\u001b[0;34m(self, secs)\u001b[0m\n\u001b[1;32m    120\u001b[0m         \u001b[0mprocessing\u001b[0m \u001b[0;32min\u001b[0m \u001b[0mthe\u001b[0m \u001b[0mbackground\u001b[0m\u001b[0;34m.\u001b[0m \u001b[0mNever\u001b[0m \u001b[0muse\u001b[0m \u001b[0mtime\u001b[0m\u001b[0;34m.\u001b[0m\u001b[0msleep\u001b[0m\u001b[0;34m(\u001b[0m\u001b[0;34m)\u001b[0m\u001b[0;34m.\u001b[0m\u001b[0;34m\u001b[0m\u001b[0m\n\u001b[1;32m    121\u001b[0m         \"\"\"\n\u001b[0;32m--> 122\u001b[0;31m         \u001b[0mself\u001b[0m\u001b[0;34m.\u001b[0m\u001b[0mrun\u001b[0m\u001b[0;34m(\u001b[0m\u001b[0masyncio\u001b[0m\u001b[0;34m.\u001b[0m\u001b[0msleep\u001b[0m\u001b[0;34m(\u001b[0m\u001b[0msecs\u001b[0m\u001b[0;34m)\u001b[0m\u001b[0;34m)\u001b[0m\u001b[0;34m\u001b[0m\u001b[0m\n\u001b[0m\u001b[1;32m    123\u001b[0m         \u001b[0;32mreturn\u001b[0m \u001b[0;32mTrue\u001b[0m\u001b[0;34m\u001b[0m\u001b[0m\n\u001b[1;32m    124\u001b[0m \u001b[0;34m\u001b[0m\u001b[0m\n",
      "\u001b[0;32m/usr/lib/python3.6/site-packages/ib_insync/ib.py\u001b[0m in \u001b[0;36mrun\u001b[0;34m(self, *awaitables)\u001b[0m\n\u001b[1;32m    110\u001b[0m             \u001b[0mself\u001b[0m\u001b[0;34m.\u001b[0m\u001b[0mclient\u001b[0m\u001b[0;34m.\u001b[0m\u001b[0mrun\u001b[0m\u001b[0;34m(\u001b[0m\u001b[0;34m)\u001b[0m\u001b[0;34m\u001b[0m\u001b[0m\n\u001b[1;32m    111\u001b[0m         \u001b[0;32melif\u001b[0m \u001b[0mlen\u001b[0m\u001b[0;34m(\u001b[0m\u001b[0mawaitables\u001b[0m\u001b[0;34m)\u001b[0m \u001b[0;34m==\u001b[0m \u001b[0;36m1\u001b[0m\u001b[0;34m:\u001b[0m\u001b[0;34m\u001b[0m\u001b[0m\n\u001b[0;32m--> 112\u001b[0;31m             \u001b[0;32mreturn\u001b[0m \u001b[0mloop\u001b[0m\u001b[0;34m.\u001b[0m\u001b[0mrun_until_complete\u001b[0m\u001b[0;34m(\u001b[0m\u001b[0;34m*\u001b[0m\u001b[0mawaitables\u001b[0m\u001b[0;34m)\u001b[0m\u001b[0;34m\u001b[0m\u001b[0m\n\u001b[0m\u001b[1;32m    113\u001b[0m         \u001b[0;32melse\u001b[0m\u001b[0;34m:\u001b[0m\u001b[0;34m\u001b[0m\u001b[0m\n\u001b[1;32m    114\u001b[0m             \u001b[0mfuture\u001b[0m \u001b[0;34m=\u001b[0m \u001b[0masyncio\u001b[0m\u001b[0;34m.\u001b[0m\u001b[0mgather\u001b[0m\u001b[0;34m(\u001b[0m\u001b[0;34m*\u001b[0m\u001b[0mawaitables\u001b[0m\u001b[0;34m)\u001b[0m\u001b[0;34m\u001b[0m\u001b[0m\n",
      "\u001b[0;32m/usr/lib/python3.6/site-packages/ib_insync/util.py\u001b[0m in \u001b[0;36mrun_until_complete\u001b[0;34m(self, future)\u001b[0m\n\u001b[1;32m    170\u001b[0m             \u001b[0;32mif\u001b[0m \u001b[0mfuture\u001b[0m\u001b[0;34m.\u001b[0m\u001b[0mdone\u001b[0m\u001b[0;34m(\u001b[0m\u001b[0;34m)\u001b[0m\u001b[0;34m:\u001b[0m\u001b[0;34m\u001b[0m\u001b[0m\n\u001b[1;32m    171\u001b[0m                 \u001b[0;32mbreak\u001b[0m\u001b[0;34m\u001b[0m\u001b[0m\n\u001b[0;32m--> 172\u001b[0;31m             \u001b[0mtime\u001b[0m\u001b[0;34m.\u001b[0m\u001b[0msleep\u001b[0m\u001b[0;34m(\u001b[0m\u001b[0;36m0.001\u001b[0m\u001b[0;34m)\u001b[0m\u001b[0;34m\u001b[0m\u001b[0m\n\u001b[0m\u001b[1;32m    173\u001b[0m         \u001b[0;32mreturn\u001b[0m \u001b[0mfuture\u001b[0m\u001b[0;34m.\u001b[0m\u001b[0mresult\u001b[0m\u001b[0;34m(\u001b[0m\u001b[0;34m)\u001b[0m\u001b[0;34m\u001b[0m\u001b[0m\n\u001b[1;32m    174\u001b[0m     \u001b[0mquamash\u001b[0m\u001b[0;34m.\u001b[0m\u001b[0mQEventLoop\u001b[0m\u001b[0;34m.\u001b[0m\u001b[0mrun_until_complete\u001b[0m \u001b[0;34m=\u001b[0m \u001b[0mrun_until_complete\u001b[0m\u001b[0;34m\u001b[0m\u001b[0m\n",
      "\u001b[0;31mKeyboardInterrupt\u001b[0m: "
     ]
    }
   ],
   "source": [
    "while ib.sleep(5):\n",
    "    for ticker in ib.pendingTickers():\n",
    "        print(len(ticker.ticks), end=' ')\n",
    "    ib.clearPendingTickers()"
   ]
  },
  {
   "cell_type": "code",
   "execution_count": null,
   "metadata": {
    "collapsed": true
   },
   "outputs": [],
   "source": []
  }
 ],
 "metadata": {
  "kernelspec": {
   "display_name": "Python 3",
   "language": "python",
   "name": "python3"
  },
  "language_info": {
   "codemirror_mode": {
    "name": "ipython",
    "version": 3
   },
   "file_extension": ".py",
   "mimetype": "text/x-python",
   "name": "python",
   "nbconvert_exporter": "python",
   "pygments_lexer": "ipython3",
   "version": "3.6.1"
  }
 },
 "nbformat": 4,
 "nbformat_minor": 2
}
