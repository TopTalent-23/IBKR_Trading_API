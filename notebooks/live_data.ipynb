{
 "cells": [
  {
   "cell_type": "markdown",
   "metadata": {},
   "source": [
    "Live data\n",
    "=========\n",
    "\n",
    "For optimum results this notebook should be run during the Forex trading session."
   ]
  },
  {
   "cell_type": "code",
   "execution_count": 1,
   "metadata": {
    "collapsed": true
   },
   "outputs": [],
   "source": [
    "%gui qt5\n",
    "\n",
    "from ib_insync import *\n",
    "util.useQt()\n",
    "\n",
    "ib = IB()\n",
    "ib.connect('127.0.0.1', 7497, clientId=15)"
   ]
  },
  {
   "cell_type": "markdown",
   "metadata": {},
   "source": [
    "Create some Forex contracts:"
   ]
  },
  {
   "cell_type": "code",
   "execution_count": 2,
   "metadata": {
    "collapsed": true
   },
   "outputs": [],
   "source": [
    "contracts = [Forex(pair) for pair in 'EURUSD USDJPY GBPUSD USDCHF USDCAD AUDUSD'.split()]\n",
    "\n",
    "eurusd = contracts[0]"
   ]
  },
  {
   "cell_type": "markdown",
   "metadata": {},
   "source": [
    "Request streaming ticks for them:"
   ]
  },
  {
   "cell_type": "code",
   "execution_count": 3,
   "metadata": {
    "collapsed": true
   },
   "outputs": [],
   "source": [
    "for contract in contracts:\n",
    "    ib.reqMktData(contract, '', False, False)"
   ]
  },
  {
   "cell_type": "markdown",
   "metadata": {},
   "source": [
    "Wait a few seconds for the tickers to get filled."
   ]
  },
  {
   "cell_type": "code",
   "execution_count": 5,
   "metadata": {},
   "outputs": [
    {
     "data": {
      "text/plain": [
       "Ticker(contract=Forex('EURUSD', exchange='IDEALPRO'), time=datetime.datetime(2017, 7, 17, 17, 59, 44, 739157, tzinfo=datetime.timezone.utc), bid=1.14775, bidSize=19674000, ask=1.1478, askSize=1000000, lastSize=0, prevBid=1.1478, prevBidSize=18674000, prevAsk=1.14785, prevAskSize=4000000, high=1.14875, low=1.1435, close=1.1469, domBids=[], domAsks=[])"
      ]
     },
     "execution_count": 5,
     "metadata": {},
     "output_type": "execute_result"
    }
   ],
   "source": [
    "ticker = ib.ticker(eurusd)\n",
    "ib.sleep(2)\n",
    "\n",
    "ticker"
   ]
  },
  {
   "cell_type": "code",
   "execution_count": 6,
   "metadata": {},
   "outputs": [
    {
     "data": {
      "text/plain": [
       "TickData(time=datetime.datetime(2017, 7, 17, 17, 59, 18, 487137, tzinfo=datetime.timezone.utc), tickType=0, price=nan, size=500000)"
      ]
     },
     "execution_count": 6,
     "metadata": {},
     "output_type": "execute_result"
    }
   ],
   "source": [
    "ticker.ticks[0]"
   ]
  },
  {
   "cell_type": "markdown",
   "metadata": {},
   "source": [
    "The price of Forex ticks is always nan. To get a midpoint price use ``marketPrice()``.\n",
    "\n",
    "The tickers are kept\n",
    "live updated, try this a few times to see if the price changes:"
   ]
  },
  {
   "cell_type": "code",
   "execution_count": 7,
   "metadata": {},
   "outputs": [
    {
     "data": {
      "text/plain": [
       "1.147775"
      ]
     },
     "execution_count": 7,
     "metadata": {},
     "output_type": "execute_result"
    }
   ],
   "source": [
    "ticker.marketPrice()"
   ]
  },
  {
   "cell_type": "markdown",
   "metadata": {},
   "source": [
    "The following cell will start an endless loop that prints a live updated ticker table.\n",
    "It is updated with every new network packet that arrivess.\n",
    "\n",
    "The loop can be interupted with \"interupt kernel\" in Jupyter. The notebook will keep running and the loop can be\n",
    "started again."
   ]
  },
  {
   "cell_type": "code",
   "execution_count": null,
   "metadata": {},
   "outputs": [
    {
     "data": {
      "text/html": [
       "<div>\n",
       "<style>\n",
       "    .dataframe thead tr:only-child th {\n",
       "        text-align: right;\n",
       "    }\n",
       "\n",
       "    .dataframe thead th {\n",
       "        text-align: left;\n",
       "    }\n",
       "\n",
       "    .dataframe tbody tr th {\n",
       "        vertical-align: top;\n",
       "    }\n",
       "</style>\n",
       "<table border=\"1\" class=\"dataframe\">\n",
       "  <thead>\n",
       "    <tr style=\"text-align: right;\">\n",
       "      <th></th>\n",
       "      <th>symbol</th>\n",
       "      <th>bidSize</th>\n",
       "      <th>bid</th>\n",
       "      <th>ask</th>\n",
       "      <th>askSize</th>\n",
       "      <th>high</th>\n",
       "      <th>low</th>\n",
       "      <th>close</th>\n",
       "    </tr>\n",
       "  </thead>\n",
       "  <tbody>\n",
       "    <tr>\n",
       "      <th>0</th>\n",
       "      <td>EURUSD</td>\n",
       "      <td>14674000</td>\n",
       "      <td>1.1478</td>\n",
       "      <td>1.14785</td>\n",
       "      <td>5000000</td>\n",
       "      <td>1.14875</td>\n",
       "      <td>1.1435</td>\n",
       "      <td>1.1469</td>\n",
       "    </tr>\n",
       "    <tr>\n",
       "      <th>1</th>\n",
       "      <td>USDJPY</td>\n",
       "      <td>26000000</td>\n",
       "      <td>112.63</td>\n",
       "      <td>112.64</td>\n",
       "      <td>11000000</td>\n",
       "      <td>112.87</td>\n",
       "      <td>112.33</td>\n",
       "      <td>112.54</td>\n",
       "    </tr>\n",
       "    <tr>\n",
       "      <th>2</th>\n",
       "      <td>GBPUSD</td>\n",
       "      <td>1152000</td>\n",
       "      <td>1.3059</td>\n",
       "      <td>1.30595</td>\n",
       "      <td>1000000</td>\n",
       "      <td>1.3113</td>\n",
       "      <td>1.3051</td>\n",
       "      <td>1.31</td>\n",
       "    </tr>\n",
       "    <tr>\n",
       "      <th>3</th>\n",
       "      <td>USDCHF</td>\n",
       "      <td>4200000</td>\n",
       "      <td>0.9621</td>\n",
       "      <td>0.96215</td>\n",
       "      <td>1000000</td>\n",
       "      <td>0.9659</td>\n",
       "      <td>0.95945</td>\n",
       "      <td>0.96365</td>\n",
       "    </tr>\n",
       "    <tr>\n",
       "      <th>4</th>\n",
       "      <td>USDCAD</td>\n",
       "      <td>7200000</td>\n",
       "      <td>1.2687</td>\n",
       "      <td>1.26875</td>\n",
       "      <td>1000000</td>\n",
       "      <td>1.26975</td>\n",
       "      <td>1.26275</td>\n",
       "      <td>1.2647</td>\n",
       "    </tr>\n",
       "    <tr>\n",
       "      <th>5</th>\n",
       "      <td>AUDUSD</td>\n",
       "      <td>16755000</td>\n",
       "      <td>0.7803</td>\n",
       "      <td>0.7804</td>\n",
       "      <td>8000000</td>\n",
       "      <td>0.78385</td>\n",
       "      <td>0.7802</td>\n",
       "      <td>0.78285</td>\n",
       "    </tr>\n",
       "  </tbody>\n",
       "</table>\n",
       "</div>"
      ],
      "text/plain": [
       "   symbol   bidSize     bid      ask   askSize     high      low    close\n",
       "0  EURUSD  14674000  1.1478  1.14785   5000000  1.14875   1.1435   1.1469\n",
       "1  USDJPY  26000000  112.63   112.64  11000000   112.87   112.33   112.54\n",
       "2  GBPUSD   1152000  1.3059  1.30595   1000000   1.3113   1.3051     1.31\n",
       "3  USDCHF   4200000  0.9621  0.96215   1000000   0.9659  0.95945  0.96365\n",
       "4  USDCAD   7200000  1.2687  1.26875   1000000  1.26975  1.26275   1.2647\n",
       "5  AUDUSD  16755000  0.7803   0.7804   8000000  0.78385   0.7802  0.78285"
      ]
     },
     "metadata": {},
     "output_type": "display_data"
    }
   ],
   "source": [
    "from IPython.display import display, clear_output\n",
    "import pandas as pd\n",
    "\n",
    "df = pd.DataFrame(columns='symbol bidSize bid ask askSize high low close'.split())\n",
    "df['symbol'] = [c.symbol + c.currency for c in contracts]\n",
    "\n",
    "while ib.waitOnUpdate():\n",
    "    for i, t in enumerate(ib.tickers()):\n",
    "        df.iloc[i, 1:] = (\n",
    "                t.bidSize, t.bid, t.ask, t.askSize, t.high, t.low, t.close)\n",
    "    clear_output(wait=True)\n",
    "    display(df)"
   ]
  },
  {
   "cell_type": "markdown",
   "metadata": {
    "collapsed": true
   },
   "source": [
    "To stop the subscription:"
   ]
  },
  {
   "cell_type": "code",
   "execution_count": 13,
   "metadata": {
    "collapsed": true
   },
   "outputs": [],
   "source": [
    "for contract in contracts:\n",
    "    ib.cancelMktData(contract)"
   ]
  },
  {
   "cell_type": "code",
   "execution_count": null,
   "metadata": {
    "collapsed": true
   },
   "outputs": [],
   "source": []
  }
 ],
 "metadata": {
  "kernelspec": {
   "display_name": "Python 3",
   "language": "python",
   "name": "python3"
  },
  "language_info": {
   "codemirror_mode": {
    "name": "ipython",
    "version": 3
   },
   "file_extension": ".py",
   "mimetype": "text/x-python",
   "name": "python",
   "nbconvert_exporter": "python",
   "pygments_lexer": "ipython3",
   "version": "3.6.1"
  }
 },
 "nbformat": 4,
 "nbformat_minor": 2
}
