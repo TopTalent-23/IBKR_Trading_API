{
 "cells": [
  {
   "cell_type": "markdown",
   "metadata": {},
   "source": [
    "# Tick data\n",
    "\n",
    "For optimum results this notebook should be run during the Forex trading session."
   ]
  },
  {
   "cell_type": "code",
   "execution_count": 1,
   "metadata": {
    "collapsed": true
   },
   "outputs": [],
   "source": [
    "from ib_insync import *\n",
    "util.startLoop()\n",
    "\n",
    "ib = IB()\n",
    "ib.connect('127.0.0.1', 7497, clientId=15)"
   ]
  },
  {
   "cell_type": "markdown",
   "metadata": {},
   "source": [
    "Create some Forex contracts:"
   ]
  },
  {
   "cell_type": "code",
   "execution_count": 2,
   "metadata": {
    "collapsed": true
   },
   "outputs": [],
   "source": [
    "contracts = [Forex(pair) for pair in 'EURUSD USDJPY GBPUSD USDCHF USDCAD AUDUSD'.split()]\n",
    "\n",
    "eurusd = contracts[0]"
   ]
  },
  {
   "cell_type": "markdown",
   "metadata": {},
   "source": [
    "Request streaming ticks for them:"
   ]
  },
  {
   "cell_type": "code",
   "execution_count": 3,
   "metadata": {
    "collapsed": true
   },
   "outputs": [],
   "source": [
    "for contract in contracts:\n",
    "    ib.reqMktData(contract, '', False, False)"
   ]
  },
  {
   "cell_type": "markdown",
   "metadata": {},
   "source": [
    "Wait a few seconds for the tickers to get filled."
   ]
  },
  {
   "cell_type": "code",
   "execution_count": 4,
   "metadata": {},
   "outputs": [
    {
     "data": {
      "text/plain": [
       "Ticker(contract=Forex('EURUSD', exchange='IDEALPRO'), time=datetime.datetime(2017, 9, 1, 10, 32, 51, 126028, tzinfo=datetime.timezone.utc), bid=1.1913, bidSize=17500000, ask=1.19135, askSize=1000000, lastSize=0, prevBid=1.19135, prevBidSize=17000000, prevAsk=1.1914, prevAskSize=18000000, high=1.193, low=1.1879, close=1.1909)"
      ]
     },
     "execution_count": 4,
     "metadata": {},
     "output_type": "execute_result"
    }
   ],
   "source": [
    "ticker = ib.ticker(eurusd)\n",
    "ib.sleep(2)\n",
    "\n",
    "ticker"
   ]
  },
  {
   "cell_type": "markdown",
   "metadata": {},
   "source": [
    "The price of Forex ticks is always nan. To get a midpoint price use ``marketPrice()``.\n",
    "\n",
    "The tickers are kept\n",
    "live updated, try this a few times to see if the price changes:"
   ]
  },
  {
   "cell_type": "code",
   "execution_count": 5,
   "metadata": {},
   "outputs": [
    {
     "data": {
      "text/plain": [
       "1.191325"
      ]
     },
     "execution_count": 5,
     "metadata": {},
     "output_type": "execute_result"
    }
   ],
   "source": [
    "ticker.marketPrice()"
   ]
  },
  {
   "cell_type": "markdown",
   "metadata": {},
   "source": [
    "The following cell will start a 15 second loop that prints a live updated ticker table.\n",
    "It is updated with every new network packet that arrives."
   ]
  },
  {
   "cell_type": "code",
   "execution_count": 6,
   "metadata": {},
   "outputs": [
    {
     "data": {
      "text/html": [
       "<div>\n",
       "<style>\n",
       "    .dataframe thead tr:only-child th {\n",
       "        text-align: right;\n",
       "    }\n",
       "\n",
       "    .dataframe thead th {\n",
       "        text-align: left;\n",
       "    }\n",
       "\n",
       "    .dataframe tbody tr th {\n",
       "        vertical-align: top;\n",
       "    }\n",
       "</style>\n",
       "<table border=\"1\" class=\"dataframe\">\n",
       "  <thead>\n",
       "    <tr style=\"text-align: right;\">\n",
       "      <th></th>\n",
       "      <th>symbol</th>\n",
       "      <th>bidSize</th>\n",
       "      <th>bid</th>\n",
       "      <th>ask</th>\n",
       "      <th>askSize</th>\n",
       "      <th>high</th>\n",
       "      <th>low</th>\n",
       "      <th>close</th>\n",
       "    </tr>\n",
       "  </thead>\n",
       "  <tbody>\n",
       "    <tr>\n",
       "      <th>0</th>\n",
       "      <td>EURUSD</td>\n",
       "      <td>2000000</td>\n",
       "      <td>1.19145</td>\n",
       "      <td>1.1915</td>\n",
       "      <td>14500000</td>\n",
       "      <td>1.193</td>\n",
       "      <td>1.1879</td>\n",
       "      <td>1.1909</td>\n",
       "    </tr>\n",
       "    <tr>\n",
       "      <th>1</th>\n",
       "      <td>USDJPY</td>\n",
       "      <td>12000000</td>\n",
       "      <td>110.125</td>\n",
       "      <td>110.13</td>\n",
       "      <td>2000000</td>\n",
       "      <td>110.22</td>\n",
       "      <td>109.92</td>\n",
       "      <td>109.98</td>\n",
       "    </tr>\n",
       "    <tr>\n",
       "      <th>2</th>\n",
       "      <td>GBPUSD</td>\n",
       "      <td>1000000</td>\n",
       "      <td>1.29245</td>\n",
       "      <td>1.2925</td>\n",
       "      <td>7000000</td>\n",
       "      <td>1.29475</td>\n",
       "      <td>1.29055</td>\n",
       "      <td>1.2931</td>\n",
       "    </tr>\n",
       "    <tr>\n",
       "      <th>3</th>\n",
       "      <td>USDCHF</td>\n",
       "      <td>9000000</td>\n",
       "      <td>0.95965</td>\n",
       "      <td>0.9598</td>\n",
       "      <td>13500000</td>\n",
       "      <td>0.9615</td>\n",
       "      <td>0.9579</td>\n",
       "      <td>0.9587</td>\n",
       "    </tr>\n",
       "    <tr>\n",
       "      <th>4</th>\n",
       "      <td>USDCAD</td>\n",
       "      <td>16000000</td>\n",
       "      <td>1.24785</td>\n",
       "      <td>1.24795</td>\n",
       "      <td>4000000</td>\n",
       "      <td>1.2492</td>\n",
       "      <td>1.24505</td>\n",
       "      <td>1.2483</td>\n",
       "    </tr>\n",
       "    <tr>\n",
       "      <th>5</th>\n",
       "      <td>AUDUSD</td>\n",
       "      <td>2000000</td>\n",
       "      <td>0.7928</td>\n",
       "      <td>0.7929</td>\n",
       "      <td>17500000</td>\n",
       "      <td>0.79565</td>\n",
       "      <td>0.79215</td>\n",
       "      <td>0.79465</td>\n",
       "    </tr>\n",
       "  </tbody>\n",
       "</table>\n",
       "</div>"
      ],
      "text/plain": [
       "   symbol   bidSize      bid      ask   askSize     high      low    close\n",
       "0  EURUSD   2000000  1.19145   1.1915  14500000    1.193   1.1879   1.1909\n",
       "1  USDJPY  12000000  110.125   110.13   2000000   110.22   109.92   109.98\n",
       "2  GBPUSD   1000000  1.29245   1.2925   7000000  1.29475  1.29055   1.2931\n",
       "3  USDCHF   9000000  0.95965   0.9598  13500000   0.9615   0.9579   0.9587\n",
       "4  USDCAD  16000000  1.24785  1.24795   4000000   1.2492  1.24505   1.2483\n",
       "5  AUDUSD   2000000   0.7928   0.7929  17500000  0.79565  0.79215  0.79465"
      ]
     },
     "metadata": {},
     "output_type": "display_data"
    }
   ],
   "source": [
    "from IPython.display import display, clear_output\n",
    "import pandas as pd\n",
    "\n",
    "df = pd.DataFrame(columns='symbol bidSize bid ask askSize high low close'.split())\n",
    "df['symbol'] = [c.symbol + c.currency for c in contracts]\n",
    "\n",
    "for _ in ib.loopUntil(timeout=15):\n",
    "    for i, t in enumerate(ib.tickers()):\n",
    "        df.iloc[i, 1:] = (t.bidSize, t.bid, t.ask, t.askSize, t.high, t.low, t.close)\n",
    "    clear_output(wait=True)\n",
    "    display(df)"
   ]
  },
  {
   "cell_type": "markdown",
   "metadata": {},
   "source": [
    "After an update the tick data is available in the 'ticks' attribute of the ticker.\n",
    "The tick data will be cleared before the next update."
   ]
  },
  {
   "cell_type": "markdown",
   "metadata": {
    "collapsed": true
   },
   "source": [
    "To stop the live tick subscriptions:"
   ]
  },
  {
   "cell_type": "code",
   "execution_count": 7,
   "metadata": {
    "collapsed": true
   },
   "outputs": [],
   "source": [
    "for contract in contracts:\n",
    "    ib.cancelMktData(contract)"
   ]
  },
  {
   "cell_type": "code",
   "execution_count": 8,
   "metadata": {
    "collapsed": true
   },
   "outputs": [],
   "source": [
    "ib.disconnect()"
   ]
  },
  {
   "cell_type": "code",
   "execution_count": null,
   "metadata": {
    "collapsed": true
   },
   "outputs": [],
   "source": []
  }
 ],
 "metadata": {
  "kernelspec": {
   "display_name": "Python 3",
   "language": "python",
   "name": "python3"
  },
  "language_info": {
   "codemirror_mode": {
    "name": "ipython",
    "version": 3
   },
   "file_extension": ".py",
   "mimetype": "text/x-python",
   "name": "python",
   "nbconvert_exporter": "python",
   "pygments_lexer": "ipython3",
   "version": "3.6.2"
  }
 },
 "nbformat": 4,
 "nbformat_minor": 2
}
