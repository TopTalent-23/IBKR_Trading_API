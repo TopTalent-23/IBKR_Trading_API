{
 "cells": [
  {
   "cell_type": "markdown",
   "metadata": {},
   "source": [
    "# Tick data\n",
    "\n",
    "For optimum results this notebook should be run during the Forex trading session."
   ]
  },
  {
   "cell_type": "code",
   "execution_count": 1,
   "metadata": {
    "collapsed": true
   },
   "outputs": [],
   "source": [
    "from ib_insync import *\n",
    "util.startLoop()\n",
    "\n",
    "ib = IB()\n",
    "ib.connect('127.0.0.1', 7497, clientId=15)"
   ]
  },
  {
   "cell_type": "markdown",
   "metadata": {},
   "source": [
    "Create some Forex contracts:"
   ]
  },
  {
   "cell_type": "code",
   "execution_count": 2,
   "metadata": {
    "collapsed": true
   },
   "outputs": [],
   "source": [
    "contracts = [Forex(pair) for pair in 'EURUSD USDJPY GBPUSD USDCHF USDCAD AUDUSD'.split()]\n",
    "\n",
    "eurusd = contracts[0]"
   ]
  },
  {
   "cell_type": "markdown",
   "metadata": {},
   "source": [
    "Request streaming ticks for them:"
   ]
  },
  {
   "cell_type": "code",
   "execution_count": 3,
   "metadata": {
    "collapsed": true
   },
   "outputs": [],
   "source": [
    "for contract in contracts:\n",
    "    ib.reqMktData(contract, '', False, False)"
   ]
  },
  {
   "cell_type": "markdown",
   "metadata": {},
   "source": [
    "Wait a few seconds for the tickers to get filled."
   ]
  },
  {
   "cell_type": "code",
   "execution_count": 4,
   "metadata": {},
   "outputs": [
    {
     "data": {
      "text/plain": [
       "Ticker(contract=Forex('EURUSD', exchange='IDEALPRO'), time=datetime.datetime(2017, 8, 7, 10, 30, 21, 712256, tzinfo=datetime.timezone.utc), bid=1.1803, bidSize=3169000, ask=1.18035, askSize=14000000, high=1.1814, low=1.1771, close=1.1773)"
      ]
     },
     "execution_count": 4,
     "metadata": {},
     "output_type": "execute_result"
    }
   ],
   "source": [
    "ticker = ib.ticker(eurusd)\n",
    "ib.sleep(2)\n",
    "\n",
    "ticker"
   ]
  },
  {
   "cell_type": "markdown",
   "metadata": {},
   "source": [
    "The price of Forex ticks is always nan. To get a midpoint price use ``marketPrice()``.\n",
    "\n",
    "The tickers are kept\n",
    "live updated, try this a few times to see if the price changes:"
   ]
  },
  {
   "cell_type": "code",
   "execution_count": 5,
   "metadata": {},
   "outputs": [
    {
     "data": {
      "text/plain": [
       "1.1803249999999998"
      ]
     },
     "execution_count": 5,
     "metadata": {},
     "output_type": "execute_result"
    }
   ],
   "source": [
    "ticker.marketPrice()"
   ]
  },
  {
   "cell_type": "markdown",
   "metadata": {},
   "source": [
    "The following cell will start a 15 second loop that prints a live updated ticker table.\n",
    "It is updated with every new network packet that arrives."
   ]
  },
  {
   "cell_type": "code",
   "execution_count": 6,
   "metadata": {},
   "outputs": [
    {
     "data": {
      "text/html": [
       "<div>\n",
       "<style>\n",
       "    .dataframe thead tr:only-child th {\n",
       "        text-align: right;\n",
       "    }\n",
       "\n",
       "    .dataframe thead th {\n",
       "        text-align: left;\n",
       "    }\n",
       "\n",
       "    .dataframe tbody tr th {\n",
       "        vertical-align: top;\n",
       "    }\n",
       "</style>\n",
       "<table border=\"1\" class=\"dataframe\">\n",
       "  <thead>\n",
       "    <tr style=\"text-align: right;\">\n",
       "      <th></th>\n",
       "      <th>symbol</th>\n",
       "      <th>bidSize</th>\n",
       "      <th>bid</th>\n",
       "      <th>ask</th>\n",
       "      <th>askSize</th>\n",
       "      <th>high</th>\n",
       "      <th>low</th>\n",
       "      <th>close</th>\n",
       "    </tr>\n",
       "  </thead>\n",
       "  <tbody>\n",
       "    <tr>\n",
       "      <th>0</th>\n",
       "      <td>EURUSD</td>\n",
       "      <td>3169000</td>\n",
       "      <td>1.1803</td>\n",
       "      <td>1.18035</td>\n",
       "      <td>14000000</td>\n",
       "      <td>1.1814</td>\n",
       "      <td>1.1771</td>\n",
       "      <td>1.1773</td>\n",
       "    </tr>\n",
       "    <tr>\n",
       "      <th>1</th>\n",
       "      <td>USDJPY</td>\n",
       "      <td>24000000</td>\n",
       "      <td>110.83</td>\n",
       "      <td>110.84</td>\n",
       "      <td>10000000</td>\n",
       "      <td>110.895</td>\n",
       "      <td>110.645</td>\n",
       "      <td>110.69</td>\n",
       "    </tr>\n",
       "    <tr>\n",
       "      <th>2</th>\n",
       "      <td>GBPUSD</td>\n",
       "      <td>1000000</td>\n",
       "      <td>1.30525</td>\n",
       "      <td>1.3053</td>\n",
       "      <td>500000</td>\n",
       "      <td>1.30595</td>\n",
       "      <td>1.3036</td>\n",
       "      <td>1.3039</td>\n",
       "    </tr>\n",
       "    <tr>\n",
       "      <th>3</th>\n",
       "      <td>USDCHF</td>\n",
       "      <td>12700000</td>\n",
       "      <td>0.9723</td>\n",
       "      <td>0.97235</td>\n",
       "      <td>1000000</td>\n",
       "      <td>0.97465</td>\n",
       "      <td>0.97115</td>\n",
       "      <td>0.97285</td>\n",
       "    </tr>\n",
       "    <tr>\n",
       "      <th>4</th>\n",
       "      <td>USDCAD</td>\n",
       "      <td>13500000</td>\n",
       "      <td>1.2677</td>\n",
       "      <td>1.26775</td>\n",
       "      <td>500000</td>\n",
       "      <td>1.2683</td>\n",
       "      <td>1.26305</td>\n",
       "      <td>1.2652</td>\n",
       "    </tr>\n",
       "    <tr>\n",
       "      <th>5</th>\n",
       "      <td>AUDUSD</td>\n",
       "      <td>3252000</td>\n",
       "      <td>0.79105</td>\n",
       "      <td>0.7911</td>\n",
       "      <td>2752000</td>\n",
       "      <td>0.7949</td>\n",
       "      <td>0.79055</td>\n",
       "      <td>0.7928</td>\n",
       "    </tr>\n",
       "  </tbody>\n",
       "</table>\n",
       "</div>"
      ],
      "text/plain": [
       "   symbol   bidSize      bid      ask   askSize     high      low    close\n",
       "0  EURUSD   3169000   1.1803  1.18035  14000000   1.1814   1.1771   1.1773\n",
       "1  USDJPY  24000000   110.83   110.84  10000000  110.895  110.645   110.69\n",
       "2  GBPUSD   1000000  1.30525   1.3053    500000  1.30595   1.3036   1.3039\n",
       "3  USDCHF  12700000   0.9723  0.97235   1000000  0.97465  0.97115  0.97285\n",
       "4  USDCAD  13500000   1.2677  1.26775    500000   1.2683  1.26305   1.2652\n",
       "5  AUDUSD   3252000  0.79105   0.7911   2752000   0.7949  0.79055   0.7928"
      ]
     },
     "metadata": {},
     "output_type": "display_data"
    }
   ],
   "source": [
    "from IPython.display import display, clear_output\n",
    "import pandas as pd\n",
    "import time\n",
    "runUntil = time.time() + 15\n",
    "\n",
    "df = pd.DataFrame(columns='symbol bidSize bid ask askSize high low close'.split())\n",
    "df['symbol'] = [c.symbol + c.currency for c in contracts]\n",
    "\n",
    "while ib.waitOnUpdate():\n",
    "    for i, t in enumerate(ib.tickers()):\n",
    "        df.iloc[i, 1:] = (t.bidSize, t.bid, t.ask, t.askSize, t.high, t.low, t.close)\n",
    "    clear_output(wait=True)\n",
    "    display(df)\n",
    "    if time.time() > runUntil:\n",
    "        break"
   ]
  },
  {
   "cell_type": "markdown",
   "metadata": {},
   "source": [
    "After an update the tick data is available in the 'ticks' attribute of the ticker.\n",
    "The tick data will be cleared before the next update."
   ]
  },
  {
   "cell_type": "code",
   "execution_count": 7,
   "metadata": {},
   "outputs": [
    {
     "name": "stdout",
     "output_type": "stream",
     "text": [
      "[TickData(time=datetime.datetime(2017, 8, 7, 10, 30, 50, 949628, tzinfo=datetime.timezone.utc), tickType=1, price=1.18025, size=19169000)]\n",
      "[TickData(time=datetime.datetime(2017, 8, 7, 10, 30, 52, 934441, tzinfo=datetime.timezone.utc), tickType=2, price=1.1803, size=1000000)]\n",
      "[TickData(time=datetime.datetime(2017, 8, 7, 10, 30, 54, 380689, tzinfo=datetime.timezone.utc), tickType=1, price=1.1803, size=1000000), TickData(time=datetime.datetime(2017, 8, 7, 10, 30, 54, 380689, tzinfo=datetime.timezone.utc), tickType=2, price=1.18035, size=24000000)]\n"
     ]
    }
   ],
   "source": [
    "import time\n",
    "runUntil = time.time() + 15\n",
    "\n",
    "while ib.waitOnUpdate():\n",
    "    if ticker.ticks:\n",
    "        print(ticker.ticks)\n",
    "    if time.time() > runUntil:\n",
    "        break"
   ]
  },
  {
   "cell_type": "markdown",
   "metadata": {
    "collapsed": true
   },
   "source": [
    "To stop the live tick subscriptions:"
   ]
  },
  {
   "cell_type": "code",
   "execution_count": 8,
   "metadata": {
    "collapsed": true
   },
   "outputs": [],
   "source": [
    "for contract in contracts:\n",
    "    ib.cancelMktData(contract)"
   ]
  },
  {
   "cell_type": "code",
   "execution_count": 9,
   "metadata": {
    "collapsed": true
   },
   "outputs": [],
   "source": [
    "ib.disconnect()"
   ]
  },
  {
   "cell_type": "code",
   "execution_count": null,
   "metadata": {
    "collapsed": true
   },
   "outputs": [],
   "source": []
  }
 ],
 "metadata": {
  "kernelspec": {
   "display_name": "Python 3",
   "language": "python",
   "name": "python3"
  },
  "language_info": {
   "codemirror_mode": {
    "name": "ipython",
    "version": 3
   },
   "file_extension": ".py",
   "mimetype": "text/x-python",
   "name": "python",
   "nbconvert_exporter": "python",
   "pygments_lexer": "ipython3",
   "version": "3.6.2"
  }
 },
 "nbformat": 4,
 "nbformat_minor": 2
}
