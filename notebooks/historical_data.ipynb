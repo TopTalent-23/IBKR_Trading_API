{
 "cells": [
  {
   "cell_type": "code",
   "execution_count": 1,
   "metadata": {},
   "outputs": [],
   "source": [
    "%gui qt5\n",
    "\n",
    "from ib_insync import *\n",
    "util.useQt()\n",
    "\n",
    "ib = IB()\n",
    "ib.connect('127.0.0.1', 7497, clientId=14)"
   ]
  },
  {
   "cell_type": "code",
   "execution_count": 2,
   "metadata": {
    "collapsed": true
   },
   "outputs": [],
   "source": [
    "contract = Stock('TSLA', 'SMART', 'USD')\n",
    "\n",
    "bars = ib.reqHistoricalData(\n",
    "        contract,\n",
    "        endDateTime='',\n",
    "        durationStr='60 D',\n",
    "        barSizeSetting='1 hour',\n",
    "        whatToShow='TRADES',\n",
    "        useRTH=True,\n",
    "        formatDate=1)"
   ]
  },
  {
   "cell_type": "code",
   "execution_count": 3,
   "metadata": {},
   "outputs": [
    {
     "data": {
      "text/plain": [
       "BarData(date=datetime.datetime(2017, 4, 17, 15, 30), open=302.6, high=304.0, low=298.68, close=300.62, volume=9620, barCount=4432, average=300.799)"
      ]
     },
     "execution_count": 3,
     "metadata": {},
     "output_type": "execute_result"
    }
   ],
   "source": [
    "bars[0]"
   ]
  },
  {
   "cell_type": "code",
   "execution_count": 4,
   "metadata": {},
   "outputs": [
    {
     "data": {
      "text/html": [
       "<div>\n",
       "<style>\n",
       "    .dataframe thead tr:only-child th {\n",
       "        text-align: right;\n",
       "    }\n",
       "\n",
       "    .dataframe thead th {\n",
       "        text-align: left;\n",
       "    }\n",
       "\n",
       "    .dataframe tbody tr th {\n",
       "        vertical-align: top;\n",
       "    }\n",
       "</style>\n",
       "<table border=\"1\" class=\"dataframe\">\n",
       "  <thead>\n",
       "    <tr style=\"text-align: right;\">\n",
       "      <th></th>\n",
       "      <th>date</th>\n",
       "      <th>open</th>\n",
       "      <th>high</th>\n",
       "      <th>low</th>\n",
       "      <th>close</th>\n",
       "      <th>volume</th>\n",
       "      <th>barCount</th>\n",
       "      <th>average</th>\n",
       "    </tr>\n",
       "  </thead>\n",
       "  <tbody>\n",
       "    <tr>\n",
       "      <th>0</th>\n",
       "      <td>2017-04-17 15:30:00</td>\n",
       "      <td>302.60</td>\n",
       "      <td>304.00</td>\n",
       "      <td>298.68</td>\n",
       "      <td>300.62</td>\n",
       "      <td>9620</td>\n",
       "      <td>4432</td>\n",
       "      <td>300.799</td>\n",
       "    </tr>\n",
       "    <tr>\n",
       "      <th>1</th>\n",
       "      <td>2017-04-17 16:00:00</td>\n",
       "      <td>300.48</td>\n",
       "      <td>302.41</td>\n",
       "      <td>299.67</td>\n",
       "      <td>300.91</td>\n",
       "      <td>5452</td>\n",
       "      <td>3298</td>\n",
       "      <td>300.987</td>\n",
       "    </tr>\n",
       "    <tr>\n",
       "      <th>2</th>\n",
       "      <td>2017-04-17 17:00:00</td>\n",
       "      <td>300.97</td>\n",
       "      <td>303.00</td>\n",
       "      <td>300.78</td>\n",
       "      <td>302.48</td>\n",
       "      <td>4192</td>\n",
       "      <td>2088</td>\n",
       "      <td>302.078</td>\n",
       "    </tr>\n",
       "    <tr>\n",
       "      <th>3</th>\n",
       "      <td>2017-04-17 18:00:00</td>\n",
       "      <td>302.51</td>\n",
       "      <td>302.56</td>\n",
       "      <td>300.94</td>\n",
       "      <td>301.15</td>\n",
       "      <td>1994</td>\n",
       "      <td>1173</td>\n",
       "      <td>301.813</td>\n",
       "    </tr>\n",
       "    <tr>\n",
       "      <th>4</th>\n",
       "      <td>2017-04-17 19:00:00</td>\n",
       "      <td>301.21</td>\n",
       "      <td>301.47</td>\n",
       "      <td>300.68</td>\n",
       "      <td>301.00</td>\n",
       "      <td>4467</td>\n",
       "      <td>1319</td>\n",
       "      <td>301.002</td>\n",
       "    </tr>\n",
       "  </tbody>\n",
       "</table>\n",
       "</div>"
      ],
      "text/plain": [
       "                 date    open    high     low   close  volume  barCount  \\\n",
       "0 2017-04-17 15:30:00  302.60  304.00  298.68  300.62    9620      4432   \n",
       "1 2017-04-17 16:00:00  300.48  302.41  299.67  300.91    5452      3298   \n",
       "2 2017-04-17 17:00:00  300.97  303.00  300.78  302.48    4192      2088   \n",
       "3 2017-04-17 18:00:00  302.51  302.56  300.94  301.15    1994      1173   \n",
       "4 2017-04-17 19:00:00  301.21  301.47  300.68  301.00    4467      1319   \n",
       "\n",
       "   average  \n",
       "0  300.799  \n",
       "1  300.987  \n",
       "2  302.078  \n",
       "3  301.813  \n",
       "4  301.002  "
      ]
     },
     "metadata": {},
     "output_type": "display_data"
    },
    {
     "data": {
      "text/html": [
       "<div>\n",
       "<style>\n",
       "    .dataframe thead tr:only-child th {\n",
       "        text-align: right;\n",
       "    }\n",
       "\n",
       "    .dataframe thead th {\n",
       "        text-align: left;\n",
       "    }\n",
       "\n",
       "    .dataframe tbody tr th {\n",
       "        vertical-align: top;\n",
       "    }\n",
       "</style>\n",
       "<table border=\"1\" class=\"dataframe\">\n",
       "  <thead>\n",
       "    <tr style=\"text-align: right;\">\n",
       "      <th></th>\n",
       "      <th>date</th>\n",
       "      <th>open</th>\n",
       "      <th>high</th>\n",
       "      <th>low</th>\n",
       "      <th>close</th>\n",
       "      <th>volume</th>\n",
       "      <th>barCount</th>\n",
       "      <th>average</th>\n",
       "    </tr>\n",
       "  </thead>\n",
       "  <tbody>\n",
       "    <tr>\n",
       "      <th>412</th>\n",
       "      <td>2017-07-11 17:00:00</td>\n",
       "      <td>325.30</td>\n",
       "      <td>326.56</td>\n",
       "      <td>321.22</td>\n",
       "      <td>323.48</td>\n",
       "      <td>17987</td>\n",
       "      <td>9596</td>\n",
       "      <td>324.239</td>\n",
       "    </tr>\n",
       "    <tr>\n",
       "      <th>413</th>\n",
       "      <td>2017-07-11 18:00:00</td>\n",
       "      <td>323.60</td>\n",
       "      <td>324.60</td>\n",
       "      <td>321.79</td>\n",
       "      <td>323.78</td>\n",
       "      <td>7135</td>\n",
       "      <td>3445</td>\n",
       "      <td>323.184</td>\n",
       "    </tr>\n",
       "    <tr>\n",
       "      <th>414</th>\n",
       "      <td>2017-07-11 19:00:00</td>\n",
       "      <td>323.86</td>\n",
       "      <td>325.35</td>\n",
       "      <td>322.60</td>\n",
       "      <td>324.39</td>\n",
       "      <td>5947</td>\n",
       "      <td>3088</td>\n",
       "      <td>323.808</td>\n",
       "    </tr>\n",
       "    <tr>\n",
       "      <th>415</th>\n",
       "      <td>2017-07-11 20:00:00</td>\n",
       "      <td>324.39</td>\n",
       "      <td>325.11</td>\n",
       "      <td>323.60</td>\n",
       "      <td>324.58</td>\n",
       "      <td>4660</td>\n",
       "      <td>2543</td>\n",
       "      <td>324.283</td>\n",
       "    </tr>\n",
       "    <tr>\n",
       "      <th>416</th>\n",
       "      <td>2017-07-11 21:00:00</td>\n",
       "      <td>324.58</td>\n",
       "      <td>327.28</td>\n",
       "      <td>323.71</td>\n",
       "      <td>327.19</td>\n",
       "      <td>14906</td>\n",
       "      <td>8335</td>\n",
       "      <td>325.885</td>\n",
       "    </tr>\n",
       "  </tbody>\n",
       "</table>\n",
       "</div>"
      ],
      "text/plain": [
       "                   date    open    high     low   close  volume  barCount  \\\n",
       "412 2017-07-11 17:00:00  325.30  326.56  321.22  323.48   17987      9596   \n",
       "413 2017-07-11 18:00:00  323.60  324.60  321.79  323.78    7135      3445   \n",
       "414 2017-07-11 19:00:00  323.86  325.35  322.60  324.39    5947      3088   \n",
       "415 2017-07-11 20:00:00  324.39  325.11  323.60  324.58    4660      2543   \n",
       "416 2017-07-11 21:00:00  324.58  327.28  323.71  327.19   14906      8335   \n",
       "\n",
       "     average  \n",
       "412  324.239  \n",
       "413  323.184  \n",
       "414  323.808  \n",
       "415  324.283  \n",
       "416  325.885  "
      ]
     },
     "metadata": {},
     "output_type": "display_data"
    }
   ],
   "source": [
    "df = util.df(bars)\n",
    "\n",
    "display(df.head())\n",
    "display(df.tail())"
   ]
  },
  {
   "cell_type": "code",
   "execution_count": 5,
   "metadata": {},
   "outputs": [
    {
     "data": {
      "text/plain": [
       "<matplotlib.axes._subplots.AxesSubplot at 0x7f023c927860>"
      ]
     },
     "execution_count": 5,
     "metadata": {},
     "output_type": "execute_result"
    },
    {
     "data": {
      "image/png": "[encoded data removed]",
      "text/plain": [
       "<matplotlib.figure.Figure at 0x7f023c8fbb38>"
      ]
     },
     "metadata": {},
     "output_type": "display_data"
    }
   ],
   "source": [
    "%matplotlib inline\n",
    "import seaborn as sns\n",
    "\n",
    "df.plot(y='close', figsize=(12,8))"
   ]
  },
  {
   "cell_type": "code",
   "execution_count": null,
   "metadata": {
    "collapsed": true
   },
   "outputs": [],
   "source": []
  }
 ],
 "metadata": {
  "kernelspec": {
   "display_name": "Python 3",
   "language": "python",
   "name": "python3"
  },
  "language_info": {
   "codemirror_mode": {
    "name": "ipython",
    "version": 3
   },
   "file_extension": ".py",
   "mimetype": "text/x-python",
   "name": "python",
   "nbconvert_exporter": "python",
   "pygments_lexer": "ipython3",
   "version": "3.6.1"
  }
 },
 "nbformat": 4,
 "nbformat_minor": 2
}
