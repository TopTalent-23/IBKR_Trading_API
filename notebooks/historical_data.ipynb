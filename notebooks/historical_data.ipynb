{
 "cells": [
  {
   "cell_type": "code",
   "execution_count": 1,
   "metadata": {
    "collapsed": true
   },
   "outputs": [],
   "source": [
    "%gui qt5\n",
    "\n",
    "from ib_insync import *\n",
    "util.useQt()\n",
    "\n",
    "ib = IB()\n",
    "ib.connect('127.0.0.1', 7497, clientId=14)"
   ]
  },
  {
   "cell_type": "markdown",
   "metadata": {},
   "source": [
    "Earliest date of available bar data:"
   ]
  },
  {
   "cell_type": "code",
   "execution_count": 2,
   "metadata": {},
   "outputs": [
    {
     "data": {
      "text/plain": [
       "datetime.datetime(2010, 6, 29, 8, 0)"
      ]
     },
     "execution_count": 2,
     "metadata": {},
     "output_type": "execute_result"
    }
   ],
   "source": [
    "contract = Stock('TSLA', 'SMART', 'USD')\n",
    "\n",
    "ib.reqHeadTimeStamp(contract, whatToShow='TRADES', useRTH=True)"
   ]
  },
  {
   "cell_type": "markdown",
   "metadata": {},
   "source": [
    "To request hourly data of the last 60 trading days:"
   ]
  },
  {
   "cell_type": "code",
   "execution_count": 3,
   "metadata": {
    "collapsed": true
   },
   "outputs": [],
   "source": [
    "bars = ib.reqHistoricalData(\n",
    "        contract,\n",
    "        endDateTime='',\n",
    "        durationStr='60 D',\n",
    "        barSizeSetting='1 hour',\n",
    "        whatToShow='TRADES',\n",
    "        useRTH=True,\n",
    "        formatDate=1)"
   ]
  },
  {
   "cell_type": "code",
   "execution_count": 4,
   "metadata": {},
   "outputs": [
    {
     "data": {
      "text/plain": [
       "BarData(date=datetime.datetime(2017, 5, 2, 15, 30), open=324.01, high=327.66, low=320.3, close=320.84, volume=12410, barCount=6414, average=323.397)"
      ]
     },
     "execution_count": 4,
     "metadata": {},
     "output_type": "execute_result"
    }
   ],
   "source": [
    "bars[0]"
   ]
  },
  {
   "cell_type": "code",
   "execution_count": 5,
   "metadata": {},
   "outputs": [
    {
     "data": {
      "text/html": [
       "<div>\n",
       "<style>\n",
       "    .dataframe thead tr:only-child th {\n",
       "        text-align: right;\n",
       "    }\n",
       "\n",
       "    .dataframe thead th {\n",
       "        text-align: left;\n",
       "    }\n",
       "\n",
       "    .dataframe tbody tr th {\n",
       "        vertical-align: top;\n",
       "    }\n",
       "</style>\n",
       "<table border=\"1\" class=\"dataframe\">\n",
       "  <thead>\n",
       "    <tr style=\"text-align: right;\">\n",
       "      <th></th>\n",
       "      <th>date</th>\n",
       "      <th>open</th>\n",
       "      <th>high</th>\n",
       "      <th>low</th>\n",
       "      <th>close</th>\n",
       "      <th>volume</th>\n",
       "      <th>barCount</th>\n",
       "      <th>average</th>\n",
       "    </tr>\n",
       "  </thead>\n",
       "  <tbody>\n",
       "    <tr>\n",
       "      <th>0</th>\n",
       "      <td>2017-05-02 15:30:00</td>\n",
       "      <td>324.01</td>\n",
       "      <td>327.66</td>\n",
       "      <td>320.30</td>\n",
       "      <td>320.84</td>\n",
       "      <td>12410</td>\n",
       "      <td>6414</td>\n",
       "      <td>323.397</td>\n",
       "    </tr>\n",
       "    <tr>\n",
       "      <th>1</th>\n",
       "      <td>2017-05-02 16:00:00</td>\n",
       "      <td>320.89</td>\n",
       "      <td>321.60</td>\n",
       "      <td>319.00</td>\n",
       "      <td>320.42</td>\n",
       "      <td>10535</td>\n",
       "      <td>6030</td>\n",
       "      <td>320.337</td>\n",
       "    </tr>\n",
       "    <tr>\n",
       "      <th>2</th>\n",
       "      <td>2017-05-02 17:00:00</td>\n",
       "      <td>320.46</td>\n",
       "      <td>322.26</td>\n",
       "      <td>320.32</td>\n",
       "      <td>321.24</td>\n",
       "      <td>4484</td>\n",
       "      <td>2566</td>\n",
       "      <td>321.325</td>\n",
       "    </tr>\n",
       "    <tr>\n",
       "      <th>3</th>\n",
       "      <td>2017-05-02 18:00:00</td>\n",
       "      <td>321.16</td>\n",
       "      <td>321.96</td>\n",
       "      <td>320.61</td>\n",
       "      <td>321.09</td>\n",
       "      <td>2567</td>\n",
       "      <td>1475</td>\n",
       "      <td>321.333</td>\n",
       "    </tr>\n",
       "    <tr>\n",
       "      <th>4</th>\n",
       "      <td>2017-05-02 19:00:00</td>\n",
       "      <td>321.17</td>\n",
       "      <td>321.58</td>\n",
       "      <td>320.07</td>\n",
       "      <td>320.16</td>\n",
       "      <td>1841</td>\n",
       "      <td>1124</td>\n",
       "      <td>320.873</td>\n",
       "    </tr>\n",
       "  </tbody>\n",
       "</table>\n",
       "</div>"
      ],
      "text/plain": [
       "                 date    open    high     low   close  volume  barCount  \\\n",
       "0 2017-05-02 15:30:00  324.01  327.66  320.30  320.84   12410      6414   \n",
       "1 2017-05-02 16:00:00  320.89  321.60  319.00  320.42   10535      6030   \n",
       "2 2017-05-02 17:00:00  320.46  322.26  320.32  321.24    4484      2566   \n",
       "3 2017-05-02 18:00:00  321.16  321.96  320.61  321.09    2567      1475   \n",
       "4 2017-05-02 19:00:00  321.17  321.58  320.07  320.16    1841      1124   \n",
       "\n",
       "   average  \n",
       "0  323.397  \n",
       "1  320.337  \n",
       "2  321.325  \n",
       "3  321.333  \n",
       "4  320.873  "
      ]
     },
     "metadata": {},
     "output_type": "display_data"
    },
    {
     "data": {
      "text/html": [
       "<div>\n",
       "<style>\n",
       "    .dataframe thead tr:only-child th {\n",
       "        text-align: right;\n",
       "    }\n",
       "\n",
       "    .dataframe thead th {\n",
       "        text-align: left;\n",
       "    }\n",
       "\n",
       "    .dataframe tbody tr th {\n",
       "        vertical-align: top;\n",
       "    }\n",
       "</style>\n",
       "<table border=\"1\" class=\"dataframe\">\n",
       "  <thead>\n",
       "    <tr style=\"text-align: right;\">\n",
       "      <th></th>\n",
       "      <th>date</th>\n",
       "      <th>open</th>\n",
       "      <th>high</th>\n",
       "      <th>low</th>\n",
       "      <th>close</th>\n",
       "      <th>volume</th>\n",
       "      <th>barCount</th>\n",
       "      <th>average</th>\n",
       "    </tr>\n",
       "  </thead>\n",
       "  <tbody>\n",
       "    <tr>\n",
       "      <th>410</th>\n",
       "      <td>2017-07-26 15:30:00</td>\n",
       "      <td>340.36</td>\n",
       "      <td>342.26</td>\n",
       "      <td>338.12</td>\n",
       "      <td>341.10</td>\n",
       "      <td>7284</td>\n",
       "      <td>3616</td>\n",
       "      <td>340.447</td>\n",
       "    </tr>\n",
       "    <tr>\n",
       "      <th>411</th>\n",
       "      <td>2017-07-26 16:00:00</td>\n",
       "      <td>341.25</td>\n",
       "      <td>344.47</td>\n",
       "      <td>340.91</td>\n",
       "      <td>342.90</td>\n",
       "      <td>10919</td>\n",
       "      <td>5091</td>\n",
       "      <td>342.926</td>\n",
       "    </tr>\n",
       "    <tr>\n",
       "      <th>412</th>\n",
       "      <td>2017-07-26 17:00:00</td>\n",
       "      <td>342.99</td>\n",
       "      <td>345.50</td>\n",
       "      <td>342.56</td>\n",
       "      <td>342.98</td>\n",
       "      <td>6976</td>\n",
       "      <td>3296</td>\n",
       "      <td>344.190</td>\n",
       "    </tr>\n",
       "    <tr>\n",
       "      <th>413</th>\n",
       "      <td>2017-07-26 18:00:00</td>\n",
       "      <td>342.99</td>\n",
       "      <td>344.29</td>\n",
       "      <td>342.83</td>\n",
       "      <td>343.94</td>\n",
       "      <td>2370</td>\n",
       "      <td>1237</td>\n",
       "      <td>343.798</td>\n",
       "    </tr>\n",
       "    <tr>\n",
       "      <th>414</th>\n",
       "      <td>2017-07-26 19:00:00</td>\n",
       "      <td>343.93</td>\n",
       "      <td>345.24</td>\n",
       "      <td>343.55</td>\n",
       "      <td>344.43</td>\n",
       "      <td>2750</td>\n",
       "      <td>1488</td>\n",
       "      <td>344.504</td>\n",
       "    </tr>\n",
       "  </tbody>\n",
       "</table>\n",
       "</div>"
      ],
      "text/plain": [
       "                   date    open    high     low   close  volume  barCount  \\\n",
       "410 2017-07-26 15:30:00  340.36  342.26  338.12  341.10    7284      3616   \n",
       "411 2017-07-26 16:00:00  341.25  344.47  340.91  342.90   10919      5091   \n",
       "412 2017-07-26 17:00:00  342.99  345.50  342.56  342.98    6976      3296   \n",
       "413 2017-07-26 18:00:00  342.99  344.29  342.83  343.94    2370      1237   \n",
       "414 2017-07-26 19:00:00  343.93  345.24  343.55  344.43    2750      1488   \n",
       "\n",
       "     average  \n",
       "410  340.447  \n",
       "411  342.926  \n",
       "412  344.190  \n",
       "413  343.798  \n",
       "414  344.504  "
      ]
     },
     "metadata": {},
     "output_type": "display_data"
    }
   ],
   "source": [
    "df = util.df(bars)\n",
    "\n",
    "display(df.head())\n",
    "display(df.tail())"
   ]
  },
  {
   "cell_type": "code",
   "execution_count": 8,
   "metadata": {},
   "outputs": [
    {
     "data": {
      "text/plain": [
       "<matplotlib.axes._subplots.AxesSubplot at 0x7fd9d916ea20>"
      ]
     },
     "execution_count": 8,
     "metadata": {},
     "output_type": "execute_result"
    },
    {
     "data": {
      "image/png": "[encoded data removed]",
      "text/plain": [
       "<matplotlib.figure.Figure at 0x7fd9d9148e80>"
      ]
     },
     "metadata": {},
     "output_type": "display_data"
    }
   ],
   "source": [
    "%matplotlib inline\n",
    "\n",
    "df.plot(y='close')"
   ]
  },
  {
   "cell_type": "code",
   "execution_count": null,
   "metadata": {
    "collapsed": true
   },
   "outputs": [],
   "source": []
  }
 ],
 "metadata": {
  "kernelspec": {
   "display_name": "Python 3",
   "language": "python",
   "name": "python3"
  },
  "language_info": {
   "codemirror_mode": {
    "name": "ipython",
    "version": 3
   },
   "file_extension": ".py",
   "mimetype": "text/x-python",
   "name": "python",
   "nbconvert_exporter": "python",
   "pygments_lexer": "ipython3",
   "version": "3.6.2"
  }
 },
 "nbformat": 4,
 "nbformat_minor": 2
}
