{
 "cells": [
  {
   "cell_type": "markdown",
   "metadata": {},
   "source": [
    "Contract details\n",
    "-------------------"
   ]
  },
  {
   "cell_type": "code",
   "execution_count": 1,
   "metadata": {
    "collapsed": true
   },
   "outputs": [],
   "source": [
    "%gui qt5\n",
    "\n",
    "from ib_insync import *\n",
    "util.useQt()\n",
    "\n",
    "ib = IB()\n",
    "ib.connect('127.0.0.1', 7497, clientId=11)"
   ]
  },
  {
   "cell_type": "markdown",
   "metadata": {},
   "source": [
    "Suppose we want to find the contract details for AMD stock.\n",
    "Let's create a stock object and request the details for it:"
   ]
  },
  {
   "cell_type": "code",
   "execution_count": 2,
   "metadata": {},
   "outputs": [
    {
     "data": {
      "text/plain": [
       "18"
      ]
     },
     "execution_count": 2,
     "metadata": {},
     "output_type": "execute_result"
    }
   ],
   "source": [
    "amd = Stock('AMD')\n",
    "\n",
    "cds = ib.reqContractDetails(amd)\n",
    "\n",
    "len(cds)"
   ]
  },
  {
   "cell_type": "markdown",
   "metadata": {},
   "source": [
    "We get a long list of contract details. Lets print the first one:"
   ]
  },
  {
   "cell_type": "code",
   "execution_count": 3,
   "metadata": {},
   "outputs": [
    {
     "data": {
      "text/plain": [
       "ContractDetails(summary=Contract(conId=4391, symbol='AMD', secType='STK', exchange='SMART', primaryExchange='NASDAQ', currency='USD', localSymbol='AMD', tradingClass='SCM'), marketName='SCM', minTick=0.01, orderTypes='ACTIVETIM,ADJUST,ALERT,ALGO,ALLOC,AON,AVGCOST,BASKET,COND,CONDORDER,DARKPOLL,DAY,DEACT,DEACTDIS,DEACTEOD,DIS,GAT,GTC,GTD,GTT,HID,IBDARK,ICE,IMB,IOC,LIT,LMT,LOC,MIT,MKT,MOC,MTL,NONALGO,OCA,OPG,OPGREROUT,PEGBENCH,POSTONLY,PREOPGRTH,REL,RPI,RTH,SCALE,SCALERST,STP,STPLMT,SWEEP,TIMEPRIO,TRAIL,TRAILLIT,TRAILLMT,TRAILMIT,WHATIF', validExchanges='SMART,CHX,ARCA,ISLAND,DRCTEDGE,NSX,BEX,BATS,EDGEA,BYX,PSX', priceMagnifier=1, longName='ADVANCED MICRO DEVICES', industry='Technology', category='Semiconductors', subcategory='Electronic Compo-Semicon', timeZoneId='EST5EDT', tradingHours='20170711:0005-2358;20170712:0005-2358;20170713:0005-2358;20170714:0005-2358;20170715:0005-2358;20170716:0005-2358;20170717:0005-2358;20170718:0005-2358;20170719:0005-2358;20170720:0005-2358;20170721:0005-2358;20170722:0005-2358;20170723:0005-2358;20170724:0005-2358;20170725:0005-2358;20170726:0005-2358;20170727:0005-2358;20170728:0005-2358;20170729:0005-2358;20170730:0005-2358;20170731:0005-2358;20170801:0005-2358;20170802:0005-2358;20170803:0005-2358;20170804:0005-2358;20170805:0005-2358;20170806:0005-2358;20170807:0005-2358;20170808:0005-2358;20170809:0005-2358;20170810:0005-2358;20170811:0005-2358;20170812:0005-2358;20170813:0005-2358;20170814:0005-2358', liquidHours='20170711:0005-2358;20170712:0005-2358;20170713:0005-2358;20170714:0005-2358;20170715:0005-2358;20170716:0005-2358;20170717:0005-2358;20170718:0005-2358;20170719:0005-2358;20170720:0005-2358;20170721:0005-2358;20170722:0005-2358;20170723:0005-2358;20170724:0005-2358;20170725:0005-2358;20170726:0005-2358;20170727:0005-2358;20170728:0005-2358;20170729:0005-2358;20170730:0005-2358;20170731:0005-2358;20170801:0005-2358;20170802:0005-2358;20170803:0005-2358;20170804:0005-2358;20170805:0005-2358;20170806:0005-2358;20170807:0005-2358;20170808:0005-2358;20170809:0005-2358;20170810:0005-2358;20170811:0005-2358;20170812:0005-2358;20170813:0005-2358;20170814:0005-2358', mdSizeMultiplier=100, aggGroup=1)"
      ]
     },
     "execution_count": 3,
     "metadata": {},
     "output_type": "execute_result"
    }
   ],
   "source": [
    "cds[0]"
   ]
  },
  {
   "cell_type": "markdown",
   "metadata": {},
   "source": [
    "The contract itself is in the 'summary' property of the contract details. Lets make a list of contracts and look at the first:"
   ]
  },
  {
   "cell_type": "code",
   "execution_count": 4,
   "metadata": {},
   "outputs": [
    {
     "data": {
      "text/plain": [
       "Contract(conId=4391, symbol='AMD', secType='STK', exchange='SMART', primaryExchange='NASDAQ', currency='USD', localSymbol='AMD', tradingClass='SCM')"
      ]
     },
     "execution_count": 4,
     "metadata": {},
     "output_type": "execute_result"
    }
   ],
   "source": [
    "contracts = [cd.summary for cd in cds]\n",
    "\n",
    "contracts[0]"
   ]
  },
  {
   "cell_type": "markdown",
   "metadata": {},
   "source": [
    "To better spot the difference between all the contracts it's handy to convert to a DataFrame. There is a utility function to do that:"
   ]
  },
  {
   "cell_type": "code",
   "execution_count": 5,
   "metadata": {},
   "outputs": [
    {
     "data": {
      "text/html": [
       "<div>\n",
       "<style>\n",
       "    .dataframe thead tr:only-child th {\n",
       "        text-align: right;\n",
       "    }\n",
       "\n",
       "    .dataframe thead th {\n",
       "        text-align: left;\n",
       "    }\n",
       "\n",
       "    .dataframe tbody tr th {\n",
       "        vertical-align: top;\n",
       "    }\n",
       "</style>\n",
       "<table border=\"1\" class=\"dataframe\">\n",
       "  <thead>\n",
       "    <tr style=\"text-align: right;\">\n",
       "      <th></th>\n",
       "      <th>conId</th>\n",
       "      <th>symbol</th>\n",
       "      <th>secType</th>\n",
       "      <th>lastTradeDateOrContractMonth</th>\n",
       "      <th>strike</th>\n",
       "      <th>right</th>\n",
       "      <th>multiplier</th>\n",
       "      <th>exchange</th>\n",
       "      <th>primaryExchange</th>\n",
       "      <th>currency</th>\n",
       "      <th>localSymbol</th>\n",
       "      <th>tradingClass</th>\n",
       "      <th>includeExpired</th>\n",
       "      <th>secIdType</th>\n",
       "      <th>secId</th>\n",
       "      <th>comboLegsDescrip</th>\n",
       "      <th>comboLegs</th>\n",
       "      <th>underComp</th>\n",
       "    </tr>\n",
       "  </thead>\n",
       "  <tbody>\n",
       "    <tr>\n",
       "      <th>0</th>\n",
       "      <td>4391</td>\n",
       "      <td>AMD</td>\n",
       "      <td>STK</td>\n",
       "      <td></td>\n",
       "      <td>0.0</td>\n",
       "      <td></td>\n",
       "      <td></td>\n",
       "      <td>SMART</td>\n",
       "      <td>NASDAQ</td>\n",
       "      <td>USD</td>\n",
       "      <td>AMD</td>\n",
       "      <td>SCM</td>\n",
       "      <td>False</td>\n",
       "      <td></td>\n",
       "      <td></td>\n",
       "      <td></td>\n",
       "      <td>None</td>\n",
       "      <td>None</td>\n",
       "    </tr>\n",
       "    <tr>\n",
       "      <th>1</th>\n",
       "      <td>32596680</td>\n",
       "      <td>AMD</td>\n",
       "      <td>STK</td>\n",
       "      <td></td>\n",
       "      <td>0.0</td>\n",
       "      <td></td>\n",
       "      <td></td>\n",
       "      <td>SMART</td>\n",
       "      <td>IBIS</td>\n",
       "      <td>EUR</td>\n",
       "      <td>AMD</td>\n",
       "      <td>USSTARS</td>\n",
       "      <td>False</td>\n",
       "      <td></td>\n",
       "      <td></td>\n",
       "      <td></td>\n",
       "      <td>None</td>\n",
       "      <td>None</td>\n",
       "    </tr>\n",
       "    <tr>\n",
       "      <th>2</th>\n",
       "      <td>172603743</td>\n",
       "      <td>AMD</td>\n",
       "      <td>STK</td>\n",
       "      <td></td>\n",
       "      <td>0.0</td>\n",
       "      <td></td>\n",
       "      <td></td>\n",
       "      <td>SMART</td>\n",
       "      <td>EBS</td>\n",
       "      <td>CHF</td>\n",
       "      <td>AMD</td>\n",
       "      <td>AMD</td>\n",
       "      <td>False</td>\n",
       "      <td></td>\n",
       "      <td></td>\n",
       "      <td></td>\n",
       "      <td>None</td>\n",
       "      <td>None</td>\n",
       "    </tr>\n",
       "    <tr>\n",
       "      <th>3</th>\n",
       "      <td>4391</td>\n",
       "      <td>AMD</td>\n",
       "      <td>STK</td>\n",
       "      <td></td>\n",
       "      <td>0.0</td>\n",
       "      <td></td>\n",
       "      <td></td>\n",
       "      <td>CHX</td>\n",
       "      <td>NASDAQ</td>\n",
       "      <td>USD</td>\n",
       "      <td>AMD</td>\n",
       "      <td>SCM</td>\n",
       "      <td>False</td>\n",
       "      <td></td>\n",
       "      <td></td>\n",
       "      <td></td>\n",
       "      <td>None</td>\n",
       "      <td>None</td>\n",
       "    </tr>\n",
       "    <tr>\n",
       "      <th>4</th>\n",
       "      <td>4391</td>\n",
       "      <td>AMD</td>\n",
       "      <td>STK</td>\n",
       "      <td></td>\n",
       "      <td>0.0</td>\n",
       "      <td></td>\n",
       "      <td></td>\n",
       "      <td>ARCA</td>\n",
       "      <td>NASDAQ</td>\n",
       "      <td>USD</td>\n",
       "      <td>AMD</td>\n",
       "      <td>SCM</td>\n",
       "      <td>False</td>\n",
       "      <td></td>\n",
       "      <td></td>\n",
       "      <td></td>\n",
       "      <td>None</td>\n",
       "      <td>None</td>\n",
       "    </tr>\n",
       "    <tr>\n",
       "      <th>5</th>\n",
       "      <td>4391</td>\n",
       "      <td>AMD</td>\n",
       "      <td>STK</td>\n",
       "      <td></td>\n",
       "      <td>0.0</td>\n",
       "      <td></td>\n",
       "      <td></td>\n",
       "      <td>ISLAND</td>\n",
       "      <td>NASDAQ</td>\n",
       "      <td>USD</td>\n",
       "      <td>AMD</td>\n",
       "      <td>SCM</td>\n",
       "      <td>False</td>\n",
       "      <td></td>\n",
       "      <td></td>\n",
       "      <td></td>\n",
       "      <td>None</td>\n",
       "      <td>None</td>\n",
       "    </tr>\n",
       "    <tr>\n",
       "      <th>6</th>\n",
       "      <td>4391</td>\n",
       "      <td>AMD</td>\n",
       "      <td>STK</td>\n",
       "      <td></td>\n",
       "      <td>0.0</td>\n",
       "      <td></td>\n",
       "      <td></td>\n",
       "      <td>DRCTEDGE</td>\n",
       "      <td>NASDAQ</td>\n",
       "      <td>USD</td>\n",
       "      <td>AMD</td>\n",
       "      <td>SCM</td>\n",
       "      <td>False</td>\n",
       "      <td></td>\n",
       "      <td></td>\n",
       "      <td></td>\n",
       "      <td>None</td>\n",
       "      <td>None</td>\n",
       "    </tr>\n",
       "    <tr>\n",
       "      <th>7</th>\n",
       "      <td>4391</td>\n",
       "      <td>AMD</td>\n",
       "      <td>STK</td>\n",
       "      <td></td>\n",
       "      <td>0.0</td>\n",
       "      <td></td>\n",
       "      <td></td>\n",
       "      <td>NSX</td>\n",
       "      <td>NASDAQ</td>\n",
       "      <td>USD</td>\n",
       "      <td>AMD</td>\n",
       "      <td>SCM</td>\n",
       "      <td>False</td>\n",
       "      <td></td>\n",
       "      <td></td>\n",
       "      <td></td>\n",
       "      <td>None</td>\n",
       "      <td>None</td>\n",
       "    </tr>\n",
       "    <tr>\n",
       "      <th>8</th>\n",
       "      <td>4391</td>\n",
       "      <td>AMD</td>\n",
       "      <td>STK</td>\n",
       "      <td></td>\n",
       "      <td>0.0</td>\n",
       "      <td></td>\n",
       "      <td></td>\n",
       "      <td>BEX</td>\n",
       "      <td>NASDAQ</td>\n",
       "      <td>USD</td>\n",
       "      <td>AMD</td>\n",
       "      <td>SCM</td>\n",
       "      <td>False</td>\n",
       "      <td></td>\n",
       "      <td></td>\n",
       "      <td></td>\n",
       "      <td>None</td>\n",
       "      <td>None</td>\n",
       "    </tr>\n",
       "    <tr>\n",
       "      <th>9</th>\n",
       "      <td>4391</td>\n",
       "      <td>AMD</td>\n",
       "      <td>STK</td>\n",
       "      <td></td>\n",
       "      <td>0.0</td>\n",
       "      <td></td>\n",
       "      <td></td>\n",
       "      <td>BATS</td>\n",
       "      <td>NASDAQ</td>\n",
       "      <td>USD</td>\n",
       "      <td>AMD</td>\n",
       "      <td>SCM</td>\n",
       "      <td>False</td>\n",
       "      <td></td>\n",
       "      <td></td>\n",
       "      <td></td>\n",
       "      <td>None</td>\n",
       "      <td>None</td>\n",
       "    </tr>\n",
       "    <tr>\n",
       "      <th>10</th>\n",
       "      <td>4391</td>\n",
       "      <td>AMD</td>\n",
       "      <td>STK</td>\n",
       "      <td></td>\n",
       "      <td>0.0</td>\n",
       "      <td></td>\n",
       "      <td></td>\n",
       "      <td>EDGEA</td>\n",
       "      <td>NASDAQ</td>\n",
       "      <td>USD</td>\n",
       "      <td>AMD</td>\n",
       "      <td>SCM</td>\n",
       "      <td>False</td>\n",
       "      <td></td>\n",
       "      <td></td>\n",
       "      <td></td>\n",
       "      <td>None</td>\n",
       "      <td>None</td>\n",
       "    </tr>\n",
       "    <tr>\n",
       "      <th>11</th>\n",
       "      <td>4391</td>\n",
       "      <td>AMD</td>\n",
       "      <td>STK</td>\n",
       "      <td></td>\n",
       "      <td>0.0</td>\n",
       "      <td></td>\n",
       "      <td></td>\n",
       "      <td>BYX</td>\n",
       "      <td>NASDAQ</td>\n",
       "      <td>USD</td>\n",
       "      <td>AMD</td>\n",
       "      <td>SCM</td>\n",
       "      <td>False</td>\n",
       "      <td></td>\n",
       "      <td></td>\n",
       "      <td></td>\n",
       "      <td>None</td>\n",
       "      <td>None</td>\n",
       "    </tr>\n",
       "    <tr>\n",
       "      <th>12</th>\n",
       "      <td>4391</td>\n",
       "      <td>AMD</td>\n",
       "      <td>STK</td>\n",
       "      <td></td>\n",
       "      <td>0.0</td>\n",
       "      <td></td>\n",
       "      <td></td>\n",
       "      <td>PSX</td>\n",
       "      <td>NASDAQ</td>\n",
       "      <td>USD</td>\n",
       "      <td>AMD</td>\n",
       "      <td>SCM</td>\n",
       "      <td>False</td>\n",
       "      <td></td>\n",
       "      <td></td>\n",
       "      <td></td>\n",
       "      <td>None</td>\n",
       "      <td>None</td>\n",
       "    </tr>\n",
       "    <tr>\n",
       "      <th>13</th>\n",
       "      <td>32596680</td>\n",
       "      <td>AMD</td>\n",
       "      <td>STK</td>\n",
       "      <td></td>\n",
       "      <td>0.0</td>\n",
       "      <td></td>\n",
       "      <td></td>\n",
       "      <td>FWB</td>\n",
       "      <td>IBIS</td>\n",
       "      <td>EUR</td>\n",
       "      <td>AMD</td>\n",
       "      <td>USSTARS</td>\n",
       "      <td>False</td>\n",
       "      <td></td>\n",
       "      <td></td>\n",
       "      <td></td>\n",
       "      <td>None</td>\n",
       "      <td>None</td>\n",
       "    </tr>\n",
       "    <tr>\n",
       "      <th>14</th>\n",
       "      <td>32596680</td>\n",
       "      <td>AMD</td>\n",
       "      <td>STK</td>\n",
       "      <td></td>\n",
       "      <td>0.0</td>\n",
       "      <td></td>\n",
       "      <td></td>\n",
       "      <td>IBIS</td>\n",
       "      <td>IBIS</td>\n",
       "      <td>EUR</td>\n",
       "      <td>AMD</td>\n",
       "      <td>USSTARS</td>\n",
       "      <td>False</td>\n",
       "      <td></td>\n",
       "      <td></td>\n",
       "      <td></td>\n",
       "      <td>None</td>\n",
       "      <td>None</td>\n",
       "    </tr>\n",
       "    <tr>\n",
       "      <th>15</th>\n",
       "      <td>32596680</td>\n",
       "      <td>AMD</td>\n",
       "      <td>STK</td>\n",
       "      <td></td>\n",
       "      <td>0.0</td>\n",
       "      <td></td>\n",
       "      <td></td>\n",
       "      <td>SWB</td>\n",
       "      <td>IBIS</td>\n",
       "      <td>EUR</td>\n",
       "      <td>AMD</td>\n",
       "      <td>XETRA</td>\n",
       "      <td>False</td>\n",
       "      <td></td>\n",
       "      <td></td>\n",
       "      <td></td>\n",
       "      <td>None</td>\n",
       "      <td>None</td>\n",
       "    </tr>\n",
       "    <tr>\n",
       "      <th>16</th>\n",
       "      <td>48818298</td>\n",
       "      <td>AMD</td>\n",
       "      <td>STK</td>\n",
       "      <td></td>\n",
       "      <td>0.0</td>\n",
       "      <td></td>\n",
       "      <td></td>\n",
       "      <td>MEXI</td>\n",
       "      <td>MEXI</td>\n",
       "      <td>MXN</td>\n",
       "      <td>AMD</td>\n",
       "      <td>AMD</td>\n",
       "      <td>False</td>\n",
       "      <td></td>\n",
       "      <td></td>\n",
       "      <td></td>\n",
       "      <td>None</td>\n",
       "      <td>None</td>\n",
       "    </tr>\n",
       "    <tr>\n",
       "      <th>17</th>\n",
       "      <td>172603743</td>\n",
       "      <td>AMD</td>\n",
       "      <td>STK</td>\n",
       "      <td></td>\n",
       "      <td>0.0</td>\n",
       "      <td></td>\n",
       "      <td></td>\n",
       "      <td>EBS</td>\n",
       "      <td>EBS</td>\n",
       "      <td>CHF</td>\n",
       "      <td>AMD</td>\n",
       "      <td>AMD</td>\n",
       "      <td>False</td>\n",
       "      <td></td>\n",
       "      <td></td>\n",
       "      <td></td>\n",
       "      <td>None</td>\n",
       "      <td>None</td>\n",
       "    </tr>\n",
       "  </tbody>\n",
       "</table>\n",
       "</div>"
      ],
      "text/plain": [
       "        conId symbol secType lastTradeDateOrContractMonth  strike right  \\\n",
       "0        4391    AMD     STK                                  0.0         \n",
       "1    32596680    AMD     STK                                  0.0         \n",
       "2   172603743    AMD     STK                                  0.0         \n",
       "3        4391    AMD     STK                                  0.0         \n",
       "4        4391    AMD     STK                                  0.0         \n",
       "5        4391    AMD     STK                                  0.0         \n",
       "6        4391    AMD     STK                                  0.0         \n",
       "7        4391    AMD     STK                                  0.0         \n",
       "8        4391    AMD     STK                                  0.0         \n",
       "9        4391    AMD     STK                                  0.0         \n",
       "10       4391    AMD     STK                                  0.0         \n",
       "11       4391    AMD     STK                                  0.0         \n",
       "12       4391    AMD     STK                                  0.0         \n",
       "13   32596680    AMD     STK                                  0.0         \n",
       "14   32596680    AMD     STK                                  0.0         \n",
       "15   32596680    AMD     STK                                  0.0         \n",
       "16   48818298    AMD     STK                                  0.0         \n",
       "17  172603743    AMD     STK                                  0.0         \n",
       "\n",
       "   multiplier  exchange primaryExchange currency localSymbol tradingClass  \\\n",
       "0                 SMART          NASDAQ      USD         AMD          SCM   \n",
       "1                 SMART            IBIS      EUR         AMD      USSTARS   \n",
       "2                 SMART             EBS      CHF         AMD          AMD   \n",
       "3                   CHX          NASDAQ      USD         AMD          SCM   \n",
       "4                  ARCA          NASDAQ      USD         AMD          SCM   \n",
       "5                ISLAND          NASDAQ      USD         AMD          SCM   \n",
       "6              DRCTEDGE          NASDAQ      USD         AMD          SCM   \n",
       "7                   NSX          NASDAQ      USD         AMD          SCM   \n",
       "8                   BEX          NASDAQ      USD         AMD          SCM   \n",
       "9                  BATS          NASDAQ      USD         AMD          SCM   \n",
       "10                EDGEA          NASDAQ      USD         AMD          SCM   \n",
       "11                  BYX          NASDAQ      USD         AMD          SCM   \n",
       "12                  PSX          NASDAQ      USD         AMD          SCM   \n",
       "13                  FWB            IBIS      EUR         AMD      USSTARS   \n",
       "14                 IBIS            IBIS      EUR         AMD      USSTARS   \n",
       "15                  SWB            IBIS      EUR         AMD        XETRA   \n",
       "16                 MEXI            MEXI      MXN         AMD          AMD   \n",
       "17                  EBS             EBS      CHF         AMD          AMD   \n",
       "\n",
       "    includeExpired secIdType secId comboLegsDescrip comboLegs underComp  \n",
       "0            False                                       None      None  \n",
       "1            False                                       None      None  \n",
       "2            False                                       None      None  \n",
       "3            False                                       None      None  \n",
       "4            False                                       None      None  \n",
       "5            False                                       None      None  \n",
       "6            False                                       None      None  \n",
       "7            False                                       None      None  \n",
       "8            False                                       None      None  \n",
       "9            False                                       None      None  \n",
       "10           False                                       None      None  \n",
       "11           False                                       None      None  \n",
       "12           False                                       None      None  \n",
       "13           False                                       None      None  \n",
       "14           False                                       None      None  \n",
       "15           False                                       None      None  \n",
       "16           False                                       None      None  \n",
       "17           False                                       None      None  "
      ]
     },
     "execution_count": 5,
     "metadata": {},
     "output_type": "execute_result"
    }
   ],
   "source": [
    "util.df(contracts)"
   ]
  },
  {
   "cell_type": "markdown",
   "metadata": {},
   "source": [
    "Or use a dict comprehension of set comprehensions..."
   ]
  },
  {
   "cell_type": "code",
   "execution_count": 6,
   "metadata": {},
   "outputs": [
    {
     "data": {
      "text/plain": [
       "{'comboLegs': {None},\n",
       " 'comboLegsDescrip': {''},\n",
       " 'conId': {4391, 32596680, 48818298, 172603743},\n",
       " 'currency': {'CHF', 'EUR', 'MXN', 'USD'},\n",
       " 'exchange': {'ARCA',\n",
       "  'BATS',\n",
       "  'BEX',\n",
       "  'BYX',\n",
       "  'CHX',\n",
       "  'DRCTEDGE',\n",
       "  'EBS',\n",
       "  'EDGEA',\n",
       "  'FWB',\n",
       "  'IBIS',\n",
       "  'ISLAND',\n",
       "  'MEXI',\n",
       "  'NSX',\n",
       "  'PSX',\n",
       "  'SMART',\n",
       "  'SWB'},\n",
       " 'includeExpired': {False},\n",
       " 'lastTradeDateOrContractMonth': {''},\n",
       " 'localSymbol': {'AMD'},\n",
       " 'multiplier': {''},\n",
       " 'primaryExchange': {'EBS', 'IBIS', 'MEXI', 'NASDAQ'},\n",
       " 'right': {''},\n",
       " 'secId': {''},\n",
       " 'secIdType': {''},\n",
       " 'secType': {'STK'},\n",
       " 'strike': {0.0},\n",
       " 'symbol': {'AMD'},\n",
       " 'tradingClass': {'AMD', 'SCM', 'USSTARS', 'XETRA'},\n",
       " 'underComp': {None}}"
      ]
     },
     "execution_count": 6,
     "metadata": {},
     "output_type": "execute_result"
    }
   ],
   "source": [
    "{key: set(getattr(c, key) for c in contracts) for key in Contract.defaults}"
   ]
  },
  {
   "cell_type": "markdown",
   "metadata": {},
   "source": [
    "We can see from this that AMD trades in different currencies on different exchanges.\n",
    "Suppose we want the one in USD on the SMART exchange. The AMD contract is adjusted to\n",
    "reflect that and becomes unique:"
   ]
  },
  {
   "cell_type": "code",
   "execution_count": 7,
   "metadata": {},
   "outputs": [
    {
     "data": {
      "text/plain": [
       "1"
      ]
     },
     "execution_count": 7,
     "metadata": {},
     "output_type": "execute_result"
    }
   ],
   "source": [
    "amd = Stock('AMD', 'SMART', 'USD')\n",
    "\n",
    "len(ib.reqContractDetails(amd))"
   ]
  },
  {
   "cell_type": "markdown",
   "metadata": {},
   "source": [
    "Lets try the same for Intel:"
   ]
  },
  {
   "cell_type": "code",
   "execution_count": 8,
   "metadata": {},
   "outputs": [
    {
     "data": {
      "text/plain": [
       "1"
      ]
     },
     "execution_count": 8,
     "metadata": {},
     "output_type": "execute_result"
    }
   ],
   "source": [
    "intc = Stock('INTC', 'SMART', 'USD')\n",
    "\n",
    "len(ib.reqContractDetails(intc))"
   ]
  },
  {
   "cell_type": "markdown",
   "metadata": {},
   "source": [
    "Let's try a non-existing contract:"
   ]
  },
  {
   "cell_type": "code",
   "execution_count": 9,
   "metadata": {},
   "outputs": [
    {
     "name": "stderr",
     "output_type": "stream",
     "text": [
      "ERROR:Wrapper:Error 200, reqId 5: No security definition has been found for the request\n"
     ]
    },
    {
     "data": {
      "text/plain": [
       "0"
      ]
     },
     "execution_count": 9,
     "metadata": {},
     "output_type": "execute_result"
    }
   ],
   "source": [
    "xxx = Stock('XXX', 'SMART', 'USD')\n",
    "\n",
    "len(ib.reqContractDetails(xxx))"
   ]
  },
  {
   "cell_type": "markdown",
   "metadata": {},
   "source": [
    "or a Forex contract"
   ]
  },
  {
   "cell_type": "code",
   "execution_count": 10,
   "metadata": {},
   "outputs": [
    {
     "data": {
      "text/plain": [
       "1"
      ]
     },
     "execution_count": 10,
     "metadata": {},
     "output_type": "execute_result"
    }
   ],
   "source": [
    "eurusd = Forex('EURUSD')\n",
    "\n",
    "len(ib.reqContractDetails(eurusd))"
   ]
  },
  {
   "cell_type": "markdown",
   "metadata": {},
   "source": [
    "With the ``qualifyContracts`` method the extra information that is send back\n",
    "from the contract details request is used to fill in the original contracts.\n",
    "\n",
    "Lets do that with ``amd`` and compare before and aftwards:"
   ]
  },
  {
   "cell_type": "code",
   "execution_count": 11,
   "metadata": {},
   "outputs": [
    {
     "name": "stdout",
     "output_type": "stream",
     "text": [
      "amd before: Stock(symbol='AMD', exchange='SMART', currency='USD') \n",
      "\n",
      "amd after: Stock(conId=4391, symbol='AMD', exchange='SMART', primaryExchange='NASDAQ', currency='USD', localSymbol='AMD', tradingClass='SCM')\n"
     ]
    }
   ],
   "source": [
    "print('amd before:', amd, '\\n')\n",
    "\n",
    "ib.qualifyContracts(amd)\n",
    "\n",
    "print('amd after:', amd)"
   ]
  },
  {
   "cell_type": "markdown",
   "metadata": {},
   "source": [
    "**TIP:** When printing a contract, the output can be copy-pasted and it will be valid Python code.\n",
    "\n",
    "The ``conId`` that is returned can by itself be used to uniquely specify a contract:"
   ]
  },
  {
   "cell_type": "code",
   "execution_count": 12,
   "metadata": {},
   "outputs": [
    {
     "data": {
      "text/plain": [
       "True"
      ]
     },
     "execution_count": 12,
     "metadata": {},
     "output_type": "execute_result"
    }
   ],
   "source": [
    "contract_4391 = Contract(conId=4391)\n",
    "\n",
    "ib.qualifyContracts(contract_4391)\n",
    "\n",
    "contract_4391 == amd"
   ]
  },
  {
   "cell_type": "markdown",
   "metadata": {},
   "source": [
    "A whole bunch of contracts can be qualified at the same time. A list of all the successfull ones is returned:"
   ]
  },
  {
   "cell_type": "code",
   "execution_count": 13,
   "metadata": {},
   "outputs": [
    {
     "name": "stderr",
     "output_type": "stream",
     "text": [
      "ERROR:Wrapper:Error 200, reqId 11: No security definition has been found for the request\n",
      "ERROR:IB:Unknown contract: Stock(symbol='XXX', exchange='SMART', currency='USD')\n"
     ]
    },
    {
     "name": "stdout",
     "output_type": "stream",
     "text": [
      "is intc qualified? True\n",
      "is xxx qualified? False\n"
     ]
    }
   ],
   "source": [
    "qualContracts = ib.qualifyContracts(amd, intc, xxx, eurusd)\n",
    "\n",
    "print('is intc qualified?', intc in qualContracts)\n",
    "print('is xxx qualified?', xxx in qualContracts)"
   ]
  },
  {
   "cell_type": "markdown",
   "metadata": {},
   "source": [
    "There is also a new API function to request contracts that match a pattern:"
   ]
  },
  {
   "cell_type": "code",
   "execution_count": 14,
   "metadata": {},
   "outputs": [
    {
     "data": {
      "text/plain": [
       "[Contract(conId=172096099, symbol='INTELLECT', secType='STK', primaryExchange='NSE', currency='INR'),\n",
       " Contract(conId=38709539, symbol='INTC', secType='STK', primaryExchange='MEXI', currency='MXN'),\n",
       " Contract(conId=12177196, symbol='INL', secType='STK', primaryExchange='FWB', currency='EUR'),\n",
       " Contract(conId=11463493, symbol='INTC', secType='STK', primaryExchange='AEB', currency='USD'),\n",
       " Contract(conId=270639, symbol='INTC', secType='STK', primaryExchange='NASDAQ.NMS', currency='USD'),\n",
       " Contract(conId=12178234, symbol='INTC', secType='STK', primaryExchange='EBS', currency='CHF'),\n",
       " Contract(conId=8988636, symbol='4335', secType='STK', primaryExchange='SEHK', currency='HKD'),\n",
       " Contract(conId=165301734, symbol='601877', secType='STK', primaryExchange='SEHKNTL', currency='CNH'),\n",
       " Contract(conId=257311331, symbol='002050', secType='STK', primaryExchange='SEHKSZSE', currency='CNH'),\n",
       " Contract(conId=257311579, symbol='002711', secType='STK', primaryExchange='SEHKSZSE', currency='CNH'),\n",
       " Contract(conId=257312713, symbol='002421', secType='STK', primaryExchange='SEHKSZSE', currency='CNH'),\n",
       " Contract(conId=257311625, symbol='000816', secType='STK', primaryExchange='SEHKSZSE', currency='CNH'),\n",
       " Contract(conId=261730485, symbol='002402', secType='STK', primaryExchange='SEHKSZSE', currency='CNH'),\n",
       " Contract(conId=257312311, symbol='002031', secType='STK', primaryExchange='SEHKSZSE', currency='CNH'),\n",
       " Contract(conId=257312470, symbol='002097', secType='STK', primaryExchange='SEHKSZSE', currency='CNH'),\n",
       " Contract(conId=130614404, symbol='IQNT', secType='STK', primaryExchange='VALUE', currency='USD')]"
      ]
     },
     "execution_count": 14,
     "metadata": {},
     "output_type": "execute_result"
    }
   ],
   "source": [
    "matches = ib.reqMatchingSymbols('Intel')\n",
    "matchContracts = [m.contract for m in matches]\n",
    "\n",
    "matchContracts"
   ]
  },
  {
   "cell_type": "code",
   "execution_count": 15,
   "metadata": {},
   "outputs": [
    {
     "data": {
      "text/plain": [
       "True"
      ]
     },
     "execution_count": 15,
     "metadata": {},
     "output_type": "execute_result"
    }
   ],
   "source": [
    "intc in matchContracts"
   ]
  },
  {
   "cell_type": "code",
   "execution_count": null,
   "metadata": {
    "collapsed": true
   },
   "outputs": [],
   "source": []
  }
 ],
 "metadata": {
  "kernelspec": {
   "display_name": "Python 3",
   "language": "python",
   "name": "python3"
  },
  "language_info": {
   "codemirror_mode": {
    "name": "ipython",
    "version": 3
   },
   "file_extension": ".py",
   "mimetype": "text/x-python",
   "name": "python",
   "nbconvert_exporter": "python",
   "pygments_lexer": "ipython3",
   "version": "3.6.1"
  }
 },
 "nbformat": 4,
 "nbformat_minor": 2
}
